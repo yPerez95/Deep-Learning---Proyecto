{
 "cells": [
  {
   "cell_type": "markdown",
   "metadata": {},
   "source": [
    "## **Modelo CNN Simple - ResNet18 + Dropout + Soft Attention Espacial** "
   ]
  },
  {
   "cell_type": "code",
   "execution_count": 1,
   "metadata": {},
   "outputs": [],
   "source": [
    "import torch\n",
    "import os\n",
    "import pandas as pd\n",
    "import seaborn as sns\n",
    "import torch.optim as optim\n",
    "import torch.nn as nn\n",
    "import torch.nn.functional as F\n",
    "import torchvision.models as models\n",
    "import matplotlib.pyplot as plt\n",
    "import numpy as np\n",
    "from tqdm import tqdm\n",
    "from datetime import datetime\n",
    "from torchvision import transforms\n",
    "from torch.utils.data import Subset\n",
    "from torch.utils.data import Dataset, DataLoader\n",
    "from torch.utils.tensorboard import SummaryWriter\n",
    "from sklearn.model_selection import train_test_split\n",
    "from sklearn.metrics import confusion_matrix\n",
    "from PIL import Image"
   ]
  },
  {
   "cell_type": "markdown",
   "metadata": {},
   "source": [
    "## Definición de transformación de los datos de entrada"
   ]
  },
  {
   "cell_type": "code",
   "execution_count": 2,
   "metadata": {},
   "outputs": [],
   "source": [
    "# Definicion de parámetros para la modificación de imágenes\n",
    "crop_size = (64, 64)\n",
    "mean = [0.5, 0.5, 0.5]\n",
    "std = [0.5, 0.5, 0.5]\n",
    "rotation_grade = 10"
   ]
  },
  {
   "cell_type": "code",
   "execution_count": 3,
   "metadata": {},
   "outputs": [],
   "source": [
    "transform = transforms.Compose([\n",
    "        transforms.Resize(crop_size),\n",
    "        transforms.RandomHorizontalFlip(),\n",
    "        transforms.RandomRotation(rotation_grade),\n",
    "        transforms.CenterCrop(crop_size),\n",
    "        transforms.ToTensor(),\n",
    "        transforms.Normalize(mean=mean, std=std)\n",
    "    ])"
   ]
  },
  {
   "cell_type": "markdown",
   "metadata": {},
   "source": [
    "## Definición del dataset"
   ]
  },
  {
   "cell_type": "code",
   "execution_count": 4,
   "metadata": {},
   "outputs": [],
   "source": [
    "class CustomDataset(Dataset):\n",
    "    def __init__(self, csv_file, img_dir, transform=None):\n",
    "        \"\"\"\n",
    "        Args:\n",
    "            csv_file (str): Ruta al archivo CSV con las imágenes y sus etiquetas.\n",
    "            img_dir (str): Ruta al directorio que contiene las imágenes.\n",
    "            transform (callable, optional): Transformaciones que se aplican a las imágenes.\n",
    "        \"\"\"\n",
    "        self.img_labels = pd.read_csv(csv_file)  # Leer el archivo CSV con las etiquetas\n",
    "        self.img_dir = img_dir  # Ruta donde están las imágenes\n",
    "        self.transform = transform  # Transformaciones a aplicar\n",
    "\n",
    "        self.class_to_idx = {class_name: idx for idx, class_name in enumerate(self.img_labels['diagnosis'].unique())}\n",
    "    def __len__(self):\n",
    "        \"\"\"Retorna el número total de imágenes en el dataset\"\"\"\n",
    "        return len(self.img_labels)\n",
    "\n",
    "    def __getitem__(self, idx):\n",
    "        \"\"\"Obtiene una imagen y su etiqueta\"\"\"\n",
    "        img_name = os.path.join(self.img_dir, self.img_labels.iloc[idx, 0])  # Nombre de la imagen\n",
    "        image = Image.open(img_name)  # Abrir la imagen\n",
    "        label = self.class_to_idx[self.img_labels.iloc[idx, 3]] # Etiqueta asociada\n",
    "\n",
    "        if self.transform:\n",
    "            image = self.transform(image)  # Aplicar transformaciones si es necesario\n",
    "\n",
    "        return image, label"
   ]
  },
  {
   "cell_type": "markdown",
   "metadata": {},
   "source": [
    "## Rutas de archivos"
   ]
  },
  {
   "cell_type": "code",
   "execution_count": 5,
   "metadata": {},
   "outputs": [],
   "source": [
    "# Leer el CSV\n",
    "csvRoute=\"./content/GPTeam-DeepLearning/Dataset/bcn_20k_train.csv\"\n",
    "imagesFolderRoute = \"./content/GPTeam-DeepLearning/Dataset/bcn_20k_train/\"\n",
    "trainDataJsonRoute = \"./content/GPTeam-DeepLearning/Dataset/data_train_resnet18_softAtt.json\"\n",
    "validationDataJsonRoute= \"./content/GPTeam-DeepLearning/Dataset/data_val_resnet18_softAtt.json\"\n",
    "filteredCsvRoute = \"./content/GPTeam-DeepLearning/Dataset/bcn_20k_train_filtrado.csv\"\n",
    "logsRoute = \"./runs\"\n",
    "savedParametersRoute = \"./saved_models_parameters/Parameters\"\n",
    "savedModelsRoute = \"./saved_models_parameters/Models\"\n",
    "savedResultsRoute = \"./results\""
   ]
  },
  {
   "cell_type": "markdown",
   "metadata": {},
   "source": [
    "## Generación del dataset de entrenamiento y validación"
   ]
  },
  {
   "cell_type": "markdown",
   "metadata": {},
   "source": [
    "***Carga del dataframe***"
   ]
  },
  {
   "cell_type": "code",
   "execution_count": 6,
   "metadata": {},
   "outputs": [
    {
     "data": {
      "text/html": [
       "<div>\n",
       "<style scoped>\n",
       "    .dataframe tbody tr th:only-of-type {\n",
       "        vertical-align: middle;\n",
       "    }\n",
       "\n",
       "    .dataframe tbody tr th {\n",
       "        vertical-align: top;\n",
       "    }\n",
       "\n",
       "    .dataframe thead th {\n",
       "        text-align: right;\n",
       "    }\n",
       "</style>\n",
       "<table border=\"1\" class=\"dataframe\">\n",
       "  <thead>\n",
       "    <tr style=\"text-align: right;\">\n",
       "      <th></th>\n",
       "      <th>bcn_filename</th>\n",
       "      <th>age_approx</th>\n",
       "      <th>anatom_site_general</th>\n",
       "      <th>diagnosis</th>\n",
       "      <th>lesion_id</th>\n",
       "      <th>capture_date</th>\n",
       "      <th>sex</th>\n",
       "      <th>split</th>\n",
       "    </tr>\n",
       "  </thead>\n",
       "  <tbody>\n",
       "    <tr>\n",
       "      <th>0</th>\n",
       "      <td>BCN_0000000001.jpg</td>\n",
       "      <td>55.0</td>\n",
       "      <td>anterior torso</td>\n",
       "      <td>MEL</td>\n",
       "      <td>BCN_0003884</td>\n",
       "      <td>2012-05-16</td>\n",
       "      <td>male</td>\n",
       "      <td>train</td>\n",
       "    </tr>\n",
       "    <tr>\n",
       "      <th>1</th>\n",
       "      <td>BCN_0000000003.jpg</td>\n",
       "      <td>50.0</td>\n",
       "      <td>anterior torso</td>\n",
       "      <td>MEL</td>\n",
       "      <td>BCN_0000019</td>\n",
       "      <td>2015-07-09</td>\n",
       "      <td>female</td>\n",
       "      <td>train</td>\n",
       "    </tr>\n",
       "    <tr>\n",
       "      <th>2</th>\n",
       "      <td>BCN_0000000004.jpg</td>\n",
       "      <td>85.0</td>\n",
       "      <td>head/neck</td>\n",
       "      <td>SCC</td>\n",
       "      <td>BCN_0003499</td>\n",
       "      <td>2015-11-23</td>\n",
       "      <td>male</td>\n",
       "      <td>train</td>\n",
       "    </tr>\n",
       "    <tr>\n",
       "      <th>3</th>\n",
       "      <td>BCN_0000000006.jpg</td>\n",
       "      <td>60.0</td>\n",
       "      <td>anterior torso</td>\n",
       "      <td>NV</td>\n",
       "      <td>BCN_0003316</td>\n",
       "      <td>2015-06-16</td>\n",
       "      <td>male</td>\n",
       "      <td>train</td>\n",
       "    </tr>\n",
       "    <tr>\n",
       "      <th>4</th>\n",
       "      <td>BCN_0000000010.jpg</td>\n",
       "      <td>30.0</td>\n",
       "      <td>anterior torso</td>\n",
       "      <td>BCC</td>\n",
       "      <td>BCN_0004874</td>\n",
       "      <td>2014-02-18</td>\n",
       "      <td>female</td>\n",
       "      <td>train</td>\n",
       "    </tr>\n",
       "  </tbody>\n",
       "</table>\n",
       "</div>"
      ],
      "text/plain": [
       "         bcn_filename  age_approx anatom_site_general diagnosis    lesion_id  \\\n",
       "0  BCN_0000000001.jpg        55.0      anterior torso       MEL  BCN_0003884   \n",
       "1  BCN_0000000003.jpg        50.0      anterior torso       MEL  BCN_0000019   \n",
       "2  BCN_0000000004.jpg        85.0           head/neck       SCC  BCN_0003499   \n",
       "3  BCN_0000000006.jpg        60.0      anterior torso        NV  BCN_0003316   \n",
       "4  BCN_0000000010.jpg        30.0      anterior torso       BCC  BCN_0004874   \n",
       "\n",
       "  capture_date     sex  split  \n",
       "0   2012-05-16    male  train  \n",
       "1   2015-07-09  female  train  \n",
       "2   2015-11-23    male  train  \n",
       "3   2015-06-16    male  train  \n",
       "4   2014-02-18  female  train  "
      ]
     },
     "execution_count": 6,
     "metadata": {},
     "output_type": "execute_result"
    }
   ],
   "source": [
    "df = pd.read_csv(csvRoute)\n",
    "df.head()"
   ]
  },
  {
   "cell_type": "markdown",
   "metadata": {},
   "source": [
    "***Exclusión de clases menos representativas***"
   ]
  },
  {
   "cell_type": "code",
   "execution_count": 7,
   "metadata": {},
   "outputs": [
    {
     "data": {
      "text/plain": [
       "array(['MEL', 'NV', 'BCC', 'BKL', 'AK'], dtype=object)"
      ]
     },
     "execution_count": 7,
     "metadata": {},
     "output_type": "execute_result"
    }
   ],
   "source": [
    "df_original = df.copy()\n",
    "#Definir las clases que deseas excluir por su nombre\n",
    "clases_a_excluir = ['SCC', 'DF', 'VASC']  # Sustituye estos nombres por las clases que quieres excluir\n",
    "\n",
    "# Filtrar el DataFrame para excluir las clases especificadas\n",
    "df_filtrado = df[~df['diagnosis'].isin(clases_a_excluir)]\n",
    "df_filtrado.to_csv(filteredCsvRoute, index=False)\n",
    "df = df_filtrado.copy()\n",
    "df_filtrado['diagnosis'].unique()"
   ]
  },
  {
   "cell_type": "markdown",
   "metadata": {},
   "source": [
    "***Busqueda de spliteo adecuado (sin lesson_id iguales para dataset de entrenamiento y validación)***"
   ]
  },
  {
   "cell_type": "code",
   "execution_count": 8,
   "metadata": {},
   "outputs": [
    {
     "name": "stdout",
     "output_type": "stream",
     "text": [
      "Random state encontrado: 25\n"
     ]
    }
   ],
   "source": [
    "# Obtener los valores únicos de lesion_id\n",
    "unique_lesions = df['lesion_id'].unique()\n",
    "\n",
    "# Búsqueda del mejor split\n",
    "best_train, best_test = None, None\n",
    "target_ratio = 0.8 * len(df)\n",
    "\n",
    "for seed in range(1000):  # Exploramos diferentes random_state\n",
    "    train_ids, test_ids = train_test_split(unique_lesions, test_size=0.2, random_state=seed)\n",
    "\n",
    "    x_train = df[df['lesion_id'].isin(train_ids)]\n",
    "    x_test = df[df['lesion_id'].isin(test_ids)]\n",
    "\n",
    "    # Verificar que la cantidad de filas sea la correcta Y que los lesion_id no se repitan\n",
    "    if abs(len(x_train) - target_ratio) < 1 and set(x_train['lesion_id']).isdisjoint(set(x_test['lesion_id'])):\n",
    "        best_train, best_test = x_train, x_test\n",
    "        print(f\"Random state encontrado: {seed}\")\n",
    "        break\n",
    "\n",
    "# Si no se encontró un split válido, lanzar error\n",
    "if best_train is None or best_test is None:\n",
    "    raise ValueError(\"No se encontró un split válido después de 1000 intentos\")\n",
    "\n",
    "# Asignar los mejores valores encontrados\n",
    "train_df, val_df = best_train, best_test\n",
    "\n",
    "assert set(train_df['lesion_id']).isdisjoint(set(val_df['lesion_id'])), \"Error: Hay lesion_id repetidos entre train_df y val_df\""
   ]
  },
  {
   "cell_type": "code",
   "execution_count": 9,
   "metadata": {},
   "outputs": [],
   "source": [
    "# VERIFICACION ADICIONAL DE NO REPETICION DE LESSIONID EN AMBOS DATASETS\n",
    "for idtrain in train_df['lesion_id'].unique():\n",
    "    for idval in val_df['lesion_id'].unique():\n",
    "        if idtrain.strip() == idval.strip():\n",
    "            print(\"Coincidence found\")"
   ]
  },
  {
   "cell_type": "markdown",
   "metadata": {},
   "source": [
    "***Carga de las imágenes***"
   ]
  },
  {
   "cell_type": "code",
   "execution_count": 10,
   "metadata": {},
   "outputs": [],
   "source": [
    "# Crear el dataset de entrenamiento y validación\n",
    "train_dataset = CustomDataset(csv_file=filteredCsvRoute, img_dir=imagesFolderRoute, transform=transform)\n",
    "val_dataset = CustomDataset(csv_file=filteredCsvRoute, img_dir=imagesFolderRoute, transform=transform)\n",
    "\n",
    "# Actualizar los datasets con los subconjuntos correspondientes\n",
    "train_dataset.img_labels = train_df\n",
    "val_dataset.img_labels = val_df"
   ]
  },
  {
   "cell_type": "code",
   "execution_count": 11,
   "metadata": {},
   "outputs": [
    {
     "name": "stdout",
     "output_type": "stream",
     "text": [
      "Cantidad de imagenes faltantes: 0\n"
     ]
    }
   ],
   "source": [
    "# Verificación de la carga de todos los arhivos\n",
    "archivos_en_directorio = []\n",
    "# Recorrer todos los archivos en el directorio\n",
    "for archivo in os.listdir(imagesFolderRoute):\n",
    "    if os.path.isfile(os.path.join(imagesFolderRoute, archivo)):\n",
    "        archivos_en_directorio.append(archivo)\n",
    "\n",
    "# La columna del DataFrame con los nombres de los archivos\n",
    "column_files = df['bcn_filename']\n",
    "# Convertir las listas a conjuntos para realizar la diferencia\n",
    "set_column_files = set(column_files)\n",
    "set_archivos_en_drive = set(archivos_en_directorio)\n",
    "valores_faltantes = set_column_files - set_archivos_en_drive\n",
    "\n",
    "print(f\"Cantidad de imagenes faltantes: {len(valores_faltantes)}\")"
   ]
  },
  {
   "cell_type": "markdown",
   "metadata": {},
   "source": [
    "## **Guardado de los datasets divididos inicialmente**"
   ]
  },
  {
   "cell_type": "markdown",
   "metadata": {},
   "source": [
    "**Guardado de data de dataframes de entrenamiento y validación**"
   ]
  },
  {
   "cell_type": "code",
   "execution_count": 12,
   "metadata": {},
   "outputs": [],
   "source": [
    "train_df.to_json(trainDataJsonRoute, orient='records', lines=True)\n",
    "val_df.to_json(validationDataJsonRoute, orient='records', lines=True)"
   ]
  },
  {
   "cell_type": "markdown",
   "metadata": {},
   "source": [
    "**Definición del Modelo**"
   ]
  },
  {
   "cell_type": "code",
   "execution_count": 13,
   "metadata": {},
   "outputs": [],
   "source": [
    "class TransformerModule(nn.Module):\n",
    "    \"\"\"\n",
    "    Módulo transformer para procesar secuencias, usando batch_first.\n",
    "    \"\"\"\n",
    "    def __init__(self, seq_length, d_model=256, nhead=8, num_layers=2, dropout=0.5):\n",
    "        super(TransformerModule, self).__init__()\n",
    "        self.pos_embedding = nn.Parameter(torch.randn(seq_length, d_model))\n",
    "        encoder_layer = nn.TransformerEncoderLayer(d_model=d_model, nhead=nhead, dropout=dropout, batch_first=True)\n",
    "        self.transformer_encoder = nn.TransformerEncoder(encoder_layer, num_layers=num_layers)\n",
    "        self.dropout = nn.Dropout(dropout)\n",
    "\n",
    "    def forward(self, x):\n",
    "        # x: (B, seq_length, d_model)\n",
    "        x = x + self.pos_embedding.unsqueeze(0)\n",
    "        x = self.transformer_encoder(x)  # Ahora sin necesidad de transponer\n",
    "        x = x.mean(dim=1)\n",
    "        x = self.dropout(x)\n",
    "        return x\n",
    "\n",
    "class CNNTransformerClassifier(nn.Module):\n",
    "    \"\"\"\n",
    "    Modelo híbrido que integra una CNN de 4 capas (divididas en 2 bloques con pooling)\n",
    "    con un módulo Transformer. La salida final es una clasificación en 5 clases.\n",
    "    Se aplican BatchNorm, Dropout y se inicializan pesos con Kaiming.\n",
    "    \"\"\"\n",
    "    def __init__(self, num_classes=5, dropout=0.5):\n",
    "        super(CNNTransformerClassifier, self).__init__()\n",
    "        # Bloque 1\n",
    "        self.conv1 = nn.Conv2d(3, 32, kernel_size=3, padding=1)\n",
    "        self.bn1   = nn.BatchNorm2d(32)\n",
    "        self.conv2 = nn.Conv2d(32, 64, kernel_size=3, padding=1)\n",
    "        self.bn2   = nn.BatchNorm2d(64)\n",
    "        self.pool1 = nn.MaxPool2d(kernel_size=2, stride=2)  # 64x64 -> 32x32\n",
    "\n",
    "        # Bloque 2\n",
    "        self.conv3 = nn.Conv2d(64, 128, kernel_size=3, padding=1)\n",
    "        self.bn3   = nn.BatchNorm2d(128)\n",
    "        self.conv4 = nn.Conv2d(128, 256, kernel_size=3, padding=1)\n",
    "        self.bn4   = nn.BatchNorm2d(256)\n",
    "        self.pool2 = nn.MaxPool2d(kernel_size=2, stride=2)  # 32x32 -> 16x16\n",
    "\n",
    "        # Datos para el transformer\n",
    "        self.feature_map_size = 16  # luego de pool2 (16x16)\n",
    "        self.seq_length = self.feature_map_size * self.feature_map_size  # 256 tokens\n",
    "        self.d_model = 256  # dimensión de cada token\n",
    "\n",
    "        # Módulo Transformer\n",
    "        self.transformer = TransformerModule(seq_length=self.seq_length, d_model=self.d_model, nhead=8, num_layers=2, dropout=dropout)\n",
    "\n",
    "        # Capa final para clasificación\n",
    "        self.fc = nn.Linear(self.d_model, num_classes)\n",
    "        self.dropout = nn.Dropout(dropout)\n",
    "\n",
    "        self._initialize_weights()\n",
    "\n",
    "    def _initialize_weights(self):\n",
    "        for m in self.modules():\n",
    "            if isinstance(m, nn.Conv2d):\n",
    "                nn.init.kaiming_normal_(m.weight, mode='fan_out', nonlinearity='relu')\n",
    "                if m.bias is not None:\n",
    "                    nn.init.constant_(m.bias, 0)\n",
    "            elif isinstance(m, nn.Linear):\n",
    "                nn.init.kaiming_normal_(m.weight, nonlinearity='relu')\n",
    "                if m.bias is not None:\n",
    "                    nn.init.constant_(m.bias, 0)\n",
    "            elif isinstance(m, nn.BatchNorm2d):\n",
    "                nn.init.constant_(m.weight, 1)\n",
    "                nn.init.constant_(m.bias, 0)\n",
    "\n",
    "    def forward(self, x):\n",
    "        # Bloque 1\n",
    "        x = F.relu(self.bn1(self.conv1(x)))\n",
    "        x = F.relu(self.bn2(self.conv2(x)))\n",
    "        x = self.pool1(x)\n",
    "        # Bloque 2\n",
    "        x = F.relu(self.bn3(self.conv3(x)))\n",
    "        x = F.relu(self.bn4(self.conv4(x)))\n",
    "        x = self.pool2(x)  # x: (B, 256, 16, 16)\n",
    "\n",
    "        B, C, H, W = x.size()\n",
    "        # Reorganizar para formar secuencia: (B, tokens, d_model)\n",
    "        x = x.view(B, C, -1)    # (B, 256, 256)\n",
    "        x = x.transpose(1, 2)   # (B, 256, 256)\n",
    "\n",
    "        # Procesar con el Transformer\n",
    "        x = self.transformer(x)  # (B, d_model)\n",
    "        x = self.dropout(x)\n",
    "        logits = self.fc(x)\n",
    "        return logits\n"
   ]
  },
  {
   "cell_type": "markdown",
   "metadata": {},
   "source": [
    "# Visualización de la ejecución del modelo"
   ]
  },
  {
   "cell_type": "markdown",
   "metadata": {},
   "source": [
    "Ejecutar desde cmd lo siguiente para ver desde el navegador el menú de tensorboard: tensorboard --logdir=runs"
   ]
  },
  {
   "cell_type": "code",
   "execution_count": 14,
   "metadata": {},
   "outputs": [
    {
     "data": {
      "text/plain": [
       "Reusing TensorBoard on port 6007 (pid 22044), started 1 day, 1:32:49 ago. (Use '!kill 22044' to kill it.)"
      ]
     },
     "metadata": {},
     "output_type": "display_data"
    },
    {
     "data": {
      "text/html": [
       "\n",
       "      <iframe id=\"tensorboard-frame-79ccd19c04a66514\" width=\"100%\" height=\"800\" frameborder=\"0\">\n",
       "      </iframe>\n",
       "      <script>\n",
       "        (function() {\n",
       "          const frame = document.getElementById(\"tensorboard-frame-79ccd19c04a66514\");\n",
       "          const url = new URL(\"http://localhost\");\n",
       "          const port = 6007;\n",
       "          if (port) {\n",
       "            url.port = port;\n",
       "          }\n",
       "          frame.src = url;\n",
       "        })();\n",
       "      </script>\n",
       "    "
      ],
      "text/plain": [
       "<IPython.core.display.HTML object>"
      ]
     },
     "metadata": {},
     "output_type": "display_data"
    }
   ],
   "source": [
    "%load_ext tensorboard\n",
    "%tensorboard --logdir runs"
   ]
  },
  {
   "cell_type": "markdown",
   "metadata": {},
   "source": [
    "## **Entrenamiento y validación del modelo**"
   ]
  },
  {
   "cell_type": "markdown",
   "metadata": {},
   "source": [
    "**Definición de gráficas adicionales a emplear**"
   ]
  },
  {
   "cell_type": "code",
   "execution_count": 15,
   "metadata": {},
   "outputs": [],
   "source": [
    "# Función para registrar el heatmap (matriz de confusión)\n",
    "def log_heatmap(writer, epoch, ground_truth, predictions, labels):\n",
    "    # Calcula la matriz de confusión usando el orden de las etiquetas\n",
    "    cm = confusion_matrix(ground_truth, predictions, labels=range(len(labels)))\n",
    "    \n",
    "    # Crear la figura\n",
    "    fig, ax = plt.subplots(figsize=(8, 6))\n",
    "    sns.heatmap(cm, annot=True, fmt=\"d\", cmap=\"Blues\",\n",
    "                xticklabels=labels, yticklabels=labels, ax=ax)\n",
    "    ax.set_xlabel(\"Predicción\")\n",
    "    ax.set_ylabel(\"Groundtruth\")\n",
    "    ax.set_title(\"Matriz de Confusión\")\n",
    "    \n",
    "    # Registrar la figura en TensorBoard\n",
    "    writer.add_figure(\"Heatmap\", fig, global_step=epoch)\n",
    "    plt.close(fig)\n",
    "\n",
    "# Función para registrar la grilla 2x2 de TP, FP, TN, FN (para clasificación binaria)\n",
    "def log_values_predicted(writer, epoch, ground_truth, predictions):\n",
    "    # Calcular la matriz de confusión\n",
    "    cm = confusion_matrix(ground_truth, predictions, labels=[0, 1])\n",
    "    \n",
    "    # Crear anotaciones combinando etiqueta y valor\n",
    "    annot = np.array([\n",
    "        [f\"TN\\n{cm[0,0]}\", f\"FP\\n{cm[0,1]}\"],\n",
    "        [f\"FN\\n{cm[1,0]}\", f\"TP\\n{cm[1,1]}\"]\n",
    "    ])\n",
    "    \n",
    "    # Crear el heatmap\n",
    "    fig, ax = plt.subplots(figsize=(6, 5))\n",
    "    sns.heatmap(cm, annot=annot, fmt=\"\", cmap=\"Blues\",\n",
    "                xticklabels=[\"False\", \"True\"],\n",
    "                yticklabels=[\"False\", \"True\"],\n",
    "                cbar=True, ax=ax)\n",
    "    ax.set_xlabel(\"Eje Predicho (False/True)\")\n",
    "    ax.set_ylabel(\"Eje Verdadero (False/True)\")\n",
    "    ax.set_title(\"Predicción de valores\")\n",
    "    \n",
    "    # Registrar la figura en TensorBoard\n",
    "    writer.add_figure(\"Predicción de valores\", fig, global_step=epoch)\n",
    "    plt.close(fig)"
   ]
  },
  {
   "cell_type": "markdown",
   "metadata": {},
   "source": [
    "**Seteo del dispositivo a usar**"
   ]
  },
  {
   "cell_type": "code",
   "execution_count": 16,
   "metadata": {},
   "outputs": [
    {
     "name": "stdout",
     "output_type": "stream",
     "text": [
      "Dispositivo utilizado: cuda (NVIDIA GeForce RTX 2060)\n"
     ]
    }
   ],
   "source": [
    "device = torch.device('cuda' if torch.cuda.is_available() else 'cpu')\n",
    "if torch.cuda.is_available():\n",
    "    print(F\"Dispositivo utilizado: {device} ({torch.cuda.get_device_name()})\")\n",
    "else:\n",
    "    print(F\"Dispositivo utilizado: {device}\")"
   ]
  },
  {
   "cell_type": "markdown",
   "metadata": {},
   "source": [
    "**Especificación de parámetros**"
   ]
  },
  {
   "cell_type": "code",
   "execution_count": 17,
   "metadata": {},
   "outputs": [],
   "source": [
    "learning_rate = 0.001\n",
    "num_classes = 5\n",
    "num_epochs = 120\n",
    "batch_size = 64\n",
    "dropout = 0.5"
   ]
  },
  {
   "cell_type": "code",
   "execution_count": 18,
   "metadata": {},
   "outputs": [
    {
     "name": "stderr",
     "output_type": "stream",
     "text": [
      "Epoch 1/120 - Training: 100%|██████████| 147/147 [03:59<00:00,  1.63s/it]\n"
     ]
    },
    {
     "name": "stdout",
     "output_type": "stream",
     "text": [
      "Epoch 1/120 FINISHED => Train Loss: 1.5520, Val Loss: 1.2852, Train Acc: 42.05%, Val Acc: 44.57%\n"
     ]
    },
    {
     "name": "stderr",
     "output_type": "stream",
     "text": [
      "Epoch 2/120 - Training: 100%|██████████| 147/147 [01:56<00:00,  1.26it/s]\n"
     ]
    },
    {
     "name": "stdout",
     "output_type": "stream",
     "text": [
      "Epoch 2/120 FINISHED => Train Loss: 1.2076, Val Loss: 1.1496, Train Acc: 54.61%, Val Acc: 55.07%\n"
     ]
    },
    {
     "name": "stderr",
     "output_type": "stream",
     "text": [
      "Epoch 3/120 - Training: 100%|██████████| 147/147 [01:49<00:00,  1.34it/s]\n"
     ]
    },
    {
     "name": "stdout",
     "output_type": "stream",
     "text": [
      "Epoch 3/120 FINISHED => Train Loss: 1.1633, Val Loss: 1.3550, Train Acc: 55.42%, Val Acc: 55.41%\n"
     ]
    },
    {
     "name": "stderr",
     "output_type": "stream",
     "text": [
      "Epoch 4/120 - Training: 100%|██████████| 147/147 [01:46<00:00,  1.37it/s]\n"
     ]
    },
    {
     "name": "stdout",
     "output_type": "stream",
     "text": [
      "Epoch 4/120 FINISHED => Train Loss: 1.1460, Val Loss: 1.3525, Train Acc: 56.52%, Val Acc: 56.88%\n"
     ]
    },
    {
     "name": "stderr",
     "output_type": "stream",
     "text": [
      "Epoch 5/120 - Training: 100%|██████████| 147/147 [01:41<00:00,  1.44it/s]\n"
     ]
    },
    {
     "name": "stdout",
     "output_type": "stream",
     "text": [
      "Epoch 5/120 FINISHED => Train Loss: 1.1309, Val Loss: 1.2246, Train Acc: 57.25%, Val Acc: 57.68%\n"
     ]
    },
    {
     "name": "stderr",
     "output_type": "stream",
     "text": [
      "Epoch 6/120 - Training: 100%|██████████| 147/147 [01:41<00:00,  1.45it/s]\n"
     ]
    },
    {
     "name": "stdout",
     "output_type": "stream",
     "text": [
      "Epoch 6/120 FINISHED => Train Loss: 1.1040, Val Loss: 1.5131, Train Acc: 58.08%, Val Acc: 57.29%\n"
     ]
    },
    {
     "name": "stderr",
     "output_type": "stream",
     "text": [
      "Epoch 7/120 - Training: 100%|██████████| 147/147 [01:41<00:00,  1.45it/s]\n"
     ]
    },
    {
     "name": "stdout",
     "output_type": "stream",
     "text": [
      "Epoch 7/120 FINISHED => Train Loss: 1.1148, Val Loss: 1.3257, Train Acc: 57.92%, Val Acc: 57.05%\n"
     ]
    },
    {
     "name": "stderr",
     "output_type": "stream",
     "text": [
      "Epoch 8/120 - Training: 100%|██████████| 147/147 [01:41<00:00,  1.45it/s]\n"
     ]
    },
    {
     "name": "stdout",
     "output_type": "stream",
     "text": [
      "Epoch 8/120 FINISHED => Train Loss: 1.0905, Val Loss: 1.3790, Train Acc: 58.20%, Val Acc: 58.24%\n"
     ]
    },
    {
     "name": "stderr",
     "output_type": "stream",
     "text": [
      "Epoch 9/120 - Training: 100%|██████████| 147/147 [01:41<00:00,  1.44it/s]\n"
     ]
    },
    {
     "name": "stdout",
     "output_type": "stream",
     "text": [
      "Epoch 9/120 FINISHED => Train Loss: 1.0781, Val Loss: 1.2841, Train Acc: 59.07%, Val Acc: 58.82%\n"
     ]
    },
    {
     "name": "stderr",
     "output_type": "stream",
     "text": [
      "Epoch 10/120 - Training: 100%|██████████| 147/147 [01:41<00:00,  1.44it/s]\n"
     ]
    },
    {
     "name": "stdout",
     "output_type": "stream",
     "text": [
      "Epoch 10/120 FINISHED => Train Loss: 1.0825, Val Loss: 1.2648, Train Acc: 58.43%, Val Acc: 58.33%\n"
     ]
    },
    {
     "name": "stderr",
     "output_type": "stream",
     "text": [
      "Epoch 11/120 - Training: 100%|██████████| 147/147 [01:41<00:00,  1.45it/s]\n"
     ]
    },
    {
     "name": "stdout",
     "output_type": "stream",
     "text": [
      "Epoch 11/120 FINISHED => Train Loss: 1.0772, Val Loss: 1.3390, Train Acc: 58.99%, Val Acc: 58.43%\n"
     ]
    },
    {
     "name": "stderr",
     "output_type": "stream",
     "text": [
      "Epoch 12/120 - Training: 100%|██████████| 147/147 [02:58<00:00,  1.21s/it]\n"
     ]
    },
    {
     "name": "stdout",
     "output_type": "stream",
     "text": [
      "Epoch 12/120 FINISHED => Train Loss: 1.0635, Val Loss: 1.3411, Train Acc: 59.77%, Val Acc: 59.56%\n"
     ]
    },
    {
     "name": "stderr",
     "output_type": "stream",
     "text": [
      "Epoch 13/120 - Training: 100%|██████████| 147/147 [02:27<00:00,  1.00s/it]\n"
     ]
    },
    {
     "name": "stdout",
     "output_type": "stream",
     "text": [
      "Epoch 13/120 FINISHED => Train Loss: 1.0474, Val Loss: 1.1982, Train Acc: 60.33%, Val Acc: 60.22%\n"
     ]
    },
    {
     "name": "stderr",
     "output_type": "stream",
     "text": [
      "Epoch 14/120 - Training: 100%|██████████| 147/147 [01:52<00:00,  1.31it/s]\n"
     ]
    },
    {
     "name": "stdout",
     "output_type": "stream",
     "text": [
      "Epoch 14/120 FINISHED => Train Loss: 1.0480, Val Loss: 1.2208, Train Acc: 59.98%, Val Acc: 59.16%\n"
     ]
    },
    {
     "name": "stderr",
     "output_type": "stream",
     "text": [
      "Epoch 15/120 - Training: 100%|██████████| 147/147 [01:48<00:00,  1.35it/s]\n"
     ]
    },
    {
     "name": "stdout",
     "output_type": "stream",
     "text": [
      "Epoch 15/120 FINISHED => Train Loss: 1.0560, Val Loss: 1.2527, Train Acc: 60.08%, Val Acc: 59.67%\n"
     ]
    },
    {
     "name": "stderr",
     "output_type": "stream",
     "text": [
      "Epoch 16/120 - Training: 100%|██████████| 147/147 [01:48<00:00,  1.36it/s]\n"
     ]
    },
    {
     "name": "stdout",
     "output_type": "stream",
     "text": [
      "Epoch 16/120 FINISHED => Train Loss: 1.0511, Val Loss: 1.4107, Train Acc: 59.74%, Val Acc: 59.37%\n"
     ]
    },
    {
     "name": "stderr",
     "output_type": "stream",
     "text": [
      "Epoch 17/120 - Training: 100%|██████████| 147/147 [01:53<00:00,  1.29it/s]\n"
     ]
    },
    {
     "name": "stdout",
     "output_type": "stream",
     "text": [
      "Epoch 17/120 FINISHED => Train Loss: 1.0435, Val Loss: 1.3013, Train Acc: 60.21%, Val Acc: 60.02%\n"
     ]
    },
    {
     "name": "stderr",
     "output_type": "stream",
     "text": [
      "Epoch 18/120 - Training: 100%|██████████| 147/147 [01:52<00:00,  1.31it/s]\n"
     ]
    },
    {
     "name": "stdout",
     "output_type": "stream",
     "text": [
      "Epoch 18/120 FINISHED => Train Loss: 1.0412, Val Loss: 1.3627, Train Acc: 60.34%, Val Acc: 59.46%\n"
     ]
    },
    {
     "name": "stderr",
     "output_type": "stream",
     "text": [
      "Epoch 19/120 - Training: 100%|██████████| 147/147 [01:50<00:00,  1.34it/s]\n"
     ]
    },
    {
     "name": "stdout",
     "output_type": "stream",
     "text": [
      "Epoch 19/120 FINISHED => Train Loss: 1.0356, Val Loss: 1.2815, Train Acc: 60.73%, Val Acc: 60.34%\n"
     ]
    },
    {
     "name": "stderr",
     "output_type": "stream",
     "text": [
      "Epoch 20/120 - Training: 100%|██████████| 147/147 [01:56<00:00,  1.26it/s]\n"
     ]
    },
    {
     "name": "stdout",
     "output_type": "stream",
     "text": [
      "Epoch 20/120 FINISHED => Train Loss: 1.0346, Val Loss: 1.2250, Train Acc: 60.80%, Val Acc: 60.43%\n"
     ]
    },
    {
     "name": "stderr",
     "output_type": "stream",
     "text": [
      "Epoch 21/120 - Training: 100%|██████████| 147/147 [01:52<00:00,  1.31it/s]\n"
     ]
    },
    {
     "name": "stdout",
     "output_type": "stream",
     "text": [
      "Epoch 21/120 FINISHED => Train Loss: 1.0454, Val Loss: 1.2645, Train Acc: 60.33%, Val Acc: 59.93%\n"
     ]
    },
    {
     "name": "stderr",
     "output_type": "stream",
     "text": [
      "Epoch 22/120 - Training: 100%|██████████| 147/147 [01:53<00:00,  1.29it/s]\n"
     ]
    },
    {
     "name": "stdout",
     "output_type": "stream",
     "text": [
      "Epoch 22/120 FINISHED => Train Loss: 1.0423, Val Loss: 1.3066, Train Acc: 60.42%, Val Acc: 59.97%\n"
     ]
    },
    {
     "name": "stderr",
     "output_type": "stream",
     "text": [
      "Epoch 23/120 - Training: 100%|██████████| 147/147 [01:56<00:00,  1.26it/s]\n"
     ]
    },
    {
     "name": "stdout",
     "output_type": "stream",
     "text": [
      "Epoch 23/120 FINISHED => Train Loss: 1.0332, Val Loss: 1.2579, Train Acc: 60.38%, Val Acc: 59.97%\n"
     ]
    },
    {
     "name": "stderr",
     "output_type": "stream",
     "text": [
      "Epoch 24/120 - Training: 100%|██████████| 147/147 [02:00<00:00,  1.22it/s]\n"
     ]
    },
    {
     "name": "stdout",
     "output_type": "stream",
     "text": [
      "Epoch 24/120 FINISHED => Train Loss: 1.0284, Val Loss: 1.3077, Train Acc: 60.55%, Val Acc: 60.32%\n"
     ]
    },
    {
     "name": "stderr",
     "output_type": "stream",
     "text": [
      "Epoch 25/120 - Training: 100%|██████████| 147/147 [02:01<00:00,  1.21it/s]\n"
     ]
    },
    {
     "name": "stdout",
     "output_type": "stream",
     "text": [
      "Epoch 25/120 FINISHED => Train Loss: 1.0322, Val Loss: 1.2888, Train Acc: 60.11%, Val Acc: 60.07%\n"
     ]
    },
    {
     "name": "stderr",
     "output_type": "stream",
     "text": [
      "Epoch 26/120 - Training: 100%|██████████| 147/147 [02:00<00:00,  1.22it/s]\n"
     ]
    },
    {
     "name": "stdout",
     "output_type": "stream",
     "text": [
      "Epoch 26/120 FINISHED => Train Loss: 1.0194, Val Loss: 1.2780, Train Acc: 61.38%, Val Acc: 60.94%\n"
     ]
    },
    {
     "name": "stderr",
     "output_type": "stream",
     "text": [
      "Epoch 27/120 - Training: 100%|██████████| 147/147 [01:56<00:00,  1.26it/s]\n"
     ]
    },
    {
     "name": "stdout",
     "output_type": "stream",
     "text": [
      "Epoch 27/120 FINISHED => Train Loss: 1.0337, Val Loss: 1.2980, Train Acc: 60.73%, Val Acc: 60.07%\n"
     ]
    },
    {
     "name": "stderr",
     "output_type": "stream",
     "text": [
      "Epoch 28/120 - Training: 100%|██████████| 147/147 [01:58<00:00,  1.24it/s]\n"
     ]
    },
    {
     "name": "stdout",
     "output_type": "stream",
     "text": [
      "Epoch 28/120 FINISHED => Train Loss: 1.0309, Val Loss: 1.3452, Train Acc: 60.54%, Val Acc: 59.97%\n"
     ]
    },
    {
     "name": "stderr",
     "output_type": "stream",
     "text": [
      "Epoch 29/120 - Training: 100%|██████████| 147/147 [02:00<00:00,  1.22it/s]\n"
     ]
    },
    {
     "name": "stdout",
     "output_type": "stream",
     "text": [
      "Epoch 29/120 FINISHED => Train Loss: 1.0321, Val Loss: 1.3877, Train Acc: 60.63%, Val Acc: 60.31%\n"
     ]
    },
    {
     "name": "stderr",
     "output_type": "stream",
     "text": [
      "Epoch 30/120 - Training: 100%|██████████| 147/147 [01:59<00:00,  1.23it/s]\n"
     ]
    },
    {
     "name": "stdout",
     "output_type": "stream",
     "text": [
      "Epoch 30/120 FINISHED => Train Loss: 1.0271, Val Loss: 1.2747, Train Acc: 60.64%, Val Acc: 60.37%\n"
     ]
    },
    {
     "name": "stderr",
     "output_type": "stream",
     "text": [
      "Epoch 31/120 - Training: 100%|██████████| 147/147 [02:02<00:00,  1.20it/s]\n"
     ]
    },
    {
     "name": "stdout",
     "output_type": "stream",
     "text": [
      "Epoch 31/120 FINISHED => Train Loss: 1.0274, Val Loss: 1.3129, Train Acc: 61.38%, Val Acc: 60.81%\n"
     ]
    },
    {
     "name": "stderr",
     "output_type": "stream",
     "text": [
      "Epoch 32/120 - Training: 100%|██████████| 147/147 [02:00<00:00,  1.22it/s]\n"
     ]
    },
    {
     "name": "stdout",
     "output_type": "stream",
     "text": [
      "Epoch 32/120 FINISHED => Train Loss: 1.0198, Val Loss: 1.3962, Train Acc: 61.59%, Val Acc: 60.53%\n"
     ]
    },
    {
     "name": "stderr",
     "output_type": "stream",
     "text": [
      "Epoch 33/120 - Training: 100%|██████████| 147/147 [01:59<00:00,  1.23it/s]\n"
     ]
    },
    {
     "name": "stdout",
     "output_type": "stream",
     "text": [
      "Epoch 33/120 FINISHED => Train Loss: 1.0217, Val Loss: 1.3237, Train Acc: 61.26%, Val Acc: 60.76%\n"
     ]
    },
    {
     "name": "stderr",
     "output_type": "stream",
     "text": [
      "Epoch 34/120 - Training: 100%|██████████| 147/147 [02:02<00:00,  1.20it/s]\n"
     ]
    },
    {
     "name": "stdout",
     "output_type": "stream",
     "text": [
      "Epoch 34/120 FINISHED => Train Loss: 1.0095, Val Loss: 1.3468, Train Acc: 61.48%, Val Acc: 60.99%\n"
     ]
    },
    {
     "name": "stderr",
     "output_type": "stream",
     "text": [
      "Epoch 35/120 - Training: 100%|██████████| 147/147 [03:17<00:00,  1.35s/it]\n"
     ]
    },
    {
     "name": "stdout",
     "output_type": "stream",
     "text": [
      "Epoch 35/120 FINISHED => Train Loss: 1.0141, Val Loss: 1.3353, Train Acc: 61.62%, Val Acc: 61.06%\n"
     ]
    },
    {
     "name": "stderr",
     "output_type": "stream",
     "text": [
      "Epoch 36/120 - Training: 100%|██████████| 147/147 [02:05<00:00,  1.17it/s]\n"
     ]
    },
    {
     "name": "stdout",
     "output_type": "stream",
     "text": [
      "Epoch 36/120 FINISHED => Train Loss: 1.0263, Val Loss: 1.3142, Train Acc: 60.88%, Val Acc: 60.51%\n"
     ]
    },
    {
     "name": "stderr",
     "output_type": "stream",
     "text": [
      "Epoch 37/120 - Training: 100%|██████████| 147/147 [02:06<00:00,  1.16it/s]\n"
     ]
    },
    {
     "name": "stdout",
     "output_type": "stream",
     "text": [
      "Epoch 37/120 FINISHED => Train Loss: 1.0178, Val Loss: 1.3838, Train Acc: 61.55%, Val Acc: 60.28%\n"
     ]
    },
    {
     "name": "stderr",
     "output_type": "stream",
     "text": [
      "Epoch 38/120 - Training: 100%|██████████| 147/147 [02:06<00:00,  1.16it/s]\n"
     ]
    },
    {
     "name": "stdout",
     "output_type": "stream",
     "text": [
      "Epoch 38/120 FINISHED => Train Loss: 1.0141, Val Loss: 1.3959, Train Acc: 61.43%, Val Acc: 60.58%\n"
     ]
    },
    {
     "name": "stderr",
     "output_type": "stream",
     "text": [
      "Epoch 39/120 - Training: 100%|██████████| 147/147 [02:08<00:00,  1.14it/s]\n"
     ]
    },
    {
     "name": "stdout",
     "output_type": "stream",
     "text": [
      "Epoch 39/120 FINISHED => Train Loss: 1.0150, Val Loss: 1.3746, Train Acc: 61.37%, Val Acc: 60.99%\n"
     ]
    },
    {
     "name": "stderr",
     "output_type": "stream",
     "text": [
      "Epoch 40/120 - Training: 100%|██████████| 147/147 [02:13<00:00,  1.10it/s]\n"
     ]
    },
    {
     "name": "stdout",
     "output_type": "stream",
     "text": [
      "Epoch 40/120 FINISHED => Train Loss: 1.0078, Val Loss: 1.4076, Train Acc: 61.51%, Val Acc: 60.81%\n"
     ]
    },
    {
     "name": "stderr",
     "output_type": "stream",
     "text": [
      "Epoch 41/120 - Training: 100%|██████████| 147/147 [02:12<00:00,  1.11it/s]\n"
     ]
    },
    {
     "name": "stdout",
     "output_type": "stream",
     "text": [
      "Epoch 41/120 FINISHED => Train Loss: 1.0146, Val Loss: 1.3432, Train Acc: 61.10%, Val Acc: 60.53%\n"
     ]
    },
    {
     "name": "stderr",
     "output_type": "stream",
     "text": [
      "Epoch 42/120 - Training: 100%|██████████| 147/147 [02:13<00:00,  1.10it/s]\n"
     ]
    },
    {
     "name": "stdout",
     "output_type": "stream",
     "text": [
      "Epoch 42/120 FINISHED => Train Loss: 1.0212, Val Loss: 1.3915, Train Acc: 61.33%, Val Acc: 60.60%\n"
     ]
    },
    {
     "name": "stderr",
     "output_type": "stream",
     "text": [
      "Epoch 43/120 - Training: 100%|██████████| 147/147 [02:14<00:00,  1.09it/s]\n"
     ]
    },
    {
     "name": "stdout",
     "output_type": "stream",
     "text": [
      "Epoch 43/120 FINISHED => Train Loss: 1.0142, Val Loss: 1.3533, Train Acc: 61.23%, Val Acc: 60.67%\n"
     ]
    },
    {
     "name": "stderr",
     "output_type": "stream",
     "text": [
      "Epoch 44/120 - Training: 100%|██████████| 147/147 [02:16<00:00,  1.07it/s]\n"
     ]
    },
    {
     "name": "stdout",
     "output_type": "stream",
     "text": [
      "Epoch 44/120 FINISHED => Train Loss: 1.0230, Val Loss: 1.3478, Train Acc: 60.77%, Val Acc: 60.25%\n"
     ]
    },
    {
     "name": "stderr",
     "output_type": "stream",
     "text": [
      "Epoch 45/120 - Training: 100%|██████████| 147/147 [02:15<00:00,  1.08it/s]\n"
     ]
    },
    {
     "name": "stdout",
     "output_type": "stream",
     "text": [
      "Epoch 45/120 FINISHED => Train Loss: 1.0082, Val Loss: 1.3728, Train Acc: 61.69%, Val Acc: 60.70%\n"
     ]
    },
    {
     "name": "stderr",
     "output_type": "stream",
     "text": [
      "Epoch 46/120 - Training: 100%|██████████| 147/147 [02:18<00:00,  1.06it/s]\n"
     ]
    },
    {
     "name": "stdout",
     "output_type": "stream",
     "text": [
      "Epoch 46/120 FINISHED => Train Loss: 1.0149, Val Loss: 1.5909, Train Acc: 60.91%, Val Acc: 59.65%\n"
     ]
    },
    {
     "name": "stderr",
     "output_type": "stream",
     "text": [
      "Epoch 47/120 - Training: 100%|██████████| 147/147 [02:22<00:00,  1.03it/s]\n"
     ]
    },
    {
     "name": "stdout",
     "output_type": "stream",
     "text": [
      "Epoch 47/120 FINISHED => Train Loss: 1.0202, Val Loss: 1.3913, Train Acc: 61.35%, Val Acc: 60.60%\n"
     ]
    },
    {
     "name": "stderr",
     "output_type": "stream",
     "text": [
      "Epoch 48/120 - Training: 100%|██████████| 147/147 [02:18<00:00,  1.06it/s]\n"
     ]
    },
    {
     "name": "stdout",
     "output_type": "stream",
     "text": [
      "Epoch 48/120 FINISHED => Train Loss: 1.0489, Val Loss: 1.3267, Train Acc: 59.99%, Val Acc: 59.76%\n"
     ]
    },
    {
     "name": "stderr",
     "output_type": "stream",
     "text": [
      "Epoch 49/120 - Training: 100%|██████████| 147/147 [02:17<00:00,  1.07it/s]\n"
     ]
    },
    {
     "name": "stdout",
     "output_type": "stream",
     "text": [
      "Epoch 49/120 FINISHED => Train Loss: 1.0231, Val Loss: 1.3534, Train Acc: 60.68%, Val Acc: 60.02%\n"
     ]
    },
    {
     "name": "stderr",
     "output_type": "stream",
     "text": [
      "Epoch 50/120 - Training: 100%|██████████| 147/147 [02:17<00:00,  1.07it/s]\n"
     ]
    },
    {
     "name": "stdout",
     "output_type": "stream",
     "text": [
      "Epoch 50/120 FINISHED => Train Loss: 1.0045, Val Loss: 1.4031, Train Acc: 61.64%, Val Acc: 60.93%\n"
     ]
    },
    {
     "name": "stderr",
     "output_type": "stream",
     "text": [
      "Epoch 51/120 - Training: 100%|██████████| 147/147 [02:17<00:00,  1.07it/s]\n"
     ]
    },
    {
     "name": "stdout",
     "output_type": "stream",
     "text": [
      "Epoch 51/120 FINISHED => Train Loss: 1.0087, Val Loss: 1.3837, Train Acc: 61.37%, Val Acc: 60.33%\n"
     ]
    },
    {
     "name": "stderr",
     "output_type": "stream",
     "text": [
      "Epoch 52/120 - Training: 100%|██████████| 147/147 [02:16<00:00,  1.07it/s]\n"
     ]
    },
    {
     "name": "stdout",
     "output_type": "stream",
     "text": [
      "Epoch 52/120 FINISHED => Train Loss: 1.0190, Val Loss: 1.3282, Train Acc: 61.09%, Val Acc: 60.58%\n"
     ]
    },
    {
     "name": "stderr",
     "output_type": "stream",
     "text": [
      "Epoch 53/120 - Training: 100%|██████████| 147/147 [02:13<00:00,  1.10it/s]\n"
     ]
    },
    {
     "name": "stdout",
     "output_type": "stream",
     "text": [
      "Epoch 53/120 FINISHED => Train Loss: 1.0128, Val Loss: 1.4695, Train Acc: 61.40%, Val Acc: 60.27%\n"
     ]
    },
    {
     "name": "stderr",
     "output_type": "stream",
     "text": [
      "Epoch 54/120 - Training: 100%|██████████| 147/147 [02:14<00:00,  1.09it/s]\n"
     ]
    },
    {
     "name": "stdout",
     "output_type": "stream",
     "text": [
      "Epoch 54/120 FINISHED => Train Loss: 1.0175, Val Loss: 1.3928, Train Acc: 61.08%, Val Acc: 60.36%\n"
     ]
    },
    {
     "name": "stderr",
     "output_type": "stream",
     "text": [
      "Epoch 55/120 - Training: 100%|██████████| 147/147 [03:19<00:00,  1.36s/it]\n"
     ]
    },
    {
     "name": "stdout",
     "output_type": "stream",
     "text": [
      "Epoch 55/120 FINISHED => Train Loss: 1.0305, Val Loss: 1.3604, Train Acc: 60.32%, Val Acc: 60.07%\n"
     ]
    },
    {
     "name": "stderr",
     "output_type": "stream",
     "text": [
      "Epoch 56/120 - Training: 100%|██████████| 147/147 [02:20<00:00,  1.05it/s]\n"
     ]
    },
    {
     "name": "stdout",
     "output_type": "stream",
     "text": [
      "Epoch 56/120 FINISHED => Train Loss: 1.0209, Val Loss: 1.3476, Train Acc: 60.89%, Val Acc: 60.20%\n"
     ]
    },
    {
     "name": "stderr",
     "output_type": "stream",
     "text": [
      "Epoch 57/120 - Training: 100%|██████████| 147/147 [02:40<00:00,  1.09s/it]\n"
     ]
    },
    {
     "name": "stdout",
     "output_type": "stream",
     "text": [
      "Epoch 57/120 FINISHED => Train Loss: 1.0212, Val Loss: 1.4563, Train Acc: 60.51%, Val Acc: 59.94%\n"
     ]
    },
    {
     "name": "stderr",
     "output_type": "stream",
     "text": [
      "Epoch 58/120 - Training: 100%|██████████| 147/147 [02:32<00:00,  1.04s/it]\n"
     ]
    },
    {
     "name": "stdout",
     "output_type": "stream",
     "text": [
      "Epoch 58/120 FINISHED => Train Loss: 1.0157, Val Loss: 1.3908, Train Acc: 60.72%, Val Acc: 59.79%\n"
     ]
    },
    {
     "name": "stderr",
     "output_type": "stream",
     "text": [
      "Epoch 59/120 - Training: 100%|██████████| 147/147 [02:23<00:00,  1.02it/s]\n"
     ]
    },
    {
     "name": "stdout",
     "output_type": "stream",
     "text": [
      "Epoch 59/120 FINISHED => Train Loss: 1.0275, Val Loss: 1.3160, Train Acc: 60.89%, Val Acc: 60.26%\n"
     ]
    },
    {
     "name": "stderr",
     "output_type": "stream",
     "text": [
      "Epoch 60/120 - Training: 100%|██████████| 147/147 [02:24<00:00,  1.02it/s]\n"
     ]
    },
    {
     "name": "stdout",
     "output_type": "stream",
     "text": [
      "Epoch 60/120 FINISHED => Train Loss: 1.0109, Val Loss: 1.3932, Train Acc: 61.16%, Val Acc: 60.86%\n"
     ]
    },
    {
     "name": "stderr",
     "output_type": "stream",
     "text": [
      "Epoch 61/120 - Training: 100%|██████████| 147/147 [02:19<00:00,  1.05it/s]\n"
     ]
    },
    {
     "name": "stdout",
     "output_type": "stream",
     "text": [
      "Epoch 61/120 FINISHED => Train Loss: 1.0033, Val Loss: 1.3275, Train Acc: 61.15%, Val Acc: 60.61%\n"
     ]
    },
    {
     "name": "stderr",
     "output_type": "stream",
     "text": [
      "Epoch 62/120 - Training: 100%|██████████| 147/147 [02:23<00:00,  1.03it/s]\n"
     ]
    },
    {
     "name": "stdout",
     "output_type": "stream",
     "text": [
      "Epoch 62/120 FINISHED => Train Loss: 1.0152, Val Loss: 1.4696, Train Acc: 61.08%, Val Acc: 60.19%\n"
     ]
    },
    {
     "name": "stderr",
     "output_type": "stream",
     "text": [
      "Epoch 63/120 - Training: 100%|██████████| 147/147 [02:21<00:00,  1.04it/s]\n"
     ]
    },
    {
     "name": "stdout",
     "output_type": "stream",
     "text": [
      "Epoch 63/120 FINISHED => Train Loss: 1.0065, Val Loss: 1.4189, Train Acc: 61.41%, Val Acc: 61.05%\n"
     ]
    },
    {
     "name": "stderr",
     "output_type": "stream",
     "text": [
      "Epoch 64/120 - Training: 100%|██████████| 147/147 [02:20<00:00,  1.04it/s]\n"
     ]
    },
    {
     "name": "stdout",
     "output_type": "stream",
     "text": [
      "Epoch 64/120 FINISHED => Train Loss: 1.0305, Val Loss: 1.3299, Train Acc: 60.26%, Val Acc: 59.66%\n"
     ]
    },
    {
     "name": "stderr",
     "output_type": "stream",
     "text": [
      "Epoch 65/120 - Training: 100%|██████████| 147/147 [02:21<00:00,  1.04it/s]\n"
     ]
    },
    {
     "name": "stdout",
     "output_type": "stream",
     "text": [
      "Epoch 65/120 FINISHED => Train Loss: 1.0232, Val Loss: 1.4356, Train Acc: 60.74%, Val Acc: 59.76%\n"
     ]
    },
    {
     "name": "stderr",
     "output_type": "stream",
     "text": [
      "Epoch 66/120 - Training: 100%|██████████| 147/147 [02:24<00:00,  1.02it/s]\n"
     ]
    },
    {
     "name": "stdout",
     "output_type": "stream",
     "text": [
      "Epoch 66/120 FINISHED => Train Loss: 1.0296, Val Loss: 1.4083, Train Acc: 60.67%, Val Acc: 59.60%\n"
     ]
    },
    {
     "name": "stderr",
     "output_type": "stream",
     "text": [
      "Epoch 67/120 - Training: 100%|██████████| 147/147 [02:35<00:00,  1.06s/it]\n"
     ]
    },
    {
     "name": "stdout",
     "output_type": "stream",
     "text": [
      "Epoch 67/120 FINISHED => Train Loss: 1.0233, Val Loss: 1.4157, Train Acc: 60.63%, Val Acc: 59.48%\n"
     ]
    },
    {
     "name": "stderr",
     "output_type": "stream",
     "text": [
      "Epoch 68/120 - Training: 100%|██████████| 147/147 [02:54<00:00,  1.19s/it]\n"
     ]
    },
    {
     "name": "stdout",
     "output_type": "stream",
     "text": [
      "Epoch 68/120 FINISHED => Train Loss: 1.0116, Val Loss: 1.3532, Train Acc: 61.26%, Val Acc: 60.76%\n"
     ]
    },
    {
     "name": "stderr",
     "output_type": "stream",
     "text": [
      "Epoch 69/120 - Training: 100%|██████████| 147/147 [02:53<00:00,  1.18s/it]\n"
     ]
    },
    {
     "name": "stdout",
     "output_type": "stream",
     "text": [
      "Epoch 69/120 FINISHED => Train Loss: 1.0181, Val Loss: 1.3341, Train Acc: 60.80%, Val Acc: 60.36%\n"
     ]
    },
    {
     "name": "stderr",
     "output_type": "stream",
     "text": [
      "Epoch 70/120 - Training: 100%|██████████| 147/147 [02:33<00:00,  1.04s/it]\n"
     ]
    },
    {
     "name": "stdout",
     "output_type": "stream",
     "text": [
      "Epoch 70/120 FINISHED => Train Loss: 1.0141, Val Loss: 1.3431, Train Acc: 60.98%, Val Acc: 60.64%\n"
     ]
    },
    {
     "name": "stderr",
     "output_type": "stream",
     "text": [
      "Epoch 71/120 - Training: 100%|██████████| 147/147 [02:31<00:00,  1.03s/it]\n"
     ]
    },
    {
     "name": "stdout",
     "output_type": "stream",
     "text": [
      "Epoch 71/120 FINISHED => Train Loss: 1.0278, Val Loss: 1.2895, Train Acc: 60.87%, Val Acc: 60.48%\n"
     ]
    },
    {
     "name": "stderr",
     "output_type": "stream",
     "text": [
      "Epoch 72/120 - Training: 100%|██████████| 147/147 [03:19<00:00,  1.36s/it]\n"
     ]
    },
    {
     "name": "stdout",
     "output_type": "stream",
     "text": [
      "Epoch 72/120 FINISHED => Train Loss: 1.0199, Val Loss: 1.4002, Train Acc: 60.65%, Val Acc: 59.81%\n"
     ]
    },
    {
     "name": "stderr",
     "output_type": "stream",
     "text": [
      "Epoch 73/120 - Training: 100%|██████████| 147/147 [02:23<00:00,  1.03it/s]\n"
     ]
    },
    {
     "name": "stdout",
     "output_type": "stream",
     "text": [
      "Epoch 73/120 FINISHED => Train Loss: 1.0200, Val Loss: 1.3573, Train Acc: 60.76%, Val Acc: 60.25%\n"
     ]
    },
    {
     "name": "stderr",
     "output_type": "stream",
     "text": [
      "Epoch 74/120 - Training: 100%|██████████| 147/147 [02:30<00:00,  1.03s/it]\n"
     ]
    },
    {
     "name": "stdout",
     "output_type": "stream",
     "text": [
      "Epoch 74/120 FINISHED => Train Loss: 1.0119, Val Loss: 1.3471, Train Acc: 60.97%, Val Acc: 60.32%\n"
     ]
    },
    {
     "name": "stderr",
     "output_type": "stream",
     "text": [
      "Epoch 75/120 - Training: 100%|██████████| 147/147 [02:24<00:00,  1.02it/s]\n"
     ]
    },
    {
     "name": "stdout",
     "output_type": "stream",
     "text": [
      "Epoch 75/120 FINISHED => Train Loss: 1.0150, Val Loss: 1.4751, Train Acc: 60.67%, Val Acc: 60.02%\n"
     ]
    },
    {
     "name": "stderr",
     "output_type": "stream",
     "text": [
      "Epoch 76/120 - Training: 100%|██████████| 147/147 [02:26<00:00,  1.00it/s]\n"
     ]
    },
    {
     "name": "stdout",
     "output_type": "stream",
     "text": [
      "Epoch 76/120 FINISHED => Train Loss: 1.0125, Val Loss: 1.4577, Train Acc: 61.05%, Val Acc: 60.29%\n"
     ]
    },
    {
     "name": "stderr",
     "output_type": "stream",
     "text": [
      "Epoch 77/120 - Training: 100%|██████████| 147/147 [02:23<00:00,  1.02it/s]\n"
     ]
    },
    {
     "name": "stdout",
     "output_type": "stream",
     "text": [
      "Epoch 77/120 FINISHED => Train Loss: 1.0213, Val Loss: 1.4457, Train Acc: 60.49%, Val Acc: 59.36%\n"
     ]
    },
    {
     "name": "stderr",
     "output_type": "stream",
     "text": [
      "Epoch 78/120 - Training: 100%|██████████| 147/147 [02:26<00:00,  1.00it/s]\n"
     ]
    },
    {
     "name": "stdout",
     "output_type": "stream",
     "text": [
      "Epoch 78/120 FINISHED => Train Loss: 1.0380, Val Loss: 1.4388, Train Acc: 59.75%, Val Acc: 59.20%\n"
     ]
    },
    {
     "name": "stderr",
     "output_type": "stream",
     "text": [
      "Epoch 79/120 - Training: 100%|██████████| 147/147 [02:28<00:00,  1.01s/it]\n"
     ]
    },
    {
     "name": "stdout",
     "output_type": "stream",
     "text": [
      "Epoch 79/120 FINISHED => Train Loss: 1.0268, Val Loss: 1.4490, Train Acc: 60.62%, Val Acc: 59.83%\n"
     ]
    },
    {
     "name": "stderr",
     "output_type": "stream",
     "text": [
      "Epoch 80/120 - Training: 100%|██████████| 147/147 [02:29<00:00,  1.02s/it]\n"
     ]
    },
    {
     "name": "stdout",
     "output_type": "stream",
     "text": [
      "Epoch 80/120 FINISHED => Train Loss: 1.0167, Val Loss: 1.4886, Train Acc: 60.86%, Val Acc: 59.86%\n"
     ]
    },
    {
     "name": "stderr",
     "output_type": "stream",
     "text": [
      "Epoch 81/120 - Training: 100%|██████████| 147/147 [02:26<00:00,  1.00it/s]\n"
     ]
    },
    {
     "name": "stdout",
     "output_type": "stream",
     "text": [
      "Epoch 81/120 FINISHED => Train Loss: 1.0257, Val Loss: 1.5140, Train Acc: 60.67%, Val Acc: 59.69%\n"
     ]
    },
    {
     "name": "stderr",
     "output_type": "stream",
     "text": [
      "Epoch 82/120 - Training: 100%|██████████| 147/147 [02:27<00:00,  1.00s/it]\n"
     ]
    },
    {
     "name": "stdout",
     "output_type": "stream",
     "text": [
      "Epoch 82/120 FINISHED => Train Loss: 1.0133, Val Loss: 1.4803, Train Acc: 61.09%, Val Acc: 59.99%\n"
     ]
    },
    {
     "name": "stderr",
     "output_type": "stream",
     "text": [
      "Epoch 83/120 - Training: 100%|██████████| 147/147 [02:28<00:00,  1.01s/it]\n"
     ]
    },
    {
     "name": "stdout",
     "output_type": "stream",
     "text": [
      "Epoch 83/120 FINISHED => Train Loss: 1.0235, Val Loss: 1.3904, Train Acc: 60.31%, Val Acc: 59.66%\n"
     ]
    },
    {
     "name": "stderr",
     "output_type": "stream",
     "text": [
      "Epoch 84/120 - Training: 100%|██████████| 147/147 [02:34<00:00,  1.05s/it]\n"
     ]
    },
    {
     "name": "stdout",
     "output_type": "stream",
     "text": [
      "Epoch 84/120 FINISHED => Train Loss: 1.0293, Val Loss: 1.3185, Train Acc: 60.60%, Val Acc: 59.87%\n"
     ]
    },
    {
     "name": "stderr",
     "output_type": "stream",
     "text": [
      "Epoch 85/120 - Training: 100%|██████████| 147/147 [02:34<00:00,  1.05s/it]\n"
     ]
    },
    {
     "name": "stdout",
     "output_type": "stream",
     "text": [
      "Epoch 85/120 FINISHED => Train Loss: 1.0199, Val Loss: 1.4450, Train Acc: 60.96%, Val Acc: 60.61%\n"
     ]
    },
    {
     "name": "stderr",
     "output_type": "stream",
     "text": [
      "Epoch 86/120 - Training: 100%|██████████| 147/147 [02:38<00:00,  1.08s/it]\n"
     ]
    },
    {
     "name": "stdout",
     "output_type": "stream",
     "text": [
      "Epoch 86/120 FINISHED => Train Loss: 1.0189, Val Loss: 1.4499, Train Acc: 60.46%, Val Acc: 59.89%\n"
     ]
    },
    {
     "name": "stderr",
     "output_type": "stream",
     "text": [
      "Epoch 87/120 - Training: 100%|██████████| 147/147 [02:39<00:00,  1.08s/it]\n"
     ]
    },
    {
     "name": "stdout",
     "output_type": "stream",
     "text": [
      "Epoch 87/120 FINISHED => Train Loss: 1.0410, Val Loss: 1.3584, Train Acc: 59.83%, Val Acc: 59.36%\n"
     ]
    },
    {
     "name": "stderr",
     "output_type": "stream",
     "text": [
      "Epoch 88/120 - Training: 100%|██████████| 147/147 [02:42<00:00,  1.11s/it]\n"
     ]
    },
    {
     "name": "stdout",
     "output_type": "stream",
     "text": [
      "Epoch 88/120 FINISHED => Train Loss: 1.0330, Val Loss: 1.3417, Train Acc: 60.22%, Val Acc: 59.79%\n"
     ]
    },
    {
     "name": "stderr",
     "output_type": "stream",
     "text": [
      "Epoch 89/120 - Training: 100%|██████████| 147/147 [02:36<00:00,  1.07s/it]\n"
     ]
    },
    {
     "name": "stdout",
     "output_type": "stream",
     "text": [
      "Epoch 89/120 FINISHED => Train Loss: 1.0128, Val Loss: 1.3999, Train Acc: 61.22%, Val Acc: 60.31%\n"
     ]
    },
    {
     "name": "stderr",
     "output_type": "stream",
     "text": [
      "Epoch 90/120 - Training: 100%|██████████| 147/147 [02:34<00:00,  1.05s/it]\n"
     ]
    },
    {
     "name": "stdout",
     "output_type": "stream",
     "text": [
      "Epoch 90/120 FINISHED => Train Loss: 1.0237, Val Loss: 1.4223, Train Acc: 60.98%, Val Acc: 60.30%\n"
     ]
    },
    {
     "name": "stderr",
     "output_type": "stream",
     "text": [
      "Epoch 91/120 - Training: 100%|██████████| 147/147 [02:34<00:00,  1.05s/it]\n"
     ]
    },
    {
     "name": "stdout",
     "output_type": "stream",
     "text": [
      "Epoch 91/120 FINISHED => Train Loss: 1.0219, Val Loss: 1.3919, Train Acc: 60.93%, Val Acc: 60.59%\n"
     ]
    },
    {
     "name": "stderr",
     "output_type": "stream",
     "text": [
      "Epoch 92/120 - Training: 100%|██████████| 147/147 [02:35<00:00,  1.06s/it]\n"
     ]
    },
    {
     "name": "stdout",
     "output_type": "stream",
     "text": [
      "Epoch 92/120 FINISHED => Train Loss: 1.0182, Val Loss: 1.3788, Train Acc: 60.99%, Val Acc: 60.70%\n"
     ]
    },
    {
     "name": "stderr",
     "output_type": "stream",
     "text": [
      "Epoch 93/120 - Training: 100%|██████████| 147/147 [03:28<00:00,  1.42s/it]\n"
     ]
    },
    {
     "name": "stdout",
     "output_type": "stream",
     "text": [
      "Epoch 93/120 FINISHED => Train Loss: 1.0147, Val Loss: 1.3854, Train Acc: 60.88%, Val Acc: 60.01%\n"
     ]
    },
    {
     "name": "stderr",
     "output_type": "stream",
     "text": [
      "Epoch 94/120 - Training: 100%|██████████| 147/147 [02:35<00:00,  1.06s/it]\n"
     ]
    },
    {
     "name": "stdout",
     "output_type": "stream",
     "text": [
      "Epoch 94/120 FINISHED => Train Loss: 1.0121, Val Loss: 1.3593, Train Acc: 61.23%, Val Acc: 60.50%\n"
     ]
    },
    {
     "name": "stderr",
     "output_type": "stream",
     "text": [
      "Epoch 95/120 - Training: 100%|██████████| 147/147 [02:36<00:00,  1.06s/it]\n"
     ]
    },
    {
     "name": "stdout",
     "output_type": "stream",
     "text": [
      "Epoch 95/120 FINISHED => Train Loss: 1.0318, Val Loss: 1.3186, Train Acc: 60.88%, Val Acc: 60.31%\n"
     ]
    },
    {
     "name": "stderr",
     "output_type": "stream",
     "text": [
      "Epoch 96/120 - Training: 100%|██████████| 147/147 [02:37<00:00,  1.07s/it]\n"
     ]
    },
    {
     "name": "stdout",
     "output_type": "stream",
     "text": [
      "Epoch 96/120 FINISHED => Train Loss: 1.0199, Val Loss: 1.3476, Train Acc: 60.90%, Val Acc: 60.36%\n"
     ]
    },
    {
     "name": "stderr",
     "output_type": "stream",
     "text": [
      "Epoch 97/120 - Training: 100%|██████████| 147/147 [02:40<00:00,  1.09s/it]\n"
     ]
    },
    {
     "name": "stdout",
     "output_type": "stream",
     "text": [
      "Epoch 97/120 FINISHED => Train Loss: 1.0086, Val Loss: 1.4008, Train Acc: 61.06%, Val Acc: 60.35%\n"
     ]
    },
    {
     "name": "stderr",
     "output_type": "stream",
     "text": [
      "Epoch 98/120 - Training: 100%|██████████| 147/147 [02:37<00:00,  1.07s/it]\n"
     ]
    },
    {
     "name": "stdout",
     "output_type": "stream",
     "text": [
      "Epoch 98/120 FINISHED => Train Loss: 1.0109, Val Loss: 1.3460, Train Acc: 60.93%, Val Acc: 60.19%\n"
     ]
    },
    {
     "name": "stderr",
     "output_type": "stream",
     "text": [
      "Epoch 99/120 - Training: 100%|██████████| 147/147 [02:44<00:00,  1.12s/it]\n"
     ]
    },
    {
     "name": "stdout",
     "output_type": "stream",
     "text": [
      "Epoch 99/120 FINISHED => Train Loss: 1.0141, Val Loss: 1.3845, Train Acc: 60.80%, Val Acc: 59.60%\n"
     ]
    },
    {
     "name": "stderr",
     "output_type": "stream",
     "text": [
      "Epoch 100/120 - Training: 100%|██████████| 147/147 [02:39<00:00,  1.08s/it]\n"
     ]
    },
    {
     "name": "stdout",
     "output_type": "stream",
     "text": [
      "Epoch 100/120 FINISHED => Train Loss: 1.0094, Val Loss: 1.3900, Train Acc: 61.25%, Val Acc: 60.00%\n"
     ]
    },
    {
     "name": "stderr",
     "output_type": "stream",
     "text": [
      "Epoch 101/120 - Training: 100%|██████████| 147/147 [02:39<00:00,  1.09s/it]\n"
     ]
    },
    {
     "name": "stdout",
     "output_type": "stream",
     "text": [
      "Epoch 101/120 FINISHED => Train Loss: 1.0239, Val Loss: 1.3197, Train Acc: 60.82%, Val Acc: 59.97%\n"
     ]
    },
    {
     "name": "stderr",
     "output_type": "stream",
     "text": [
      "Epoch 102/120 - Training: 100%|██████████| 147/147 [02:38<00:00,  1.07s/it]\n"
     ]
    },
    {
     "name": "stdout",
     "output_type": "stream",
     "text": [
      "Epoch 102/120 FINISHED => Train Loss: 1.0399, Val Loss: 1.3149, Train Acc: 59.44%, Val Acc: 58.59%\n"
     ]
    },
    {
     "name": "stderr",
     "output_type": "stream",
     "text": [
      "Epoch 103/120 - Training: 100%|██████████| 147/147 [03:52<00:00,  1.59s/it]\n"
     ]
    },
    {
     "name": "stdout",
     "output_type": "stream",
     "text": [
      "Epoch 103/120 FINISHED => Train Loss: 1.0381, Val Loss: 1.3526, Train Acc: 59.80%, Val Acc: 59.09%\n"
     ]
    },
    {
     "name": "stderr",
     "output_type": "stream",
     "text": [
      "Epoch 104/120 - Training: 100%|██████████| 147/147 [03:13<00:00,  1.32s/it]\n"
     ]
    },
    {
     "name": "stdout",
     "output_type": "stream",
     "text": [
      "Epoch 104/120 FINISHED => Train Loss: 1.0315, Val Loss: 1.3615, Train Acc: 60.31%, Val Acc: 59.39%\n"
     ]
    },
    {
     "name": "stderr",
     "output_type": "stream",
     "text": [
      "Epoch 105/120 - Training: 100%|██████████| 147/147 [03:10<00:00,  1.29s/it]\n"
     ]
    },
    {
     "name": "stdout",
     "output_type": "stream",
     "text": [
      "Epoch 105/120 FINISHED => Train Loss: 1.0114, Val Loss: 1.3809, Train Acc: 61.42%, Val Acc: 60.47%\n"
     ]
    },
    {
     "name": "stderr",
     "output_type": "stream",
     "text": [
      "Epoch 106/120 - Training: 100%|██████████| 147/147 [03:09<00:00,  1.29s/it]\n"
     ]
    },
    {
     "name": "stdout",
     "output_type": "stream",
     "text": [
      "Epoch 106/120 FINISHED => Train Loss: 1.0174, Val Loss: 1.3676, Train Acc: 61.19%, Val Acc: 60.20%\n"
     ]
    },
    {
     "name": "stderr",
     "output_type": "stream",
     "text": [
      "Epoch 107/120 - Training: 100%|██████████| 147/147 [03:10<00:00,  1.30s/it]\n"
     ]
    },
    {
     "name": "stdout",
     "output_type": "stream",
     "text": [
      "Epoch 107/120 FINISHED => Train Loss: 1.0177, Val Loss: 1.3311, Train Acc: 60.83%, Val Acc: 60.32%\n"
     ]
    },
    {
     "name": "stderr",
     "output_type": "stream",
     "text": [
      "Epoch 108/120 - Training: 100%|██████████| 147/147 [03:07<00:00,  1.27s/it]\n"
     ]
    },
    {
     "name": "stdout",
     "output_type": "stream",
     "text": [
      "Epoch 108/120 FINISHED => Train Loss: 1.0076, Val Loss: 1.4076, Train Acc: 61.66%, Val Acc: 60.66%\n"
     ]
    },
    {
     "name": "stderr",
     "output_type": "stream",
     "text": [
      "Epoch 109/120 - Training: 100%|██████████| 147/147 [03:09<00:00,  1.29s/it]\n"
     ]
    },
    {
     "name": "stdout",
     "output_type": "stream",
     "text": [
      "Epoch 109/120 FINISHED => Train Loss: 1.0282, Val Loss: 1.3379, Train Acc: 60.41%, Val Acc: 59.72%\n"
     ]
    },
    {
     "name": "stderr",
     "output_type": "stream",
     "text": [
      "Epoch 110/120 - Training: 100%|██████████| 147/147 [04:04<00:00,  1.66s/it]\n"
     ]
    },
    {
     "name": "stdout",
     "output_type": "stream",
     "text": [
      "Epoch 110/120 FINISHED => Train Loss: 1.0212, Val Loss: 1.3278, Train Acc: 60.88%, Val Acc: 60.37%\n"
     ]
    },
    {
     "name": "stderr",
     "output_type": "stream",
     "text": [
      "Epoch 111/120 - Training: 100%|██████████| 147/147 [03:49<00:00,  1.56s/it]\n"
     ]
    },
    {
     "name": "stdout",
     "output_type": "stream",
     "text": [
      "Epoch 111/120 FINISHED => Train Loss: 1.0236, Val Loss: 1.3441, Train Acc: 60.29%, Val Acc: 59.74%\n"
     ]
    },
    {
     "name": "stderr",
     "output_type": "stream",
     "text": [
      "Epoch 112/120 - Training: 100%|██████████| 147/147 [03:17<00:00,  1.34s/it]\n"
     ]
    },
    {
     "name": "stdout",
     "output_type": "stream",
     "text": [
      "Epoch 112/120 FINISHED => Train Loss: 1.0185, Val Loss: 1.3335, Train Acc: 60.30%, Val Acc: 59.73%\n"
     ]
    },
    {
     "name": "stderr",
     "output_type": "stream",
     "text": [
      "Epoch 113/120 - Training: 100%|██████████| 147/147 [03:38<00:00,  1.49s/it]\n"
     ]
    },
    {
     "name": "stdout",
     "output_type": "stream",
     "text": [
      "Epoch 113/120 FINISHED => Train Loss: 1.0174, Val Loss: 1.3626, Train Acc: 60.75%, Val Acc: 60.05%\n"
     ]
    },
    {
     "name": "stderr",
     "output_type": "stream",
     "text": [
      "Epoch 114/120 - Training: 100%|██████████| 147/147 [03:10<00:00,  1.30s/it]\n"
     ]
    },
    {
     "name": "stdout",
     "output_type": "stream",
     "text": [
      "Epoch 114/120 FINISHED => Train Loss: 1.0320, Val Loss: 1.3199, Train Acc: 60.30%, Val Acc: 59.67%\n"
     ]
    },
    {
     "name": "stderr",
     "output_type": "stream",
     "text": [
      "Epoch 115/120 - Training: 100%|██████████| 147/147 [03:08<00:00,  1.28s/it]\n"
     ]
    },
    {
     "name": "stdout",
     "output_type": "stream",
     "text": [
      "Epoch 115/120 FINISHED => Train Loss: 1.0242, Val Loss: 1.3939, Train Acc: 60.55%, Val Acc: 60.02%\n"
     ]
    },
    {
     "name": "stderr",
     "output_type": "stream",
     "text": [
      "Epoch 116/120 - Training: 100%|██████████| 147/147 [03:22<00:00,  1.38s/it]\n"
     ]
    },
    {
     "name": "stdout",
     "output_type": "stream",
     "text": [
      "Epoch 116/120 FINISHED => Train Loss: 1.0214, Val Loss: 1.4562, Train Acc: 60.35%, Val Acc: 59.67%\n"
     ]
    },
    {
     "name": "stderr",
     "output_type": "stream",
     "text": [
      "Epoch 117/120 - Training: 100%|██████████| 147/147 [02:50<00:00,  1.16s/it]\n"
     ]
    },
    {
     "name": "stdout",
     "output_type": "stream",
     "text": [
      "Epoch 117/120 FINISHED => Train Loss: 1.0274, Val Loss: 1.3827, Train Acc: 60.05%, Val Acc: 59.30%\n"
     ]
    },
    {
     "name": "stderr",
     "output_type": "stream",
     "text": [
      "Epoch 118/120 - Training: 100%|██████████| 147/147 [02:49<00:00,  1.15s/it]\n"
     ]
    },
    {
     "name": "stdout",
     "output_type": "stream",
     "text": [
      "Epoch 118/120 FINISHED => Train Loss: 1.0189, Val Loss: 1.3376, Train Acc: 60.89%, Val Acc: 59.90%\n"
     ]
    },
    {
     "name": "stderr",
     "output_type": "stream",
     "text": [
      "Epoch 119/120 - Training: 100%|██████████| 147/147 [02:47<00:00,  1.14s/it]\n"
     ]
    },
    {
     "name": "stdout",
     "output_type": "stream",
     "text": [
      "Epoch 119/120 FINISHED => Train Loss: 1.0376, Val Loss: 1.4104, Train Acc: 60.58%, Val Acc: 59.62%\n"
     ]
    },
    {
     "name": "stderr",
     "output_type": "stream",
     "text": [
      "Epoch 120/120 - Training: 100%|██████████| 147/147 [02:50<00:00,  1.16s/it]\n"
     ]
    },
    {
     "name": "stdout",
     "output_type": "stream",
     "text": [
      "Epoch 120/120 FINISHED => Train Loss: 1.0230, Val Loss: 1.3244, Train Acc: 60.84%, Val Acc: 60.27%\n"
     ]
    }
   ],
   "source": [
    "# Inicialización de tensorboard\n",
    "executionModelDateTime = datetime.now().strftime(\"Ejecucion %d-%m-%Y %H-%M\")\n",
    "writer = SummaryWriter(log_dir=os.path.join(logsRoute,executionModelDateTime))\n",
    "\n",
    "# Crear los DataLoader\n",
    "train_dataloader = DataLoader(train_dataset, batch_size=batch_size, shuffle=True)\n",
    "val_dataloader = DataLoader(val_dataset, batch_size=batch_size, shuffle=False)\n",
    "\n",
    "# Definición de la cantidad de clases, la función de perdida, el optimizador y el learning rate estático\n",
    "modelAt = CNNTransformerClassifier(num_classes=num_classes, dropout=dropout)\n",
    "criterion = nn.CrossEntropyLoss()\n",
    "optimizer = optim.Adam(modelAt.parameters(), lr=learning_rate)\n",
    "model = modelAt.to(device)\n",
    "executionStatistics_list = []\n",
    "\n",
    "for epoch in range(num_epochs):\n",
    "    model.train()  # Modo entrenamiento\n",
    "    running_loss = 0.0\n",
    "    correct_preds = 0\n",
    "    total_preds = 0\n",
    "\n",
    "    # Entrenamiento\n",
    "    for inputs, labels in tqdm(train_dataloader, desc=f\"Epoch {epoch+1}/{num_epochs} - Training\", leave=True):\n",
    "        inputs, labels = inputs.to(device), labels.to(device)\n",
    "        optimizer.zero_grad()\n",
    "        outputs = model(inputs)\n",
    "        loss = criterion(outputs, labels)\n",
    "        loss.backward()\n",
    "        optimizer.step()\n",
    "\n",
    "        # Estadísticas de la pérdida\n",
    "        running_loss += loss.item()\n",
    "        # Precisión\n",
    "        _, predicted = torch.max(outputs, 1)\n",
    "        correct_preds += (predicted == labels).sum().item()\n",
    "        total_preds += labels.size(0)\n",
    "\n",
    "    #print(f\"Epoch {epoch+1}/{num_epochs}, Loss: {running_loss/len(train_dataloader)}, Accuracy: {100 * correct_preds / total_preds}%\")\n",
    "    train_loss = running_loss / len(train_dataloader)\n",
    "    train_accuracy = 100 * correct_preds / total_preds\n",
    "\n",
    "    # Validación\n",
    "    model.eval()  # Modo evaluación\n",
    "    running_val_loss = 0.0\n",
    "    correct_val = 0\n",
    "    total_val = 0\n",
    "    all_groundtruth = []\n",
    "    all_predictions = []\n",
    "\n",
    "    with torch.no_grad():  # No calcular gradientes durante la validación\n",
    "        for inputs, labels in val_dataloader:\n",
    "            inputs, labels = inputs.to(device), labels.to(device)\n",
    "            outputs = model(inputs)\n",
    "            loss = criterion(outputs, labels)\n",
    "            running_val_loss += loss.item()\n",
    "            \n",
    "            _, predicted = torch.max(outputs, 1)\n",
    "            correct_preds += (predicted == labels).sum().item()\n",
    "            total_preds += labels.size(0)\n",
    "\n",
    "            all_groundtruth.extend(labels.cpu().numpy())\n",
    "            all_predictions.extend(predicted.cpu().numpy())\n",
    "\n",
    "    val_loss = running_val_loss/len(val_dataloader)\n",
    "    val_accuracy = 100 * correct_preds / total_preds\n",
    "    \n",
    "    \n",
    "    # Agregar valores a TensorBoard\n",
    "    writer.add_scalar(\"Loss/Train\", train_loss, epoch)\n",
    "    writer.add_scalar(\"Loss/Validation\", val_loss, epoch)\n",
    "    writer.add_scalar(\"Accuracy/Train\", train_accuracy, epoch)\n",
    "    writer.add_scalar(\"Accuracy/Validation\", val_accuracy, epoch)\n",
    "\n",
    "    # Obtener los nombres de las clases (suponiendo que están en df_filtrados.columns)\n",
    "    labels_names = list(df_filtrado['diagnosis'].unique())\n",
    "    # Registrar el heatmap y la grilla de valores en TensorBoard\n",
    "    log_heatmap(writer, epoch, all_groundtruth, all_predictions, labels_names)\n",
    "    log_values_predicted(writer, epoch, all_groundtruth, all_predictions)\n",
    "    \n",
    "    # Carga de hiperparametros y metricas\n",
    "    execution_statistics = {\n",
    "        \"epoch\": epoch+1,\n",
    "        \"batch_size\": batch_size,\n",
    "        \"learning_rate\": learning_rate,\n",
    "        \"num_epochs\": num_epochs,\n",
    "        \"Train Loss\": train_loss,\n",
    "        \"Validation Loss\": val_loss,\n",
    "        \"Train Accuracy\": train_accuracy,\n",
    "        \"Validation Accuracy\": val_accuracy\n",
    "        \n",
    "    }\n",
    "    \n",
    "    executionStatistics_list.append(execution_statistics)\n",
    "    \n",
    "    # Gráfica de loss y accuracy por cada epoca\n",
    "    writer.add_scalars(\"Loss\", {\"Train\": train_loss, \"Validation\": val_loss}, epoch)\n",
    "    writer.add_scalars(\"Accuracy\", {\"Train\": train_accuracy, \"Validation\": val_accuracy}, epoch)\n",
    "    \n",
    "    \n",
    "    print(f\"Epoch {epoch+1}/{num_epochs} FINISHED => \"\n",
    "        f\"Train Loss: {train_loss:.4f}, Val Loss: {val_loss:.4f}, \"\n",
    "        f\"Train Acc: {train_accuracy:.2f}%, Val Acc: {val_accuracy:.2f}%\")\n",
    "    \n",
    "\n",
    "\n",
    "writer.flush()\n",
    "writer.close()"
   ]
  },
  {
   "cell_type": "markdown",
   "metadata": {},
   "source": [
    "# Guardado de los resultados del modelo"
   ]
  },
  {
   "cell_type": "code",
   "execution_count": 24,
   "metadata": {},
   "outputs": [],
   "source": [
    "df_statistics = pd.DataFrame.from_dict(executionStatistics_list)\n",
    "df_statistics.to_excel(os.path.join(savedResultsRoute, f\"{executionModelDateTime}_results.xlsx\"), index=False)"
   ]
  },
  {
   "cell_type": "markdown",
   "metadata": {},
   "source": [
    "# Agregado de Hiperparámetros"
   ]
  },
  {
   "cell_type": "markdown",
   "metadata": {},
   "source": [
    "# Guardado del modelo"
   ]
  },
  {
   "cell_type": "markdown",
   "metadata": {},
   "source": [
    "**Guardado del modelo completo**"
   ]
  },
  {
   "cell_type": "code",
   "execution_count": 25,
   "metadata": {},
   "outputs": [],
   "source": [
    "torch.save(model, os.path.join(savedModelsRoute, f\"{executionModelDateTime}_modelo_entrenado_cnn_transformers_ka_completo.pth\"))"
   ]
  },
  {
   "cell_type": "markdown",
   "metadata": {},
   "source": [
    "**Guardado de los pesos del modelo**"
   ]
  },
  {
   "cell_type": "code",
   "execution_count": 26,
   "metadata": {},
   "outputs": [],
   "source": [
    "torch.save(model.state_dict(), os.path.join(savedModelsRoute, f\"{executionModelDateTime}_modelo_entrenado_cnn_transformers_ka_pesos.pth\"))"
   ]
  },
  {
   "cell_type": "code",
   "execution_count": 27,
   "metadata": {},
   "outputs": [
    {
     "name": "stdout",
     "output_type": "stream",
     "text": [
      "{'MEL': 0, 'NV': 1, 'BCC': 2, 'BKL': 3, 'AK': 4}\n"
     ]
    }
   ],
   "source": [
    "# Mapeo de clases\n",
    "print(train_dataset.class_to_idx)"
   ]
  },
  {
   "cell_type": "markdown",
   "metadata": {},
   "source": [
    "# Prueba del modelo"
   ]
  },
  {
   "cell_type": "code",
   "execution_count": 28,
   "metadata": {},
   "outputs": [
    {
     "name": "stdout",
     "output_type": "stream",
     "text": [
      "2\n",
      "Predicción: BCC\n"
     ]
    }
   ],
   "source": [
    "model.eval()  # Ponemos el modelo en modo de evaluación\n",
    "\n",
    "# Paso 3: Cargar la imagen y aplicar las transformaciones\n",
    "image_path = 'ka.jpg'  # Pon aquí la ruta de tu imagen\n",
    "image = Image.open(image_path)  # Abrir la imagen\n",
    "image_tensor = transform(image)  # Aplicar las transformaciones\n",
    "\n",
    "image_tensor = image_tensor.unsqueeze(0)  # Convertirlo a un batch de tamaño 1\n",
    "\n",
    "# Paso 5: Mover la imagen al dispositivo (GPU o CPU)\n",
    "device = torch.device('cuda' if torch.cuda.is_available() else 'cpu')\n",
    "image_tensor = image_tensor.to(device)\n",
    "model = model.to(device)\n",
    "\n",
    "# Paso 6: Realizar la predicción\n",
    "with torch.no_grad():  # No necesitamos gradientes para la inferencia\n",
    "    output = model(image_tensor)\n",
    "\n",
    "# Paso 7: Convertir las predicciones en probabilidades con softmax\n",
    "probabilities = torch.nn.functional.softmax(output, dim=1)  # Usamos dim=1 porque tenemos un batch\n",
    "\n",
    "# Paso 8: Obtener la clase con la mayor probabilidad\n",
    "_, predicted_class = torch.max(probabilities, dim=1)\n",
    "\n",
    "# Paso 9: Interpretar la clase predicha\n",
    "# Usamos el mapeo que ya tienes de clases (el 'class_to_idx' que ya definiste en tu dataset)\n",
    "predicted_idx = predicted_class.item()  # Obtenemos el índice de la clase predicha\n",
    "print(predicted_idx)\n",
    "# Aquí usamos el mapeo de clases que creamos antes para convertir el índice a una clase legible\n",
    "predicted_class_name = [key for key, value in train_dataset.class_to_idx.items() if value == predicted_idx][0]\n",
    "\n",
    "# Mostrar la clase predicha\n",
    "print(f\"Predicción: {predicted_class_name}\")"
   ]
  }
 ],
 "metadata": {
  "kernelspec": {
   "display_name": "venv",
   "language": "python",
   "name": "python3"
  },
  "language_info": {
   "codemirror_mode": {
    "name": "ipython",
    "version": 3
   },
   "file_extension": ".py",
   "mimetype": "text/x-python",
   "name": "python",
   "nbconvert_exporter": "python",
   "pygments_lexer": "ipython3",
   "version": "3.11.2"
  }
 },
 "nbformat": 4,
 "nbformat_minor": 2
}
