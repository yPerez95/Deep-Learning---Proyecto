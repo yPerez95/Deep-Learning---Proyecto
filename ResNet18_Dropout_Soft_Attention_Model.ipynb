{
  "cells": [
    {
      "cell_type": "markdown",
      "metadata": {
        "id": "Fo8RnaiRug7e"
      },
      "source": [
        "## **Modelo CNN Simple - ResNet18 + Dropout + Soft Attention Espacial** "
      ]
    },
    {
      "cell_type": "code",
      "execution_count": 1,
      "metadata": {
        "id": "kTmTkZCHywa2"
      },
      "outputs": [],
      "source": [
        "import torch\n",
        "import os\n",
        "import pandas as pd\n",
        "import seaborn as sns\n",
        "import torch.optim as optim\n",
        "import torch.nn as nn\n",
        "import torchvision.models as models\n",
        "import matplotlib.pyplot as plt\n",
        "import numpy as np\n",
        "from tqdm import tqdm\n",
        "from datetime import datetime\n",
        "from torchvision import transforms\n",
        "from torch.utils.data import Subset\n",
        "from torch.utils.data import Dataset, DataLoader\n",
        "from torch.utils.tensorboard import SummaryWriter\n",
        "from sklearn.model_selection import train_test_split\n",
        "from sklearn.metrics import confusion_matrix\n",
        "from torchsummary import summary\n",
        "from PIL import Image"
      ]
    },
    {
      "cell_type": "markdown",
      "metadata": {},
      "source": [
        "## Definición de transformación de los datos de entrada"
      ]
    },
    {
      "cell_type": "code",
      "execution_count": 2,
      "metadata": {
        "id": "y-4fhcf_yxMv"
      },
      "outputs": [],
      "source": [
        "train_transform = transforms.Compose([\n",
        "    transforms.RandomResizedCrop(128, scale=(0.8, 1.0)),  # Recorte aleatorio con zoom entre 80%-100%\n",
        "    transforms.RandomHorizontalFlip(p=0.5),  # Voltea horizontalmente con 50% de probabilidad\n",
        "    transforms.RandomRotation(15),  # Rotación aleatoria hasta 15 grados\n",
        "    transforms.ColorJitter(brightness=0.2, contrast=0.2, saturation=0.2, hue=0.1),  # Ajuste aleatorio de color\n",
        "    transforms.RandomAffine(degrees=0, translate=(0.1, 0.1)),  # Pequeños desplazamientos aleatorios\n",
        "    transforms.Resize((128, 128)),  # Redimensionar después de las transformaciones\n",
        "    transforms.ToTensor(),\n",
        "    transforms.Normalize(mean=[0.485, 0.456, 0.406], std=[0.229, 0.224, 0.225]),  # Normalización de ImageNet\n",
        "])\n",
        "\n",
        "val_transform = transforms.Compose([\n",
        "    transforms.Resize((128, 128)),  # Solo redimensionar en validación (sin data augmentation)\n",
        "    transforms.ToTensor(),\n",
        "    transforms.Normalize(mean=[0.485, 0.456, 0.406], std=[0.229, 0.224, 0.225]),\n",
        "])\n"
      ]
    },
    {
      "cell_type": "markdown",
      "metadata": {},
      "source": [
        "## Definición del dataset"
      ]
    },
    {
      "cell_type": "code",
      "execution_count": 5,
      "metadata": {
        "id": "u-v6MsjVzY6k"
      },
      "outputs": [],
      "source": [
        "class CustomDataset(Dataset):\n",
        "    def __init__(self, csv_file, img_dir, transform=None):\n",
        "        \"\"\"\n",
        "        Args:\n",
        "            csv_file (str): Ruta al archivo CSV con las imágenes y sus etiquetas.\n",
        "            img_dir (str): Ruta al directorio que contiene las imágenes.\n",
        "            transform (callable, optional): Transformaciones que se aplican a las imágenes.\n",
        "        \"\"\"\n",
        "        self.img_labels = pd.read_csv(csv_file)  # Leer el archivo CSV con las etiquetas\n",
        "        self.img_dir = img_dir  # Ruta donde están las imágenes\n",
        "        self.transform = transform  # Transformaciones a aplicar\n",
        "\n",
        "        self.class_to_idx = {class_name: idx for idx, class_name in enumerate(self.img_labels['diagnosis'].unique())}\n",
        "    def __len__(self):\n",
        "        \"\"\"Retorna el número total de imágenes en el dataset\"\"\"\n",
        "        return len(self.img_labels)\n",
        "\n",
        "    def __getitem__(self, idx):\n",
        "        \"\"\"Obtiene una imagen y su etiqueta\"\"\"\n",
        "        img_name = os.path.join(self.img_dir, self.img_labels.iloc[idx, 0])  # Nombre de la imagen\n",
        "        image = Image.open(img_name)  # Abrir la imagen\n",
        "        label = self.class_to_idx[self.img_labels.iloc[idx, 3]] # Etiqueta asociada\n",
        "\n",
        "        if self.transform:\n",
        "            image = self.transform(image)  # Aplicar transformaciones si es necesario\n",
        "\n",
        "        return image, label"
      ]
    },
    {
      "cell_type": "markdown",
      "metadata": {},
      "source": [
        "## Rutas de archivos"
      ]
    },
    {
      "cell_type": "code",
      "execution_count": 4,
      "metadata": {},
      "outputs": [],
      "source": [
        "# Leer el CSV\n",
        "csvRoute=\"./content/GPTeam-DeepLearning/Dataset/bcn_20k_train.csv\"\n",
        "imagesFolderRoute = \"./content/GPTeam-DeepLearning/Dataset/bcn_20k_train/\"\n",
        "trainDataJsonRoute = \"./content/GPTeam-DeepLearning/Dataset/data_train_resnet18_softAtt.json\"\n",
        "validationDataJsonRoute= \"./content/GPTeam-DeepLearning/Dataset/data_val_resnet18_softAtt.json\"\n",
        "filteredCsvRoute = \"./content/GPTeam-DeepLearning/Dataset/bcn_20k_train_filtrado.csv\"\n",
        "logsRoute = \"./runs\"\n",
        "savedParametersRoute = \"./saved_models_parameters/Parameters\"\n",
        "savedModelsRoute = \"./saved_models_parameters/Models\"\n",
        "savedResultsRoute = \"./results\""
      ]
    },
    {
      "cell_type": "markdown",
      "metadata": {},
      "source": [
        "## Generación del dataset de entrenamiento y validación"
      ]
    },
    {
      "cell_type": "markdown",
      "metadata": {},
      "source": [
        "***Carga del dataframe***"
      ]
    },
    {
      "cell_type": "code",
      "execution_count": 6,
      "metadata": {},
      "outputs": [
        {
          "data": {
            "text/html": [
              "<div>\n",
              "<style scoped>\n",
              "    .dataframe tbody tr th:only-of-type {\n",
              "        vertical-align: middle;\n",
              "    }\n",
              "\n",
              "    .dataframe tbody tr th {\n",
              "        vertical-align: top;\n",
              "    }\n",
              "\n",
              "    .dataframe thead th {\n",
              "        text-align: right;\n",
              "    }\n",
              "</style>\n",
              "<table border=\"1\" class=\"dataframe\">\n",
              "  <thead>\n",
              "    <tr style=\"text-align: right;\">\n",
              "      <th></th>\n",
              "      <th>bcn_filename</th>\n",
              "      <th>age_approx</th>\n",
              "      <th>anatom_site_general</th>\n",
              "      <th>diagnosis</th>\n",
              "      <th>lesion_id</th>\n",
              "      <th>capture_date</th>\n",
              "      <th>sex</th>\n",
              "      <th>split</th>\n",
              "    </tr>\n",
              "  </thead>\n",
              "  <tbody>\n",
              "    <tr>\n",
              "      <th>0</th>\n",
              "      <td>BCN_0000000001.jpg</td>\n",
              "      <td>55.0</td>\n",
              "      <td>anterior torso</td>\n",
              "      <td>MEL</td>\n",
              "      <td>BCN_0003884</td>\n",
              "      <td>2012-05-16</td>\n",
              "      <td>male</td>\n",
              "      <td>train</td>\n",
              "    </tr>\n",
              "    <tr>\n",
              "      <th>1</th>\n",
              "      <td>BCN_0000000003.jpg</td>\n",
              "      <td>50.0</td>\n",
              "      <td>anterior torso</td>\n",
              "      <td>MEL</td>\n",
              "      <td>BCN_0000019</td>\n",
              "      <td>2015-07-09</td>\n",
              "      <td>female</td>\n",
              "      <td>train</td>\n",
              "    </tr>\n",
              "    <tr>\n",
              "      <th>2</th>\n",
              "      <td>BCN_0000000004.jpg</td>\n",
              "      <td>85.0</td>\n",
              "      <td>head/neck</td>\n",
              "      <td>SCC</td>\n",
              "      <td>BCN_0003499</td>\n",
              "      <td>2015-11-23</td>\n",
              "      <td>male</td>\n",
              "      <td>train</td>\n",
              "    </tr>\n",
              "    <tr>\n",
              "      <th>3</th>\n",
              "      <td>BCN_0000000006.jpg</td>\n",
              "      <td>60.0</td>\n",
              "      <td>anterior torso</td>\n",
              "      <td>NV</td>\n",
              "      <td>BCN_0003316</td>\n",
              "      <td>2015-06-16</td>\n",
              "      <td>male</td>\n",
              "      <td>train</td>\n",
              "    </tr>\n",
              "    <tr>\n",
              "      <th>4</th>\n",
              "      <td>BCN_0000000010.jpg</td>\n",
              "      <td>30.0</td>\n",
              "      <td>anterior torso</td>\n",
              "      <td>BCC</td>\n",
              "      <td>BCN_0004874</td>\n",
              "      <td>2014-02-18</td>\n",
              "      <td>female</td>\n",
              "      <td>train</td>\n",
              "    </tr>\n",
              "  </tbody>\n",
              "</table>\n",
              "</div>"
            ],
            "text/plain": [
              "         bcn_filename  age_approx anatom_site_general diagnosis    lesion_id  \\\n",
              "0  BCN_0000000001.jpg        55.0      anterior torso       MEL  BCN_0003884   \n",
              "1  BCN_0000000003.jpg        50.0      anterior torso       MEL  BCN_0000019   \n",
              "2  BCN_0000000004.jpg        85.0           head/neck       SCC  BCN_0003499   \n",
              "3  BCN_0000000006.jpg        60.0      anterior torso        NV  BCN_0003316   \n",
              "4  BCN_0000000010.jpg        30.0      anterior torso       BCC  BCN_0004874   \n",
              "\n",
              "  capture_date     sex  split  \n",
              "0   2012-05-16    male  train  \n",
              "1   2015-07-09  female  train  \n",
              "2   2015-11-23    male  train  \n",
              "3   2015-06-16    male  train  \n",
              "4   2014-02-18  female  train  "
            ]
          },
          "execution_count": 6,
          "metadata": {},
          "output_type": "execute_result"
        }
      ],
      "source": [
        "df = pd.read_csv(csvRoute)\n",
        "df.head()"
      ]
    },
    {
      "cell_type": "markdown",
      "metadata": {},
      "source": [
        "***Exclusión de clases menos representativas***"
      ]
    },
    {
      "cell_type": "code",
      "execution_count": 7,
      "metadata": {},
      "outputs": [
        {
          "data": {
            "text/plain": [
              "array(['MEL', 'NV', 'BCC', 'BKL', 'AK'], dtype=object)"
            ]
          },
          "execution_count": 7,
          "metadata": {},
          "output_type": "execute_result"
        }
      ],
      "source": [
        "df_original = df.copy()\n",
        "#Definir las clases que deseas excluir por su nombre\n",
        "clases_a_excluir = ['SCC', 'DF', 'VASC']  # Sustituye estos nombres por las clases que quieres excluir\n",
        "\n",
        "# Filtrar el DataFrame para excluir las clases especificadas\n",
        "df_filtrado = df[~df['diagnosis'].isin(clases_a_excluir)]\n",
        "\n",
        "df_filtrado.to_csv(filteredCsvRoute, index=False)\n",
        "\n",
        "df = df_filtrado.copy()\n",
        "df_filtrado['diagnosis'].unique()"
      ]
    },
    {
      "cell_type": "markdown",
      "metadata": {},
      "source": [
        "***Busqueda de spliteo adecuado (sin lesson_id iguales para dataset de entrenamiento y validación)***"
      ]
    },
    {
      "cell_type": "code",
      "execution_count": 8,
      "metadata": {},
      "outputs": [
        {
          "name": "stdout",
          "output_type": "stream",
          "text": [
            "Random state encontrado: 25\n"
          ]
        }
      ],
      "source": [
        "# Obtener los valores únicos de lesion_id\n",
        "unique_lesions = df['lesion_id'].unique()\n",
        "\n",
        "# Búsqueda del mejor split\n",
        "best_train, best_test = None, None\n",
        "target_ratio = 0.8 * len(df)\n",
        "\n",
        "for seed in range(1000):  # Exploramos diferentes random_state\n",
        "    train_ids, test_ids = train_test_split(unique_lesions, test_size=0.2, random_state=seed)\n",
        "\n",
        "    x_train = df[df['lesion_id'].isin(train_ids)]\n",
        "    x_test = df[df['lesion_id'].isin(test_ids)]\n",
        "\n",
        "    # Verificar que la cantidad de filas sea la correcta Y que los lesion_id no se repitan\n",
        "    if abs(len(x_train) - target_ratio) < 1 and set(x_train['lesion_id']).isdisjoint(set(x_test['lesion_id'])):\n",
        "        best_train, best_test = x_train, x_test\n",
        "        print(f\"Random state encontrado: {seed}\")\n",
        "        break\n",
        "\n",
        "# Si no se encontró un split válido, lanzar error\n",
        "if best_train is None or best_test is None:\n",
        "    raise ValueError(\"No se encontró un split válido después de 1000 intentos\")\n",
        "\n",
        "# Asignar los mejores valores encontrados\n",
        "train_df, val_df = best_train, best_test\n",
        "\n",
        "assert set(train_df['lesion_id']).isdisjoint(set(val_df['lesion_id'])), \"Error: Hay lesion_id repetidos entre train_df y val_df\""
      ]
    },
    {
      "cell_type": "code",
      "execution_count": 9,
      "metadata": {},
      "outputs": [],
      "source": [
        "# VERIFICACION ADICIONAL DE NO REPETICION DE LESSIONID EN AMBOS DATASETS\n",
        "for idtrain in train_df['lesion_id'].unique():\n",
        "    for idval in val_df['lesion_id'].unique():\n",
        "        if idtrain.strip() == idval.strip():\n",
        "            print(\"Coincidence found\")"
      ]
    },
    {
      "cell_type": "markdown",
      "metadata": {},
      "source": [
        "***Carga de las imágenes***"
      ]
    },
    {
      "cell_type": "code",
      "execution_count": 10,
      "metadata": {},
      "outputs": [],
      "source": [
        "# Crear el dataset de entrenamiento y validación\n",
        "train_dataset = CustomDataset(csv_file=filteredCsvRoute, img_dir=imagesFolderRoute, transform=train_transform)\n",
        "val_dataset = CustomDataset(csv_file=filteredCsvRoute, img_dir=imagesFolderRoute, transform=val_transform)\n",
        "\n",
        "# Actualizar los datasets con los subconjuntos correspondientes\n",
        "train_dataset.img_labels = train_df\n",
        "val_dataset.img_labels = val_df"
      ]
    },
    {
      "cell_type": "code",
      "execution_count": 11,
      "metadata": {},
      "outputs": [
        {
          "name": "stdout",
          "output_type": "stream",
          "text": [
            "Cantidad de imagenes faltantes: 0\n"
          ]
        }
      ],
      "source": [
        "# Verificación de la carga de todos los arhivos\n",
        "archivos_en_directorio = []\n",
        "# Recorrer todos los archivos en el directorio\n",
        "for archivo in os.listdir(imagesFolderRoute):\n",
        "    if os.path.isfile(os.path.join(imagesFolderRoute, archivo)):\n",
        "        archivos_en_directorio.append(archivo)\n",
        "\n",
        "# La columna del DataFrame con los nombres de los archivos\n",
        "column_files = df['bcn_filename']\n",
        "# Convertir las listas a conjuntos para realizar la diferencia\n",
        "set_column_files = set(column_files)\n",
        "set_archivos_en_drive = set(archivos_en_directorio)\n",
        "valores_faltantes = set_column_files - set_archivos_en_drive\n",
        "\n",
        "print(f\"Cantidad de imagenes faltantes: {len(valores_faltantes)}\")"
      ]
    },
    {
      "cell_type": "markdown",
      "metadata": {},
      "source": [
        "## **Guardado de los datasets divididos inicialmente**"
      ]
    },
    {
      "cell_type": "markdown",
      "metadata": {},
      "source": [
        "**Guardado de data de dataframes de entrenamiento y validación**"
      ]
    },
    {
      "cell_type": "code",
      "execution_count": 12,
      "metadata": {},
      "outputs": [],
      "source": [
        "train_df.to_json(trainDataJsonRoute, orient='records', lines=True)\n",
        "val_df.to_json(validationDataJsonRoute, orient='records', lines=True)"
      ]
    },
    {
      "cell_type": "markdown",
      "metadata": {},
      "source": [
        "**Definición del Modelo**"
      ]
    },
    {
      "cell_type": "code",
      "execution_count": 13,
      "metadata": {},
      "outputs": [],
      "source": [
        "# Mecanismo de Soft-Attention Espacial\n",
        "class SpatialAttention(nn.Module):\n",
        "    def __init__(self, in_channels):\n",
        "        super(SpatialAttention, self).__init__()\n",
        "        self.conv_attention = nn.Sequential(\n",
        "            nn.Conv2d(in_channels, 1, kernel_size=1),  # Mapa de atención 1x1\n",
        "            nn.Softmax(dim=2)                           # Normalización espacial\n",
        "        )\n",
        "        \n",
        "    def forward(self, x):\n",
        "        # x: (batch, 512, H, W) [Ej: (batch, 512, 7, 7)]\n",
        "        # Generar mapa de atención (batch, 1, H, W)\n",
        "        attn_weights = self.conv_attention(x)\n",
        "        # Aplicar atención: características * pesos\n",
        "        attended_features = x * attn_weights  # Broadcasting automático\n",
        "        \n",
        "        return attended_features\n",
        "\n",
        "\n",
        "# Modelo ResNet18 con Dropout + Soft-Attention\n",
        "class ResNet18WithAttention(nn.Module):\n",
        "    def __init__(self, num_classes):\n",
        "        super(ResNet18WithAttention, self).__init__()\n",
        "        # 1. Cargar ResNet18 preentrenado\n",
        "        self.resnet18 = models.resnet18(pretrained=True)\n",
        "        \n",
        "        # 2. Congelar capas convolucionales\n",
        "        for param in self.resnet18.parameters():\n",
        "            param.requires_grad = False\n",
        "\n",
        "        # 2.1 Descongelar la ultima capa\n",
        "        for param in self.resnet18.layer4.parameters():\n",
        "            param.requires_grad = True\n",
        "\n",
        "        # 2.1 Descongelar la ultima capa\n",
        "        for param in self.resnet18.layer3.parameters():\n",
        "            param.requires_grad = True\n",
        "        \n",
        "        # 3. Añadir mecanismo de atención espacial\n",
        "        self.attention = SpatialAttention(in_channels=512)  # ResNet18 tiene 512 canales al final\n",
        "        \n",
        "        # 4. Modificar capas FC con Dropout\n",
        "        self.resnet18.fc = nn.Sequential(\n",
        "            nn.Linear(512, 512),\n",
        "            nn.BatchNorm1d(512),\n",
        "            nn.ReLU(),\n",
        "            nn.Dropout(0.3),\n",
        "            nn.Linear(512, num_classes)\n",
        "        )\n",
        "\n",
        "    def forward(self, x):\n",
        "        # Extraer características hasta la última capa convolucional\n",
        "        x = self.resnet18.conv1(x)\n",
        "        x = self.resnet18.bn1(x)\n",
        "        x = self.resnet18.relu(x)\n",
        "        x = self.resnet18.maxpool(x)\n",
        "        x = self.resnet18.layer1(x)\n",
        "        x = self.resnet18.layer2(x)\n",
        "        x = self.resnet18.layer3(x)\n",
        "        x = self.resnet18.layer4(x)  # Salida: (batch, 512, 7, 7)\n",
        "        \n",
        "        # Aplicar atención espacial\n",
        "        x = self.attention(x)  # (batch, 512, 7, 7) con pesos aprendidos\n",
        "        \n",
        "        # Global Average Pooling y clasificación\n",
        "        x = self.resnet18.avgpool(x)  # (batch, 512, 1, 1)\n",
        "        x = torch.flatten(x, 1)       # (batch, 512)\n",
        "        x = self.resnet18.fc(x)       # (batch, num_classes)\n",
        "        \n",
        "        return x"
      ]
    },
    {
      "cell_type": "markdown",
      "metadata": {},
      "source": [
        "# Visualización de la ejecución del modelo"
      ]
    },
    {
      "cell_type": "markdown",
      "metadata": {},
      "source": [
        "Ejecutar desde cmd lo siguiente para ver desde el navegador el menú de tensorboard: tensorboard --logdir=runs"
      ]
    },
    {
      "cell_type": "code",
      "execution_count": 14,
      "metadata": {},
      "outputs": [
        {
          "data": {
            "text/plain": [
              "Reusing TensorBoard on port 6007 (pid 22044), started 2 days, 1:06:58 ago. (Use '!kill 22044' to kill it.)"
            ]
          },
          "metadata": {},
          "output_type": "display_data"
        },
        {
          "data": {
            "text/html": [
              "\n",
              "      <iframe id=\"tensorboard-frame-ed941006ea00fec9\" width=\"100%\" height=\"800\" frameborder=\"0\">\n",
              "      </iframe>\n",
              "      <script>\n",
              "        (function() {\n",
              "          const frame = document.getElementById(\"tensorboard-frame-ed941006ea00fec9\");\n",
              "          const url = new URL(\"http://localhost\");\n",
              "          const port = 6007;\n",
              "          if (port) {\n",
              "            url.port = port;\n",
              "          }\n",
              "          frame.src = url;\n",
              "        })();\n",
              "      </script>\n",
              "    "
            ],
            "text/plain": [
              "<IPython.core.display.HTML object>"
            ]
          },
          "metadata": {},
          "output_type": "display_data"
        }
      ],
      "source": [
        "%load_ext tensorboard\n",
        "%tensorboard --logdir runs"
      ]
    },
    {
      "cell_type": "markdown",
      "metadata": {},
      "source": [
        "## **Entrenamiento y validación del modelo**"
      ]
    },
    {
      "cell_type": "markdown",
      "metadata": {},
      "source": [
        "**Definición de gráficas adicionales a emplear**"
      ]
    },
    {
      "cell_type": "code",
      "execution_count": 15,
      "metadata": {},
      "outputs": [],
      "source": [
        "# Función para registrar el heatmap (matriz de confusión)\n",
        "def log_heatmap(writer, epoch, ground_truth, predictions, labels):\n",
        "    # Calcula la matriz de confusión usando el orden de las etiquetas\n",
        "    cm = confusion_matrix(ground_truth, predictions, labels=range(len(labels)))\n",
        "    \n",
        "    # Crear la figura\n",
        "    fig, ax = plt.subplots(figsize=(8, 6))\n",
        "    sns.heatmap(cm, annot=True, fmt=\"d\", cmap=\"Blues\",\n",
        "                xticklabels=labels, yticklabels=labels, ax=ax)\n",
        "    ax.set_xlabel(\"Predicción\")\n",
        "    ax.set_ylabel(\"Groundtruth\")\n",
        "    ax.set_title(\"Matriz de Confusión\")\n",
        "    \n",
        "    # Registrar la figura en TensorBoard\n",
        "    writer.add_figure(\"Heatmap\", fig, global_step=epoch)\n",
        "    plt.close(fig)\n",
        "\n",
        "# Función para registrar la grilla 2x2 de TP, FP, TN, FN (para clasificación binaria)\n",
        "def log_values_predicted(writer, epoch, ground_truth, predictions):\n",
        "    # Calcular la matriz de confusión\n",
        "    cm = confusion_matrix(ground_truth, predictions, labels=[0, 1])\n",
        "    \n",
        "    # Crear anotaciones combinando etiqueta y valor\n",
        "    annot = np.array([\n",
        "        [f\"TN\\n{cm[0,0]}\", f\"FP\\n{cm[0,1]}\"],\n",
        "        [f\"FN\\n{cm[1,0]}\", f\"TP\\n{cm[1,1]}\"]\n",
        "    ])\n",
        "    \n",
        "    # Crear el heatmap\n",
        "    fig, ax = plt.subplots(figsize=(6, 5))\n",
        "    sns.heatmap(cm, annot=annot, fmt=\"\", cmap=\"Blues\",\n",
        "                xticklabels=[\"False\", \"True\"],\n",
        "                yticklabels=[\"False\", \"True\"],\n",
        "                cbar=True, ax=ax)\n",
        "    ax.set_xlabel(\"Eje Predicho (False/True)\")\n",
        "    ax.set_ylabel(\"Eje Verdadero (False/True)\")\n",
        "    ax.set_title(\"Predicción de valores\")\n",
        "    \n",
        "    # Registrar la figura en TensorBoard\n",
        "    writer.add_figure(\"Predicción de valores\", fig, global_step=epoch)\n",
        "    plt.close(fig)"
      ]
    },
    {
      "cell_type": "markdown",
      "metadata": {},
      "source": [
        "**Seteo del dispositivo a usar**"
      ]
    },
    {
      "cell_type": "code",
      "execution_count": 16,
      "metadata": {},
      "outputs": [
        {
          "name": "stdout",
          "output_type": "stream",
          "text": [
            "Dispositivo utilizado: cuda (NVIDIA GeForce RTX 2060)\n"
          ]
        }
      ],
      "source": [
        "device = torch.device('cuda' if torch.cuda.is_available() else 'cpu')\n",
        "if torch.cuda.is_available():\n",
        "    print(F\"Dispositivo utilizado: {device} ({torch.cuda.get_device_name()})\")\n",
        "else:\n",
        "    print(F\"Dispositivo utilizado: {device}\")"
      ]
    },
    {
      "cell_type": "markdown",
      "metadata": {},
      "source": [
        "**Especificación de parámetros**"
      ]
    },
    {
      "cell_type": "code",
      "execution_count": 17,
      "metadata": {},
      "outputs": [],
      "source": [
        "learning_rate = 0.0001\n",
        "num_classes = 5\n",
        "num_epochs = 200\n",
        "batch_size = 32"
      ]
    },
    {
      "cell_type": "markdown",
      "metadata": {},
      "source": [
        "**Ejecución del modelo**"
      ]
    },
    {
      "cell_type": "code",
      "execution_count": 18,
      "metadata": {},
      "outputs": [
        {
          "name": "stderr",
          "output_type": "stream",
          "text": [
            "d:\\PUCP\\Cursos electivos\\Deep Learning\\Proyecto General\\Proyecto\\Deep-Learning---Proyecto\\venv\\Lib\\site-packages\\torchvision\\models\\_utils.py:208: UserWarning: The parameter 'pretrained' is deprecated since 0.13 and may be removed in the future, please use 'weights' instead.\n",
            "  warnings.warn(\n",
            "d:\\PUCP\\Cursos electivos\\Deep Learning\\Proyecto General\\Proyecto\\Deep-Learning---Proyecto\\venv\\Lib\\site-packages\\torchvision\\models\\_utils.py:223: UserWarning: Arguments other than a weight enum or `None` for 'weights' are deprecated since 0.13 and may be removed in the future. The current behavior is equivalent to passing `weights=ResNet18_Weights.IMAGENET1K_V1`. You can also use `weights=ResNet18_Weights.DEFAULT` to get the most up-to-date weights.\n",
            "  warnings.warn(msg)\n",
            "Epoch 1/200 - Training: 100%|██████████| 294/294 [05:20<00:00,  1.09s/it]\n"
          ]
        },
        {
          "name": "stdout",
          "output_type": "stream",
          "text": [
            "Epoch 1/200 FINISHED => Train Loss: 1.4055, Val Loss: 1.2496, Train Acc: 40.93%, Val Acc: 51.74%\n"
          ]
        },
        {
          "name": "stderr",
          "output_type": "stream",
          "text": [
            "Epoch 2/200 - Training: 100%|██████████| 294/294 [03:14<00:00,  1.52it/s]\n"
          ]
        },
        {
          "name": "stdout",
          "output_type": "stream",
          "text": [
            "Epoch 2/200 FINISHED => Train Loss: 1.2351, Val Loss: 1.1679, Train Acc: 52.81%, Val Acc: 55.74%\n"
          ]
        },
        {
          "name": "stderr",
          "output_type": "stream",
          "text": [
            "Epoch 3/200 - Training: 100%|██████████| 294/294 [02:33<00:00,  1.92it/s]\n"
          ]
        },
        {
          "name": "stdout",
          "output_type": "stream",
          "text": [
            "Epoch 3/200 FINISHED => Train Loss: 1.1589, Val Loss: 1.1259, Train Acc: 56.11%, Val Acc: 57.11%\n"
          ]
        },
        {
          "name": "stderr",
          "output_type": "stream",
          "text": [
            "Epoch 4/200 - Training: 100%|██████████| 294/294 [02:21<00:00,  2.08it/s]\n"
          ]
        },
        {
          "name": "stdout",
          "output_type": "stream",
          "text": [
            "Epoch 4/200 FINISHED => Train Loss: 1.1188, Val Loss: 1.0881, Train Acc: 57.35%, Val Acc: 58.13%\n"
          ]
        },
        {
          "name": "stderr",
          "output_type": "stream",
          "text": [
            "Epoch 5/200 - Training: 100%|██████████| 294/294 [02:16<00:00,  2.15it/s]\n"
          ]
        },
        {
          "name": "stdout",
          "output_type": "stream",
          "text": [
            "Epoch 5/200 FINISHED => Train Loss: 1.0797, Val Loss: 1.0567, Train Acc: 58.92%, Val Acc: 59.62%\n"
          ]
        },
        {
          "name": "stderr",
          "output_type": "stream",
          "text": [
            "Epoch 6/200 - Training: 100%|██████████| 294/294 [02:17<00:00,  2.13it/s]\n"
          ]
        },
        {
          "name": "stdout",
          "output_type": "stream",
          "text": [
            "Epoch 6/200 FINISHED => Train Loss: 1.0688, Val Loss: 1.0491, Train Acc: 59.55%, Val Acc: 60.21%\n"
          ]
        },
        {
          "name": "stderr",
          "output_type": "stream",
          "text": [
            "Epoch 7/200 - Training: 100%|██████████| 294/294 [02:17<00:00,  2.14it/s]\n"
          ]
        },
        {
          "name": "stdout",
          "output_type": "stream",
          "text": [
            "Epoch 7/200 FINISHED => Train Loss: 1.0448, Val Loss: 1.0248, Train Acc: 60.30%, Val Acc: 61.28%\n"
          ]
        },
        {
          "name": "stderr",
          "output_type": "stream",
          "text": [
            "Epoch 8/200 - Training: 100%|██████████| 294/294 [02:17<00:00,  2.13it/s]\n"
          ]
        },
        {
          "name": "stdout",
          "output_type": "stream",
          "text": [
            "Epoch 8/200 FINISHED => Train Loss: 1.0211, Val Loss: 1.0069, Train Acc: 60.98%, Val Acc: 62.38%\n"
          ]
        },
        {
          "name": "stderr",
          "output_type": "stream",
          "text": [
            "Epoch 9/200 - Training: 100%|██████████| 294/294 [02:18<00:00,  2.12it/s]\n"
          ]
        },
        {
          "name": "stdout",
          "output_type": "stream",
          "text": [
            "Epoch 9/200 FINISHED => Train Loss: 1.0130, Val Loss: 1.0009, Train Acc: 61.04%, Val Acc: 62.21%\n"
          ]
        },
        {
          "name": "stderr",
          "output_type": "stream",
          "text": [
            "Epoch 10/200 - Training: 100%|██████████| 294/294 [02:21<00:00,  2.08it/s]\n"
          ]
        },
        {
          "name": "stdout",
          "output_type": "stream",
          "text": [
            "Epoch 10/200 FINISHED => Train Loss: 0.9932, Val Loss: 0.9892, Train Acc: 62.83%, Val Acc: 62.64%\n"
          ]
        },
        {
          "name": "stderr",
          "output_type": "stream",
          "text": [
            "Epoch 11/200 - Training: 100%|██████████| 294/294 [02:16<00:00,  2.15it/s]\n"
          ]
        },
        {
          "name": "stdout",
          "output_type": "stream",
          "text": [
            "Epoch 11/200 FINISHED => Train Loss: 0.9866, Val Loss: 0.9838, Train Acc: 62.61%, Val Acc: 63.19%\n"
          ]
        },
        {
          "name": "stderr",
          "output_type": "stream",
          "text": [
            "Epoch 12/200 - Training: 100%|██████████| 294/294 [02:17<00:00,  2.15it/s]\n"
          ]
        },
        {
          "name": "stdout",
          "output_type": "stream",
          "text": [
            "Epoch 12/200 FINISHED => Train Loss: 0.9758, Val Loss: 0.9847, Train Acc: 63.21%, Val Acc: 62.47%\n"
          ]
        },
        {
          "name": "stderr",
          "output_type": "stream",
          "text": [
            "Epoch 13/200 - Training: 100%|██████████| 294/294 [02:17<00:00,  2.14it/s]\n"
          ]
        },
        {
          "name": "stdout",
          "output_type": "stream",
          "text": [
            "Epoch 13/200 FINISHED => Train Loss: 0.9627, Val Loss: 0.9651, Train Acc: 63.37%, Val Acc: 63.40%\n"
          ]
        },
        {
          "name": "stderr",
          "output_type": "stream",
          "text": [
            "Epoch 14/200 - Training: 100%|██████████| 294/294 [02:28<00:00,  1.98it/s]\n"
          ]
        },
        {
          "name": "stdout",
          "output_type": "stream",
          "text": [
            "Epoch 14/200 FINISHED => Train Loss: 0.9486, Val Loss: 0.9741, Train Acc: 64.23%, Val Acc: 63.36%\n"
          ]
        },
        {
          "name": "stderr",
          "output_type": "stream",
          "text": [
            "Epoch 15/200 - Training: 100%|██████████| 294/294 [03:35<00:00,  1.36it/s]\n"
          ]
        },
        {
          "name": "stdout",
          "output_type": "stream",
          "text": [
            "Epoch 15/200 FINISHED => Train Loss: 0.9405, Val Loss: 0.9751, Train Acc: 64.09%, Val Acc: 63.15%\n"
          ]
        },
        {
          "name": "stderr",
          "output_type": "stream",
          "text": [
            "Epoch 16/200 - Training: 100%|██████████| 294/294 [02:45<00:00,  1.77it/s]\n"
          ]
        },
        {
          "name": "stdout",
          "output_type": "stream",
          "text": [
            "Epoch 16/200 FINISHED => Train Loss: 0.9427, Val Loss: 0.9608, Train Acc: 64.36%, Val Acc: 64.09%\n"
          ]
        },
        {
          "name": "stderr",
          "output_type": "stream",
          "text": [
            "Epoch 17/200 - Training: 100%|██████████| 294/294 [02:25<00:00,  2.01it/s]\n"
          ]
        },
        {
          "name": "stdout",
          "output_type": "stream",
          "text": [
            "Epoch 17/200 FINISHED => Train Loss: 0.9234, Val Loss: 0.9611, Train Acc: 64.73%, Val Acc: 63.32%\n"
          ]
        },
        {
          "name": "stderr",
          "output_type": "stream",
          "text": [
            "Epoch 18/200 - Training: 100%|██████████| 294/294 [02:22<00:00,  2.07it/s]\n"
          ]
        },
        {
          "name": "stdout",
          "output_type": "stream",
          "text": [
            "Epoch 18/200 FINISHED => Train Loss: 0.9166, Val Loss: 0.9513, Train Acc: 65.27%, Val Acc: 63.79%\n"
          ]
        },
        {
          "name": "stderr",
          "output_type": "stream",
          "text": [
            "Epoch 19/200 - Training: 100%|██████████| 294/294 [02:25<00:00,  2.02it/s]\n"
          ]
        },
        {
          "name": "stdout",
          "output_type": "stream",
          "text": [
            "Epoch 19/200 FINISHED => Train Loss: 0.9133, Val Loss: 0.9487, Train Acc: 65.37%, Val Acc: 64.13%\n"
          ]
        },
        {
          "name": "stderr",
          "output_type": "stream",
          "text": [
            "Epoch 20/200 - Training: 100%|██████████| 294/294 [02:35<00:00,  1.89it/s]\n"
          ]
        },
        {
          "name": "stdout",
          "output_type": "stream",
          "text": [
            "Epoch 20/200 FINISHED => Train Loss: 0.9021, Val Loss: 0.9397, Train Acc: 65.56%, Val Acc: 64.72%\n"
          ]
        },
        {
          "name": "stderr",
          "output_type": "stream",
          "text": [
            "Epoch 21/200 - Training: 100%|██████████| 294/294 [02:59<00:00,  1.63it/s]\n"
          ]
        },
        {
          "name": "stdout",
          "output_type": "stream",
          "text": [
            "Epoch 21/200 FINISHED => Train Loss: 0.8948, Val Loss: 0.9395, Train Acc: 65.88%, Val Acc: 64.72%\n"
          ]
        },
        {
          "name": "stderr",
          "output_type": "stream",
          "text": [
            "Epoch 22/200 - Training: 100%|██████████| 294/294 [02:47<00:00,  1.76it/s]\n"
          ]
        },
        {
          "name": "stdout",
          "output_type": "stream",
          "text": [
            "Epoch 22/200 FINISHED => Train Loss: 0.8947, Val Loss: 0.9443, Train Acc: 66.12%, Val Acc: 64.98%\n"
          ]
        },
        {
          "name": "stderr",
          "output_type": "stream",
          "text": [
            "Epoch 23/200 - Training: 100%|██████████| 294/294 [02:40<00:00,  1.83it/s]\n"
          ]
        },
        {
          "name": "stdout",
          "output_type": "stream",
          "text": [
            "Epoch 23/200 FINISHED => Train Loss: 0.8859, Val Loss: 0.9463, Train Acc: 67.17%, Val Acc: 64.43%\n"
          ]
        },
        {
          "name": "stderr",
          "output_type": "stream",
          "text": [
            "Epoch 24/200 - Training: 100%|██████████| 294/294 [02:42<00:00,  1.80it/s]\n"
          ]
        },
        {
          "name": "stdout",
          "output_type": "stream",
          "text": [
            "Epoch 24/200 FINISHED => Train Loss: 0.8781, Val Loss: 0.9426, Train Acc: 66.94%, Val Acc: 64.98%\n"
          ]
        },
        {
          "name": "stderr",
          "output_type": "stream",
          "text": [
            "Epoch 25/200 - Training: 100%|██████████| 294/294 [02:43<00:00,  1.80it/s]\n"
          ]
        },
        {
          "name": "stdout",
          "output_type": "stream",
          "text": [
            "Epoch 25/200 FINISHED => Train Loss: 0.8707, Val Loss: 0.9350, Train Acc: 66.69%, Val Acc: 65.15%\n"
          ]
        },
        {
          "name": "stderr",
          "output_type": "stream",
          "text": [
            "Epoch 26/200 - Training: 100%|██████████| 294/294 [02:43<00:00,  1.80it/s]\n"
          ]
        },
        {
          "name": "stdout",
          "output_type": "stream",
          "text": [
            "Epoch 26/200 FINISHED => Train Loss: 0.8687, Val Loss: 0.9386, Train Acc: 67.13%, Val Acc: 65.11%\n"
          ]
        },
        {
          "name": "stderr",
          "output_type": "stream",
          "text": [
            "Epoch 27/200 - Training: 100%|██████████| 294/294 [02:40<00:00,  1.83it/s]\n"
          ]
        },
        {
          "name": "stdout",
          "output_type": "stream",
          "text": [
            "Epoch 27/200 FINISHED => Train Loss: 0.8492, Val Loss: 0.9401, Train Acc: 67.90%, Val Acc: 64.98%\n"
          ]
        },
        {
          "name": "stderr",
          "output_type": "stream",
          "text": [
            "Epoch 28/200 - Training: 100%|██████████| 294/294 [02:45<00:00,  1.78it/s]\n"
          ]
        },
        {
          "name": "stdout",
          "output_type": "stream",
          "text": [
            "Epoch 28/200 FINISHED => Train Loss: 0.8593, Val Loss: 0.9338, Train Acc: 67.48%, Val Acc: 65.23%\n"
          ]
        },
        {
          "name": "stderr",
          "output_type": "stream",
          "text": [
            "Epoch 29/200 - Training: 100%|██████████| 294/294 [02:42<00:00,  1.81it/s]\n"
          ]
        },
        {
          "name": "stdout",
          "output_type": "stream",
          "text": [
            "Epoch 29/200 FINISHED => Train Loss: 0.8481, Val Loss: 0.9317, Train Acc: 68.05%, Val Acc: 65.66%\n"
          ]
        },
        {
          "name": "stderr",
          "output_type": "stream",
          "text": [
            "Epoch 30/200 - Training: 100%|██████████| 294/294 [02:39<00:00,  1.84it/s]\n"
          ]
        },
        {
          "name": "stdout",
          "output_type": "stream",
          "text": [
            "Epoch 30/200 FINISHED => Train Loss: 0.8361, Val Loss: 0.9414, Train Acc: 68.34%, Val Acc: 64.94%\n"
          ]
        },
        {
          "name": "stderr",
          "output_type": "stream",
          "text": [
            "Epoch 31/200 - Training: 100%|██████████| 294/294 [02:43<00:00,  1.80it/s]\n"
          ]
        },
        {
          "name": "stdout",
          "output_type": "stream",
          "text": [
            "Epoch 31/200 FINISHED => Train Loss: 0.8467, Val Loss: 0.9272, Train Acc: 68.17%, Val Acc: 65.49%\n"
          ]
        },
        {
          "name": "stderr",
          "output_type": "stream",
          "text": [
            "Epoch 32/200 - Training: 100%|██████████| 294/294 [02:46<00:00,  1.76it/s]\n"
          ]
        },
        {
          "name": "stdout",
          "output_type": "stream",
          "text": [
            "Epoch 32/200 FINISHED => Train Loss: 0.8271, Val Loss: 0.9448, Train Acc: 68.54%, Val Acc: 64.68%\n"
          ]
        },
        {
          "name": "stderr",
          "output_type": "stream",
          "text": [
            "Epoch 33/200 - Training: 100%|██████████| 294/294 [03:49<00:00,  1.28it/s]\n"
          ]
        },
        {
          "name": "stdout",
          "output_type": "stream",
          "text": [
            "Epoch 33/200 FINISHED => Train Loss: 0.8232, Val Loss: 0.9279, Train Acc: 68.40%, Val Acc: 65.66%\n"
          ]
        },
        {
          "name": "stderr",
          "output_type": "stream",
          "text": [
            "Epoch 34/200 - Training: 100%|██████████| 294/294 [02:45<00:00,  1.78it/s]\n"
          ]
        },
        {
          "name": "stdout",
          "output_type": "stream",
          "text": [
            "Epoch 34/200 FINISHED => Train Loss: 0.8264, Val Loss: 0.9324, Train Acc: 68.66%, Val Acc: 65.70%\n"
          ]
        },
        {
          "name": "stderr",
          "output_type": "stream",
          "text": [
            "Epoch 35/200 - Training: 100%|██████████| 294/294 [02:48<00:00,  1.75it/s]\n"
          ]
        },
        {
          "name": "stdout",
          "output_type": "stream",
          "text": [
            "Epoch 35/200 FINISHED => Train Loss: 0.8138, Val Loss: 0.9307, Train Acc: 69.20%, Val Acc: 66.64%\n"
          ]
        },
        {
          "name": "stderr",
          "output_type": "stream",
          "text": [
            "Epoch 36/200 - Training: 100%|██████████| 294/294 [02:45<00:00,  1.78it/s]\n"
          ]
        },
        {
          "name": "stdout",
          "output_type": "stream",
          "text": [
            "Epoch 36/200 FINISHED => Train Loss: 0.8110, Val Loss: 0.9255, Train Acc: 69.28%, Val Acc: 66.30%\n"
          ]
        },
        {
          "name": "stderr",
          "output_type": "stream",
          "text": [
            "Epoch 37/200 - Training: 100%|██████████| 294/294 [02:50<00:00,  1.73it/s]\n"
          ]
        },
        {
          "name": "stdout",
          "output_type": "stream",
          "text": [
            "Epoch 37/200 FINISHED => Train Loss: 0.8117, Val Loss: 0.9280, Train Acc: 69.32%, Val Acc: 66.09%\n"
          ]
        },
        {
          "name": "stderr",
          "output_type": "stream",
          "text": [
            "Epoch 38/200 - Training: 100%|██████████| 294/294 [02:50<00:00,  1.72it/s]\n"
          ]
        },
        {
          "name": "stdout",
          "output_type": "stream",
          "text": [
            "Epoch 38/200 FINISHED => Train Loss: 0.8024, Val Loss: 0.9364, Train Acc: 69.16%, Val Acc: 65.57%\n"
          ]
        },
        {
          "name": "stderr",
          "output_type": "stream",
          "text": [
            "Epoch 39/200 - Training: 100%|██████████| 294/294 [02:49<00:00,  1.73it/s]\n"
          ]
        },
        {
          "name": "stdout",
          "output_type": "stream",
          "text": [
            "Epoch 39/200 FINISHED => Train Loss: 0.7996, Val Loss: 0.9256, Train Acc: 69.43%, Val Acc: 66.30%\n"
          ]
        },
        {
          "name": "stderr",
          "output_type": "stream",
          "text": [
            "Epoch 40/200 - Training: 100%|██████████| 294/294 [02:48<00:00,  1.75it/s]\n"
          ]
        },
        {
          "name": "stdout",
          "output_type": "stream",
          "text": [
            "Epoch 40/200 FINISHED => Train Loss: 0.7956, Val Loss: 0.9344, Train Acc: 69.89%, Val Acc: 65.11%\n"
          ]
        },
        {
          "name": "stderr",
          "output_type": "stream",
          "text": [
            "Epoch 41/200 - Training: 100%|██████████| 294/294 [02:46<00:00,  1.77it/s]\n"
          ]
        },
        {
          "name": "stdout",
          "output_type": "stream",
          "text": [
            "Epoch 41/200 FINISHED => Train Loss: 0.8033, Val Loss: 0.9356, Train Acc: 69.72%, Val Acc: 65.40%\n"
          ]
        },
        {
          "name": "stderr",
          "output_type": "stream",
          "text": [
            "Epoch 42/200 - Training: 100%|██████████| 294/294 [02:46<00:00,  1.77it/s]\n"
          ]
        },
        {
          "name": "stdout",
          "output_type": "stream",
          "text": [
            "Epoch 42/200 FINISHED => Train Loss: 0.7956, Val Loss: 0.9502, Train Acc: 70.17%, Val Acc: 64.77%\n"
          ]
        },
        {
          "name": "stderr",
          "output_type": "stream",
          "text": [
            "Epoch 43/200 - Training: 100%|██████████| 294/294 [03:17<00:00,  1.49it/s]\n"
          ]
        },
        {
          "name": "stdout",
          "output_type": "stream",
          "text": [
            "Epoch 43/200 FINISHED => Train Loss: 0.7908, Val Loss: 0.9375, Train Acc: 70.45%, Val Acc: 65.57%\n"
          ]
        },
        {
          "name": "stderr",
          "output_type": "stream",
          "text": [
            "Epoch 44/200 - Training: 100%|██████████| 294/294 [03:22<00:00,  1.45it/s]\n"
          ]
        },
        {
          "name": "stdout",
          "output_type": "stream",
          "text": [
            "Epoch 44/200 FINISHED => Train Loss: 0.8015, Val Loss: 0.9239, Train Acc: 69.83%, Val Acc: 66.00%\n"
          ]
        },
        {
          "name": "stderr",
          "output_type": "stream",
          "text": [
            "Epoch 45/200 - Training: 100%|██████████| 294/294 [03:13<00:00,  1.52it/s]\n"
          ]
        },
        {
          "name": "stdout",
          "output_type": "stream",
          "text": [
            "Epoch 45/200 FINISHED => Train Loss: 0.7929, Val Loss: 0.9285, Train Acc: 70.11%, Val Acc: 65.83%\n"
          ]
        },
        {
          "name": "stderr",
          "output_type": "stream",
          "text": [
            "Epoch 46/200 - Training: 100%|██████████| 294/294 [02:53<00:00,  1.70it/s]\n"
          ]
        },
        {
          "name": "stdout",
          "output_type": "stream",
          "text": [
            "Epoch 46/200 FINISHED => Train Loss: 0.7856, Val Loss: 0.9332, Train Acc: 70.17%, Val Acc: 65.15%\n"
          ]
        },
        {
          "name": "stderr",
          "output_type": "stream",
          "text": [
            "Epoch 47/200 - Training: 100%|██████████| 294/294 [02:51<00:00,  1.71it/s]\n"
          ]
        },
        {
          "name": "stdout",
          "output_type": "stream",
          "text": [
            "Epoch 47/200 FINISHED => Train Loss: 0.7861, Val Loss: 0.9393, Train Acc: 69.98%, Val Acc: 64.94%\n"
          ]
        },
        {
          "name": "stderr",
          "output_type": "stream",
          "text": [
            "Epoch 48/200 - Training: 100%|██████████| 294/294 [02:53<00:00,  1.70it/s]\n"
          ]
        },
        {
          "name": "stdout",
          "output_type": "stream",
          "text": [
            "Epoch 48/200 FINISHED => Train Loss: 0.7808, Val Loss: 0.9351, Train Acc: 70.30%, Val Acc: 65.49%\n"
          ]
        },
        {
          "name": "stderr",
          "output_type": "stream",
          "text": [
            "Epoch 49/200 - Training: 100%|██████████| 294/294 [03:41<00:00,  1.33it/s]\n"
          ]
        },
        {
          "name": "stdout",
          "output_type": "stream",
          "text": [
            "Epoch 49/200 FINISHED => Train Loss: 0.7793, Val Loss: 0.9389, Train Acc: 70.84%, Val Acc: 65.19%\n"
          ]
        },
        {
          "name": "stderr",
          "output_type": "stream",
          "text": [
            "Epoch 50/200 - Training: 100%|██████████| 294/294 [03:02<00:00,  1.62it/s]\n"
          ]
        },
        {
          "name": "stdout",
          "output_type": "stream",
          "text": [
            "Epoch 50/200 FINISHED => Train Loss: 0.7850, Val Loss: 0.9400, Train Acc: 71.04%, Val Acc: 65.53%\n"
          ]
        },
        {
          "name": "stderr",
          "output_type": "stream",
          "text": [
            "Epoch 51/200 - Training: 100%|██████████| 294/294 [02:52<00:00,  1.70it/s]\n"
          ]
        },
        {
          "name": "stdout",
          "output_type": "stream",
          "text": [
            "Epoch 51/200 FINISHED => Train Loss: 0.7789, Val Loss: 0.9234, Train Acc: 70.24%, Val Acc: 66.00%\n"
          ]
        },
        {
          "name": "stderr",
          "output_type": "stream",
          "text": [
            "Epoch 52/200 - Training: 100%|██████████| 294/294 [02:49<00:00,  1.73it/s]\n"
          ]
        },
        {
          "name": "stdout",
          "output_type": "stream",
          "text": [
            "Epoch 52/200 FINISHED => Train Loss: 0.7799, Val Loss: 0.9288, Train Acc: 70.04%, Val Acc: 65.62%\n"
          ]
        },
        {
          "name": "stderr",
          "output_type": "stream",
          "text": [
            "Epoch 53/200 - Training: 100%|██████████| 294/294 [02:57<00:00,  1.66it/s]\n"
          ]
        },
        {
          "name": "stdout",
          "output_type": "stream",
          "text": [
            "Epoch 53/200 FINISHED => Train Loss: 0.7796, Val Loss: 0.9359, Train Acc: 70.44%, Val Acc: 65.11%\n"
          ]
        },
        {
          "name": "stderr",
          "output_type": "stream",
          "text": [
            "Epoch 54/200 - Training: 100%|██████████| 294/294 [02:59<00:00,  1.64it/s]\n"
          ]
        },
        {
          "name": "stdout",
          "output_type": "stream",
          "text": [
            "Epoch 54/200 FINISHED => Train Loss: 0.7702, Val Loss: 0.9339, Train Acc: 70.66%, Val Acc: 65.40%\n"
          ]
        },
        {
          "name": "stderr",
          "output_type": "stream",
          "text": [
            "Epoch 55/200 - Training: 100%|██████████| 294/294 [02:58<00:00,  1.64it/s]\n"
          ]
        },
        {
          "name": "stdout",
          "output_type": "stream",
          "text": [
            "Epoch 55/200 FINISHED => Train Loss: 0.7751, Val Loss: 0.9308, Train Acc: 70.66%, Val Acc: 65.83%\n"
          ]
        },
        {
          "name": "stderr",
          "output_type": "stream",
          "text": [
            "Epoch 56/200 - Training: 100%|██████████| 294/294 [02:58<00:00,  1.65it/s]\n"
          ]
        },
        {
          "name": "stdout",
          "output_type": "stream",
          "text": [
            "Epoch 56/200 FINISHED => Train Loss: 0.7892, Val Loss: 0.9373, Train Acc: 70.34%, Val Acc: 65.40%\n"
          ]
        },
        {
          "name": "stderr",
          "output_type": "stream",
          "text": [
            "Epoch 57/200 - Training: 100%|██████████| 294/294 [02:55<00:00,  1.67it/s]\n"
          ]
        },
        {
          "name": "stdout",
          "output_type": "stream",
          "text": [
            "Epoch 57/200 FINISHED => Train Loss: 0.7736, Val Loss: 0.9348, Train Acc: 70.43%, Val Acc: 65.32%\n"
          ]
        },
        {
          "name": "stderr",
          "output_type": "stream",
          "text": [
            "Epoch 58/200 - Training: 100%|██████████| 294/294 [02:55<00:00,  1.68it/s]\n"
          ]
        },
        {
          "name": "stdout",
          "output_type": "stream",
          "text": [
            "Epoch 58/200 FINISHED => Train Loss: 0.7721, Val Loss: 0.9310, Train Acc: 71.05%, Val Acc: 65.79%\n"
          ]
        },
        {
          "name": "stderr",
          "output_type": "stream",
          "text": [
            "Epoch 59/200 - Training: 100%|██████████| 294/294 [02:56<00:00,  1.67it/s]\n"
          ]
        },
        {
          "name": "stdout",
          "output_type": "stream",
          "text": [
            "Epoch 59/200 FINISHED => Train Loss: 0.7777, Val Loss: 0.9305, Train Acc: 70.64%, Val Acc: 65.74%\n"
          ]
        },
        {
          "name": "stderr",
          "output_type": "stream",
          "text": [
            "Epoch 60/200 - Training: 100%|██████████| 294/294 [02:54<00:00,  1.69it/s]\n"
          ]
        },
        {
          "name": "stdout",
          "output_type": "stream",
          "text": [
            "Epoch 60/200 FINISHED => Train Loss: 0.7918, Val Loss: 0.9376, Train Acc: 70.14%, Val Acc: 65.11%\n"
          ]
        },
        {
          "name": "stderr",
          "output_type": "stream",
          "text": [
            "Epoch 61/200 - Training: 100%|██████████| 294/294 [03:02<00:00,  1.61it/s]\n"
          ]
        },
        {
          "name": "stdout",
          "output_type": "stream",
          "text": [
            "Epoch 61/200 FINISHED => Train Loss: 0.7754, Val Loss: 0.9342, Train Acc: 71.07%, Val Acc: 65.45%\n"
          ]
        },
        {
          "name": "stderr",
          "output_type": "stream",
          "text": [
            "Epoch 62/200 - Training: 100%|██████████| 294/294 [03:00<00:00,  1.63it/s]\n"
          ]
        },
        {
          "name": "stdout",
          "output_type": "stream",
          "text": [
            "Epoch 62/200 FINISHED => Train Loss: 0.7786, Val Loss: 0.9262, Train Acc: 70.79%, Val Acc: 65.79%\n"
          ]
        },
        {
          "name": "stderr",
          "output_type": "stream",
          "text": [
            "Epoch 63/200 - Training: 100%|██████████| 294/294 [02:57<00:00,  1.65it/s]\n"
          ]
        },
        {
          "name": "stdout",
          "output_type": "stream",
          "text": [
            "Epoch 63/200 FINISHED => Train Loss: 0.7738, Val Loss: 0.9408, Train Acc: 70.60%, Val Acc: 64.77%\n"
          ]
        },
        {
          "name": "stderr",
          "output_type": "stream",
          "text": [
            "Epoch 64/200 - Training: 100%|██████████| 294/294 [02:55<00:00,  1.68it/s]\n"
          ]
        },
        {
          "name": "stdout",
          "output_type": "stream",
          "text": [
            "Epoch 64/200 FINISHED => Train Loss: 0.7682, Val Loss: 0.9506, Train Acc: 70.97%, Val Acc: 64.85%\n"
          ]
        },
        {
          "name": "stderr",
          "output_type": "stream",
          "text": [
            "Epoch 65/200 - Training: 100%|██████████| 294/294 [03:09<00:00,  1.55it/s]\n"
          ]
        },
        {
          "name": "stdout",
          "output_type": "stream",
          "text": [
            "Epoch 65/200 FINISHED => Train Loss: 0.7776, Val Loss: 0.9467, Train Acc: 69.92%, Val Acc: 64.43%\n"
          ]
        },
        {
          "name": "stderr",
          "output_type": "stream",
          "text": [
            "Epoch 66/200 - Training: 100%|██████████| 294/294 [03:39<00:00,  1.34it/s]\n"
          ]
        },
        {
          "name": "stdout",
          "output_type": "stream",
          "text": [
            "Epoch 66/200 FINISHED => Train Loss: 0.7767, Val Loss: 0.9349, Train Acc: 70.74%, Val Acc: 65.28%\n"
          ]
        },
        {
          "name": "stderr",
          "output_type": "stream",
          "text": [
            "Epoch 67/200 - Training: 100%|██████████| 294/294 [02:59<00:00,  1.64it/s]\n"
          ]
        },
        {
          "name": "stdout",
          "output_type": "stream",
          "text": [
            "Epoch 67/200 FINISHED => Train Loss: 0.7647, Val Loss: 0.9334, Train Acc: 71.00%, Val Acc: 65.19%\n"
          ]
        },
        {
          "name": "stderr",
          "output_type": "stream",
          "text": [
            "Epoch 68/200 - Training: 100%|██████████| 294/294 [02:59<00:00,  1.64it/s]\n"
          ]
        },
        {
          "name": "stdout",
          "output_type": "stream",
          "text": [
            "Epoch 68/200 FINISHED => Train Loss: 0.7793, Val Loss: 0.9317, Train Acc: 70.20%, Val Acc: 65.49%\n"
          ]
        },
        {
          "name": "stderr",
          "output_type": "stream",
          "text": [
            "Epoch 69/200 - Training: 100%|██████████| 294/294 [03:01<00:00,  1.62it/s]\n"
          ]
        },
        {
          "name": "stdout",
          "output_type": "stream",
          "text": [
            "Epoch 69/200 FINISHED => Train Loss: 0.7750, Val Loss: 0.9304, Train Acc: 70.79%, Val Acc: 65.66%\n"
          ]
        },
        {
          "name": "stderr",
          "output_type": "stream",
          "text": [
            "Epoch 70/200 - Training: 100%|██████████| 294/294 [03:02<00:00,  1.61it/s]\n"
          ]
        },
        {
          "name": "stdout",
          "output_type": "stream",
          "text": [
            "Epoch 70/200 FINISHED => Train Loss: 0.7727, Val Loss: 0.9281, Train Acc: 70.81%, Val Acc: 65.40%\n"
          ]
        },
        {
          "name": "stderr",
          "output_type": "stream",
          "text": [
            "Epoch 71/200 - Training: 100%|██████████| 294/294 [03:07<00:00,  1.57it/s]\n"
          ]
        },
        {
          "name": "stdout",
          "output_type": "stream",
          "text": [
            "Epoch 71/200 FINISHED => Train Loss: 0.7690, Val Loss: 0.9282, Train Acc: 70.45%, Val Acc: 65.62%\n"
          ]
        },
        {
          "name": "stderr",
          "output_type": "stream",
          "text": [
            "Epoch 72/200 - Training: 100%|██████████| 294/294 [03:06<00:00,  1.57it/s]\n"
          ]
        },
        {
          "name": "stdout",
          "output_type": "stream",
          "text": [
            "Epoch 72/200 FINISHED => Train Loss: 0.7733, Val Loss: 0.9392, Train Acc: 70.48%, Val Acc: 65.45%\n"
          ]
        },
        {
          "name": "stderr",
          "output_type": "stream",
          "text": [
            "Epoch 73/200 - Training: 100%|██████████| 294/294 [03:08<00:00,  1.56it/s]\n"
          ]
        },
        {
          "name": "stdout",
          "output_type": "stream",
          "text": [
            "Epoch 73/200 FINISHED => Train Loss: 0.7757, Val Loss: 0.9333, Train Acc: 70.59%, Val Acc: 65.53%\n"
          ]
        },
        {
          "name": "stderr",
          "output_type": "stream",
          "text": [
            "Epoch 74/200 - Training: 100%|██████████| 294/294 [03:10<00:00,  1.55it/s]\n"
          ]
        },
        {
          "name": "stdout",
          "output_type": "stream",
          "text": [
            "Epoch 74/200 FINISHED => Train Loss: 0.7719, Val Loss: 0.9468, Train Acc: 70.60%, Val Acc: 64.85%\n"
          ]
        },
        {
          "name": "stderr",
          "output_type": "stream",
          "text": [
            "Epoch 75/200 - Training: 100%|██████████| 294/294 [03:06<00:00,  1.58it/s]\n"
          ]
        },
        {
          "name": "stdout",
          "output_type": "stream",
          "text": [
            "Epoch 75/200 FINISHED => Train Loss: 0.7718, Val Loss: 0.9254, Train Acc: 70.74%, Val Acc: 65.79%\n"
          ]
        },
        {
          "name": "stderr",
          "output_type": "stream",
          "text": [
            "Epoch 76/200 - Training: 100%|██████████| 294/294 [03:06<00:00,  1.58it/s]\n"
          ]
        },
        {
          "name": "stdout",
          "output_type": "stream",
          "text": [
            "Epoch 76/200 FINISHED => Train Loss: 0.7804, Val Loss: 0.9346, Train Acc: 69.95%, Val Acc: 65.19%\n"
          ]
        },
        {
          "name": "stderr",
          "output_type": "stream",
          "text": [
            "Epoch 77/200 - Training: 100%|██████████| 294/294 [03:09<00:00,  1.55it/s]\n"
          ]
        },
        {
          "name": "stdout",
          "output_type": "stream",
          "text": [
            "Epoch 77/200 FINISHED => Train Loss: 0.7838, Val Loss: 0.9392, Train Acc: 70.60%, Val Acc: 65.23%\n"
          ]
        },
        {
          "name": "stderr",
          "output_type": "stream",
          "text": [
            "Epoch 78/200 - Training: 100%|██████████| 294/294 [03:07<00:00,  1.57it/s]\n"
          ]
        },
        {
          "name": "stdout",
          "output_type": "stream",
          "text": [
            "Epoch 78/200 FINISHED => Train Loss: 0.7675, Val Loss: 0.9369, Train Acc: 70.64%, Val Acc: 64.51%\n"
          ]
        },
        {
          "name": "stderr",
          "output_type": "stream",
          "text": [
            "Epoch 79/200 - Training: 100%|██████████| 294/294 [03:06<00:00,  1.58it/s]\n"
          ]
        },
        {
          "name": "stdout",
          "output_type": "stream",
          "text": [
            "Epoch 79/200 FINISHED => Train Loss: 0.7781, Val Loss: 0.9290, Train Acc: 70.49%, Val Acc: 65.96%\n"
          ]
        },
        {
          "name": "stderr",
          "output_type": "stream",
          "text": [
            "Epoch 80/200 - Training: 100%|██████████| 294/294 [03:10<00:00,  1.54it/s]\n"
          ]
        },
        {
          "name": "stdout",
          "output_type": "stream",
          "text": [
            "Epoch 80/200 FINISHED => Train Loss: 0.7776, Val Loss: 0.9310, Train Acc: 70.98%, Val Acc: 65.23%\n"
          ]
        },
        {
          "name": "stderr",
          "output_type": "stream",
          "text": [
            "Epoch 81/200 - Training: 100%|██████████| 294/294 [03:44<00:00,  1.31it/s]\n"
          ]
        },
        {
          "name": "stdout",
          "output_type": "stream",
          "text": [
            "Epoch 81/200 FINISHED => Train Loss: 0.7722, Val Loss: 0.9339, Train Acc: 71.17%, Val Acc: 64.85%\n"
          ]
        },
        {
          "name": "stderr",
          "output_type": "stream",
          "text": [
            "Epoch 82/200 - Training: 100%|██████████| 294/294 [03:16<00:00,  1.50it/s]\n"
          ]
        },
        {
          "name": "stdout",
          "output_type": "stream",
          "text": [
            "Epoch 82/200 FINISHED => Train Loss: 0.7781, Val Loss: 0.9300, Train Acc: 70.24%, Val Acc: 65.83%\n"
          ]
        },
        {
          "name": "stderr",
          "output_type": "stream",
          "text": [
            "Epoch 83/200 - Training: 100%|██████████| 294/294 [03:10<00:00,  1.55it/s]\n"
          ]
        },
        {
          "name": "stdout",
          "output_type": "stream",
          "text": [
            "Epoch 83/200 FINISHED => Train Loss: 0.7780, Val Loss: 0.9357, Train Acc: 70.47%, Val Acc: 65.15%\n"
          ]
        },
        {
          "name": "stderr",
          "output_type": "stream",
          "text": [
            "Epoch 84/200 - Training: 100%|██████████| 294/294 [03:10<00:00,  1.55it/s]\n"
          ]
        },
        {
          "name": "stdout",
          "output_type": "stream",
          "text": [
            "Epoch 84/200 FINISHED => Train Loss: 0.7861, Val Loss: 0.9333, Train Acc: 70.51%, Val Acc: 65.15%\n"
          ]
        },
        {
          "name": "stderr",
          "output_type": "stream",
          "text": [
            "Epoch 85/200 - Training: 100%|██████████| 294/294 [03:10<00:00,  1.54it/s]\n"
          ]
        },
        {
          "name": "stdout",
          "output_type": "stream",
          "text": [
            "Epoch 85/200 FINISHED => Train Loss: 0.7730, Val Loss: 0.9516, Train Acc: 70.53%, Val Acc: 64.34%\n"
          ]
        },
        {
          "name": "stderr",
          "output_type": "stream",
          "text": [
            "Epoch 86/200 - Training: 100%|██████████| 294/294 [03:14<00:00,  1.52it/s]\n"
          ]
        },
        {
          "name": "stdout",
          "output_type": "stream",
          "text": [
            "Epoch 86/200 FINISHED => Train Loss: 0.7728, Val Loss: 0.9310, Train Acc: 70.53%, Val Acc: 65.83%\n"
          ]
        },
        {
          "name": "stderr",
          "output_type": "stream",
          "text": [
            "Epoch 87/200 - Training: 100%|██████████| 294/294 [03:20<00:00,  1.47it/s]\n"
          ]
        },
        {
          "name": "stdout",
          "output_type": "stream",
          "text": [
            "Epoch 87/200 FINISHED => Train Loss: 0.7760, Val Loss: 0.9234, Train Acc: 70.78%, Val Acc: 66.51%\n"
          ]
        },
        {
          "name": "stderr",
          "output_type": "stream",
          "text": [
            "Epoch 88/200 - Training: 100%|██████████| 294/294 [03:11<00:00,  1.53it/s]\n"
          ]
        },
        {
          "name": "stdout",
          "output_type": "stream",
          "text": [
            "Epoch 88/200 FINISHED => Train Loss: 0.7786, Val Loss: 0.9478, Train Acc: 70.54%, Val Acc: 64.77%\n"
          ]
        },
        {
          "name": "stderr",
          "output_type": "stream",
          "text": [
            "Epoch 89/200 - Training: 100%|██████████| 294/294 [03:12<00:00,  1.52it/s]\n"
          ]
        },
        {
          "name": "stdout",
          "output_type": "stream",
          "text": [
            "Epoch 89/200 FINISHED => Train Loss: 0.7731, Val Loss: 0.9362, Train Acc: 70.65%, Val Acc: 65.36%\n"
          ]
        },
        {
          "name": "stderr",
          "output_type": "stream",
          "text": [
            "Epoch 90/200 - Training: 100%|██████████| 294/294 [03:06<00:00,  1.58it/s]\n"
          ]
        },
        {
          "name": "stdout",
          "output_type": "stream",
          "text": [
            "Epoch 90/200 FINISHED => Train Loss: 0.7716, Val Loss: 0.9281, Train Acc: 71.00%, Val Acc: 65.79%\n"
          ]
        },
        {
          "name": "stderr",
          "output_type": "stream",
          "text": [
            "Epoch 91/200 - Training: 100%|██████████| 294/294 [03:08<00:00,  1.56it/s]\n"
          ]
        },
        {
          "name": "stdout",
          "output_type": "stream",
          "text": [
            "Epoch 91/200 FINISHED => Train Loss: 0.7810, Val Loss: 0.9346, Train Acc: 70.75%, Val Acc: 65.57%\n"
          ]
        },
        {
          "name": "stderr",
          "output_type": "stream",
          "text": [
            "Epoch 92/200 - Training: 100%|██████████| 294/294 [03:19<00:00,  1.48it/s]\n"
          ]
        },
        {
          "name": "stdout",
          "output_type": "stream",
          "text": [
            "Epoch 92/200 FINISHED => Train Loss: 0.7675, Val Loss: 0.9435, Train Acc: 71.02%, Val Acc: 64.68%\n"
          ]
        },
        {
          "name": "stderr",
          "output_type": "stream",
          "text": [
            "Epoch 93/200 - Training: 100%|██████████| 294/294 [03:16<00:00,  1.49it/s]\n"
          ]
        },
        {
          "name": "stdout",
          "output_type": "stream",
          "text": [
            "Epoch 93/200 FINISHED => Train Loss: 0.7808, Val Loss: 0.9314, Train Acc: 70.00%, Val Acc: 65.28%\n"
          ]
        },
        {
          "name": "stderr",
          "output_type": "stream",
          "text": [
            "Epoch 94/200 - Training: 100%|██████████| 294/294 [03:08<00:00,  1.56it/s]\n"
          ]
        },
        {
          "name": "stdout",
          "output_type": "stream",
          "text": [
            "Epoch 94/200 FINISHED => Train Loss: 0.7842, Val Loss: 0.9285, Train Acc: 70.49%, Val Acc: 65.45%\n"
          ]
        },
        {
          "name": "stderr",
          "output_type": "stream",
          "text": [
            "Epoch 95/200 - Training: 100%|██████████| 294/294 [03:04<00:00,  1.59it/s]\n"
          ]
        },
        {
          "name": "stdout",
          "output_type": "stream",
          "text": [
            "Epoch 95/200 FINISHED => Train Loss: 0.7724, Val Loss: 0.9360, Train Acc: 70.75%, Val Acc: 65.19%\n"
          ]
        },
        {
          "name": "stderr",
          "output_type": "stream",
          "text": [
            "Epoch 96/200 - Training: 100%|██████████| 294/294 [03:12<00:00,  1.53it/s]\n"
          ]
        },
        {
          "name": "stdout",
          "output_type": "stream",
          "text": [
            "Epoch 96/200 FINISHED => Train Loss: 0.7717, Val Loss: 0.9420, Train Acc: 70.81%, Val Acc: 65.40%\n"
          ]
        },
        {
          "name": "stderr",
          "output_type": "stream",
          "text": [
            "Epoch 97/200 - Training: 100%|██████████| 294/294 [03:43<00:00,  1.32it/s]\n"
          ]
        },
        {
          "name": "stdout",
          "output_type": "stream",
          "text": [
            "Epoch 97/200 FINISHED => Train Loss: 0.7693, Val Loss: 0.9296, Train Acc: 70.98%, Val Acc: 65.79%\n"
          ]
        },
        {
          "name": "stderr",
          "output_type": "stream",
          "text": [
            "Epoch 98/200 - Training: 100%|██████████| 294/294 [03:06<00:00,  1.58it/s]\n"
          ]
        },
        {
          "name": "stdout",
          "output_type": "stream",
          "text": [
            "Epoch 98/200 FINISHED => Train Loss: 0.7713, Val Loss: 0.9384, Train Acc: 70.77%, Val Acc: 64.55%\n"
          ]
        },
        {
          "name": "stderr",
          "output_type": "stream",
          "text": [
            "Epoch 99/200 - Training: 100%|██████████| 294/294 [03:07<00:00,  1.57it/s]\n"
          ]
        },
        {
          "name": "stdout",
          "output_type": "stream",
          "text": [
            "Epoch 99/200 FINISHED => Train Loss: 0.7769, Val Loss: 0.9255, Train Acc: 70.75%, Val Acc: 66.09%\n"
          ]
        },
        {
          "name": "stderr",
          "output_type": "stream",
          "text": [
            "Epoch 100/200 - Training: 100%|██████████| 294/294 [03:05<00:00,  1.58it/s]\n"
          ]
        },
        {
          "name": "stdout",
          "output_type": "stream",
          "text": [
            "Epoch 100/200 FINISHED => Train Loss: 0.7768, Val Loss: 0.9303, Train Acc: 71.02%, Val Acc: 65.70%\n"
          ]
        },
        {
          "name": "stderr",
          "output_type": "stream",
          "text": [
            "Epoch 101/200 - Training: 100%|██████████| 294/294 [03:07<00:00,  1.57it/s]\n"
          ]
        },
        {
          "name": "stdout",
          "output_type": "stream",
          "text": [
            "Epoch 101/200 FINISHED => Train Loss: 0.7709, Val Loss: 0.9356, Train Acc: 70.74%, Val Acc: 65.02%\n"
          ]
        },
        {
          "name": "stderr",
          "output_type": "stream",
          "text": [
            "Epoch 102/200 - Training: 100%|██████████| 294/294 [03:09<00:00,  1.55it/s]\n"
          ]
        },
        {
          "name": "stdout",
          "output_type": "stream",
          "text": [
            "Epoch 102/200 FINISHED => Train Loss: 0.7733, Val Loss: 0.9420, Train Acc: 70.79%, Val Acc: 65.23%\n"
          ]
        },
        {
          "name": "stderr",
          "output_type": "stream",
          "text": [
            "Epoch 103/200 - Training: 100%|██████████| 294/294 [03:14<00:00,  1.51it/s]\n"
          ]
        },
        {
          "name": "stdout",
          "output_type": "stream",
          "text": [
            "Epoch 103/200 FINISHED => Train Loss: 0.7761, Val Loss: 0.9423, Train Acc: 70.96%, Val Acc: 65.28%\n"
          ]
        },
        {
          "name": "stderr",
          "output_type": "stream",
          "text": [
            "Epoch 104/200 - Training: 100%|██████████| 294/294 [03:19<00:00,  1.47it/s]\n"
          ]
        },
        {
          "name": "stdout",
          "output_type": "stream",
          "text": [
            "Epoch 104/200 FINISHED => Train Loss: 0.7777, Val Loss: 0.9313, Train Acc: 70.81%, Val Acc: 65.45%\n"
          ]
        },
        {
          "name": "stderr",
          "output_type": "stream",
          "text": [
            "Epoch 105/200 - Training: 100%|██████████| 294/294 [03:17<00:00,  1.49it/s]\n"
          ]
        },
        {
          "name": "stdout",
          "output_type": "stream",
          "text": [
            "Epoch 105/200 FINISHED => Train Loss: 0.7794, Val Loss: 0.9279, Train Acc: 70.51%, Val Acc: 66.34%\n"
          ]
        },
        {
          "name": "stderr",
          "output_type": "stream",
          "text": [
            "Epoch 106/200 - Training: 100%|██████████| 294/294 [03:11<00:00,  1.54it/s]\n"
          ]
        },
        {
          "name": "stdout",
          "output_type": "stream",
          "text": [
            "Epoch 106/200 FINISHED => Train Loss: 0.7786, Val Loss: 0.9256, Train Acc: 70.71%, Val Acc: 65.57%\n"
          ]
        },
        {
          "name": "stderr",
          "output_type": "stream",
          "text": [
            "Epoch 107/200 - Training: 100%|██████████| 294/294 [03:09<00:00,  1.55it/s]\n"
          ]
        },
        {
          "name": "stdout",
          "output_type": "stream",
          "text": [
            "Epoch 107/200 FINISHED => Train Loss: 0.7725, Val Loss: 0.9237, Train Acc: 71.00%, Val Acc: 65.57%\n"
          ]
        },
        {
          "name": "stderr",
          "output_type": "stream",
          "text": [
            "Epoch 108/200 - Training: 100%|██████████| 294/294 [03:12<00:00,  1.53it/s]\n"
          ]
        },
        {
          "name": "stdout",
          "output_type": "stream",
          "text": [
            "Epoch 108/200 FINISHED => Train Loss: 0.7657, Val Loss: 0.9347, Train Acc: 70.78%, Val Acc: 65.11%\n"
          ]
        },
        {
          "name": "stderr",
          "output_type": "stream",
          "text": [
            "Epoch 109/200 - Training: 100%|██████████| 294/294 [03:09<00:00,  1.55it/s]\n"
          ]
        },
        {
          "name": "stdout",
          "output_type": "stream",
          "text": [
            "Epoch 109/200 FINISHED => Train Loss: 0.7733, Val Loss: 0.9345, Train Acc: 70.81%, Val Acc: 65.57%\n"
          ]
        },
        {
          "name": "stderr",
          "output_type": "stream",
          "text": [
            "Epoch 110/200 - Training: 100%|██████████| 294/294 [03:09<00:00,  1.55it/s]\n"
          ]
        },
        {
          "name": "stdout",
          "output_type": "stream",
          "text": [
            "Epoch 110/200 FINISHED => Train Loss: 0.7740, Val Loss: 0.9292, Train Acc: 70.61%, Val Acc: 65.74%\n"
          ]
        },
        {
          "name": "stderr",
          "output_type": "stream",
          "text": [
            "Epoch 111/200 - Training: 100%|██████████| 294/294 [03:17<00:00,  1.49it/s]\n"
          ]
        },
        {
          "name": "stdout",
          "output_type": "stream",
          "text": [
            "Epoch 111/200 FINISHED => Train Loss: 0.7741, Val Loss: 0.9413, Train Acc: 70.53%, Val Acc: 65.32%\n"
          ]
        },
        {
          "name": "stderr",
          "output_type": "stream",
          "text": [
            "Epoch 112/200 - Training: 100%|██████████| 294/294 [04:00<00:00,  1.22it/s]\n"
          ]
        },
        {
          "name": "stdout",
          "output_type": "stream",
          "text": [
            "Epoch 112/200 FINISHED => Train Loss: 0.7746, Val Loss: 0.9360, Train Acc: 70.35%, Val Acc: 65.02%\n"
          ]
        },
        {
          "name": "stderr",
          "output_type": "stream",
          "text": [
            "Epoch 113/200 - Training: 100%|██████████| 294/294 [03:15<00:00,  1.51it/s]\n"
          ]
        },
        {
          "name": "stdout",
          "output_type": "stream",
          "text": [
            "Epoch 113/200 FINISHED => Train Loss: 0.7752, Val Loss: 0.9269, Train Acc: 70.50%, Val Acc: 65.83%\n"
          ]
        },
        {
          "name": "stderr",
          "output_type": "stream",
          "text": [
            "Epoch 114/200 - Training: 100%|██████████| 294/294 [03:14<00:00,  1.51it/s]\n"
          ]
        },
        {
          "name": "stdout",
          "output_type": "stream",
          "text": [
            "Epoch 114/200 FINISHED => Train Loss: 0.7759, Val Loss: 0.9346, Train Acc: 70.96%, Val Acc: 65.02%\n"
          ]
        },
        {
          "name": "stderr",
          "output_type": "stream",
          "text": [
            "Epoch 115/200 - Training: 100%|██████████| 294/294 [03:13<00:00,  1.52it/s]\n"
          ]
        },
        {
          "name": "stdout",
          "output_type": "stream",
          "text": [
            "Epoch 115/200 FINISHED => Train Loss: 0.7757, Val Loss: 0.9363, Train Acc: 71.11%, Val Acc: 65.36%\n"
          ]
        },
        {
          "name": "stderr",
          "output_type": "stream",
          "text": [
            "Epoch 116/200 - Training: 100%|██████████| 294/294 [03:15<00:00,  1.51it/s]\n"
          ]
        },
        {
          "name": "stdout",
          "output_type": "stream",
          "text": [
            "Epoch 116/200 FINISHED => Train Loss: 0.7747, Val Loss: 0.9359, Train Acc: 71.16%, Val Acc: 65.32%\n"
          ]
        },
        {
          "name": "stderr",
          "output_type": "stream",
          "text": [
            "Epoch 117/200 - Training: 100%|██████████| 294/294 [03:17<00:00,  1.49it/s]\n"
          ]
        },
        {
          "name": "stdout",
          "output_type": "stream",
          "text": [
            "Epoch 117/200 FINISHED => Train Loss: 0.7875, Val Loss: 0.9257, Train Acc: 70.52%, Val Acc: 66.09%\n"
          ]
        },
        {
          "name": "stderr",
          "output_type": "stream",
          "text": [
            "Epoch 118/200 - Training: 100%|██████████| 294/294 [03:21<00:00,  1.46it/s]\n"
          ]
        },
        {
          "name": "stdout",
          "output_type": "stream",
          "text": [
            "Epoch 118/200 FINISHED => Train Loss: 0.7736, Val Loss: 0.9353, Train Acc: 70.78%, Val Acc: 65.40%\n"
          ]
        },
        {
          "name": "stderr",
          "output_type": "stream",
          "text": [
            "Epoch 119/200 - Training: 100%|██████████| 294/294 [03:24<00:00,  1.44it/s]\n"
          ]
        },
        {
          "name": "stdout",
          "output_type": "stream",
          "text": [
            "Epoch 119/200 FINISHED => Train Loss: 0.7704, Val Loss: 0.9383, Train Acc: 70.63%, Val Acc: 65.40%\n"
          ]
        },
        {
          "name": "stderr",
          "output_type": "stream",
          "text": [
            "Epoch 120/200 - Training: 100%|██████████| 294/294 [03:25<00:00,  1.43it/s]\n"
          ]
        },
        {
          "name": "stdout",
          "output_type": "stream",
          "text": [
            "Epoch 120/200 FINISHED => Train Loss: 0.7806, Val Loss: 0.9360, Train Acc: 70.67%, Val Acc: 65.40%\n"
          ]
        },
        {
          "name": "stderr",
          "output_type": "stream",
          "text": [
            "Epoch 121/200 - Training: 100%|██████████| 294/294 [03:22<00:00,  1.45it/s]\n"
          ]
        },
        {
          "name": "stdout",
          "output_type": "stream",
          "text": [
            "Epoch 121/200 FINISHED => Train Loss: 0.7787, Val Loss: 0.9344, Train Acc: 70.80%, Val Acc: 65.49%\n"
          ]
        },
        {
          "name": "stderr",
          "output_type": "stream",
          "text": [
            "Epoch 122/200 - Training: 100%|██████████| 294/294 [03:16<00:00,  1.50it/s]\n"
          ]
        },
        {
          "name": "stdout",
          "output_type": "stream",
          "text": [
            "Epoch 122/200 FINISHED => Train Loss: 0.7767, Val Loss: 0.9309, Train Acc: 70.52%, Val Acc: 65.87%\n"
          ]
        },
        {
          "name": "stderr",
          "output_type": "stream",
          "text": [
            "Epoch 123/200 - Training: 100%|██████████| 294/294 [03:20<00:00,  1.47it/s]\n"
          ]
        },
        {
          "name": "stdout",
          "output_type": "stream",
          "text": [
            "Epoch 123/200 FINISHED => Train Loss: 0.7739, Val Loss: 0.9301, Train Acc: 70.74%, Val Acc: 65.66%\n"
          ]
        },
        {
          "name": "stderr",
          "output_type": "stream",
          "text": [
            "Epoch 124/200 - Training: 100%|██████████| 294/294 [03:15<00:00,  1.50it/s]\n"
          ]
        },
        {
          "name": "stdout",
          "output_type": "stream",
          "text": [
            "Epoch 124/200 FINISHED => Train Loss: 0.7702, Val Loss: 0.9308, Train Acc: 70.51%, Val Acc: 65.53%\n"
          ]
        },
        {
          "name": "stderr",
          "output_type": "stream",
          "text": [
            "Epoch 125/200 - Training: 100%|██████████| 294/294 [03:15<00:00,  1.50it/s]\n"
          ]
        },
        {
          "name": "stdout",
          "output_type": "stream",
          "text": [
            "Epoch 125/200 FINISHED => Train Loss: 0.7814, Val Loss: 0.9375, Train Acc: 70.16%, Val Acc: 65.11%\n"
          ]
        },
        {
          "name": "stderr",
          "output_type": "stream",
          "text": [
            "Epoch 126/200 - Training: 100%|██████████| 294/294 [03:15<00:00,  1.50it/s]\n"
          ]
        },
        {
          "name": "stdout",
          "output_type": "stream",
          "text": [
            "Epoch 126/200 FINISHED => Train Loss: 0.7805, Val Loss: 0.9326, Train Acc: 70.28%, Val Acc: 65.28%\n"
          ]
        },
        {
          "name": "stderr",
          "output_type": "stream",
          "text": [
            "Epoch 127/200 - Training: 100%|██████████| 294/294 [03:57<00:00,  1.24it/s]\n"
          ]
        },
        {
          "name": "stdout",
          "output_type": "stream",
          "text": [
            "Epoch 127/200 FINISHED => Train Loss: 0.7789, Val Loss: 0.9416, Train Acc: 70.43%, Val Acc: 64.98%\n"
          ]
        },
        {
          "name": "stderr",
          "output_type": "stream",
          "text": [
            "Epoch 128/200 - Training: 100%|██████████| 294/294 [03:16<00:00,  1.50it/s]\n"
          ]
        },
        {
          "name": "stdout",
          "output_type": "stream",
          "text": [
            "Epoch 128/200 FINISHED => Train Loss: 0.7727, Val Loss: 0.9321, Train Acc: 70.78%, Val Acc: 65.06%\n"
          ]
        },
        {
          "name": "stderr",
          "output_type": "stream",
          "text": [
            "Epoch 129/200 - Training: 100%|██████████| 294/294 [03:16<00:00,  1.50it/s]\n"
          ]
        },
        {
          "name": "stdout",
          "output_type": "stream",
          "text": [
            "Epoch 129/200 FINISHED => Train Loss: 0.7751, Val Loss: 0.9393, Train Acc: 70.63%, Val Acc: 65.28%\n"
          ]
        },
        {
          "name": "stderr",
          "output_type": "stream",
          "text": [
            "Epoch 130/200 - Training: 100%|██████████| 294/294 [03:18<00:00,  1.48it/s]\n"
          ]
        },
        {
          "name": "stdout",
          "output_type": "stream",
          "text": [
            "Epoch 130/200 FINISHED => Train Loss: 0.7779, Val Loss: 0.9226, Train Acc: 70.83%, Val Acc: 66.26%\n"
          ]
        },
        {
          "name": "stderr",
          "output_type": "stream",
          "text": [
            "Epoch 131/200 - Training: 100%|██████████| 294/294 [03:19<00:00,  1.48it/s]\n"
          ]
        },
        {
          "name": "stdout",
          "output_type": "stream",
          "text": [
            "Epoch 131/200 FINISHED => Train Loss: 0.7742, Val Loss: 0.9457, Train Acc: 70.59%, Val Acc: 64.43%\n"
          ]
        },
        {
          "name": "stderr",
          "output_type": "stream",
          "text": [
            "Epoch 132/200 - Training: 100%|██████████| 294/294 [03:19<00:00,  1.47it/s]\n"
          ]
        },
        {
          "name": "stdout",
          "output_type": "stream",
          "text": [
            "Epoch 132/200 FINISHED => Train Loss: 0.7823, Val Loss: 0.9342, Train Acc: 70.83%, Val Acc: 65.53%\n"
          ]
        },
        {
          "name": "stderr",
          "output_type": "stream",
          "text": [
            "Epoch 133/200 - Training: 100%|██████████| 294/294 [03:22<00:00,  1.45it/s]\n"
          ]
        },
        {
          "name": "stdout",
          "output_type": "stream",
          "text": [
            "Epoch 133/200 FINISHED => Train Loss: 0.7762, Val Loss: 0.9255, Train Acc: 70.16%, Val Acc: 65.79%\n"
          ]
        },
        {
          "name": "stderr",
          "output_type": "stream",
          "text": [
            "Epoch 134/200 - Training: 100%|██████████| 294/294 [03:23<00:00,  1.44it/s]\n"
          ]
        },
        {
          "name": "stdout",
          "output_type": "stream",
          "text": [
            "Epoch 134/200 FINISHED => Train Loss: 0.7817, Val Loss: 0.9417, Train Acc: 70.57%, Val Acc: 64.77%\n"
          ]
        },
        {
          "name": "stderr",
          "output_type": "stream",
          "text": [
            "Epoch 135/200 - Training: 100%|██████████| 294/294 [03:24<00:00,  1.43it/s]\n"
          ]
        },
        {
          "name": "stdout",
          "output_type": "stream",
          "text": [
            "Epoch 135/200 FINISHED => Train Loss: 0.7701, Val Loss: 0.9476, Train Acc: 70.66%, Val Acc: 64.89%\n"
          ]
        },
        {
          "name": "stderr",
          "output_type": "stream",
          "text": [
            "Epoch 136/200 - Training: 100%|██████████| 294/294 [03:27<00:00,  1.42it/s]\n"
          ]
        },
        {
          "name": "stdout",
          "output_type": "stream",
          "text": [
            "Epoch 136/200 FINISHED => Train Loss: 0.7761, Val Loss: 0.9218, Train Acc: 70.78%, Val Acc: 66.47%\n"
          ]
        },
        {
          "name": "stderr",
          "output_type": "stream",
          "text": [
            "Epoch 137/200 - Training: 100%|██████████| 294/294 [03:24<00:00,  1.44it/s]\n"
          ]
        },
        {
          "name": "stdout",
          "output_type": "stream",
          "text": [
            "Epoch 137/200 FINISHED => Train Loss: 0.7868, Val Loss: 0.9362, Train Acc: 70.04%, Val Acc: 64.89%\n"
          ]
        },
        {
          "name": "stderr",
          "output_type": "stream",
          "text": [
            "Epoch 138/200 - Training: 100%|██████████| 294/294 [03:23<00:00,  1.45it/s]\n"
          ]
        },
        {
          "name": "stdout",
          "output_type": "stream",
          "text": [
            "Epoch 138/200 FINISHED => Train Loss: 0.7796, Val Loss: 0.9354, Train Acc: 70.79%, Val Acc: 65.19%\n"
          ]
        },
        {
          "name": "stderr",
          "output_type": "stream",
          "text": [
            "Epoch 139/200 - Training: 100%|██████████| 294/294 [03:18<00:00,  1.48it/s]\n"
          ]
        },
        {
          "name": "stdout",
          "output_type": "stream",
          "text": [
            "Epoch 139/200 FINISHED => Train Loss: 0.7662, Val Loss: 0.9357, Train Acc: 71.24%, Val Acc: 65.36%\n"
          ]
        },
        {
          "name": "stderr",
          "output_type": "stream",
          "text": [
            "Epoch 140/200 - Training: 100%|██████████| 294/294 [03:26<00:00,  1.42it/s]\n"
          ]
        },
        {
          "name": "stdout",
          "output_type": "stream",
          "text": [
            "Epoch 140/200 FINISHED => Train Loss: 0.7735, Val Loss: 0.9263, Train Acc: 70.67%, Val Acc: 64.98%\n"
          ]
        },
        {
          "name": "stderr",
          "output_type": "stream",
          "text": [
            "Epoch 141/200 - Training: 100%|██████████| 294/294 [04:08<00:00,  1.18it/s]\n"
          ]
        },
        {
          "name": "stdout",
          "output_type": "stream",
          "text": [
            "Epoch 141/200 FINISHED => Train Loss: 0.7709, Val Loss: 0.9330, Train Acc: 70.91%, Val Acc: 65.91%\n"
          ]
        },
        {
          "name": "stderr",
          "output_type": "stream",
          "text": [
            "Epoch 142/200 - Training: 100%|██████████| 294/294 [03:52<00:00,  1.27it/s]\n"
          ]
        },
        {
          "name": "stdout",
          "output_type": "stream",
          "text": [
            "Epoch 142/200 FINISHED => Train Loss: 0.7791, Val Loss: 0.9371, Train Acc: 70.39%, Val Acc: 65.57%\n"
          ]
        },
        {
          "name": "stderr",
          "output_type": "stream",
          "text": [
            "Epoch 143/200 - Training: 100%|██████████| 294/294 [03:47<00:00,  1.29it/s]\n"
          ]
        },
        {
          "name": "stdout",
          "output_type": "stream",
          "text": [
            "Epoch 143/200 FINISHED => Train Loss: 0.7747, Val Loss: 0.9376, Train Acc: 70.25%, Val Acc: 64.94%\n"
          ]
        },
        {
          "name": "stderr",
          "output_type": "stream",
          "text": [
            "Epoch 144/200 - Training: 100%|██████████| 294/294 [03:40<00:00,  1.33it/s]\n"
          ]
        },
        {
          "name": "stdout",
          "output_type": "stream",
          "text": [
            "Epoch 144/200 FINISHED => Train Loss: 0.7651, Val Loss: 0.9319, Train Acc: 71.12%, Val Acc: 65.45%\n"
          ]
        },
        {
          "name": "stderr",
          "output_type": "stream",
          "text": [
            "Epoch 145/200 - Training: 100%|██████████| 294/294 [03:39<00:00,  1.34it/s]\n"
          ]
        },
        {
          "name": "stdout",
          "output_type": "stream",
          "text": [
            "Epoch 145/200 FINISHED => Train Loss: 0.7819, Val Loss: 0.9352, Train Acc: 70.18%, Val Acc: 65.45%\n"
          ]
        },
        {
          "name": "stderr",
          "output_type": "stream",
          "text": [
            "Epoch 146/200 - Training: 100%|██████████| 294/294 [03:43<00:00,  1.32it/s]\n"
          ]
        },
        {
          "name": "stdout",
          "output_type": "stream",
          "text": [
            "Epoch 146/200 FINISHED => Train Loss: 0.7821, Val Loss: 0.9364, Train Acc: 70.19%, Val Acc: 65.19%\n"
          ]
        },
        {
          "name": "stderr",
          "output_type": "stream",
          "text": [
            "Epoch 147/200 - Training: 100%|██████████| 294/294 [03:45<00:00,  1.31it/s]\n"
          ]
        },
        {
          "name": "stdout",
          "output_type": "stream",
          "text": [
            "Epoch 147/200 FINISHED => Train Loss: 0.7755, Val Loss: 0.9396, Train Acc: 70.22%, Val Acc: 64.72%\n"
          ]
        },
        {
          "name": "stderr",
          "output_type": "stream",
          "text": [
            "Epoch 148/200 - Training: 100%|██████████| 294/294 [04:03<00:00,  1.21it/s]\n"
          ]
        },
        {
          "name": "stdout",
          "output_type": "stream",
          "text": [
            "Epoch 148/200 FINISHED => Train Loss: 0.7780, Val Loss: 0.9208, Train Acc: 70.44%, Val Acc: 66.09%\n"
          ]
        },
        {
          "name": "stderr",
          "output_type": "stream",
          "text": [
            "Epoch 149/200 - Training: 100%|██████████| 294/294 [03:37<00:00,  1.35it/s]\n"
          ]
        },
        {
          "name": "stdout",
          "output_type": "stream",
          "text": [
            "Epoch 149/200 FINISHED => Train Loss: 0.7723, Val Loss: 0.9292, Train Acc: 70.92%, Val Acc: 65.74%\n"
          ]
        },
        {
          "name": "stderr",
          "output_type": "stream",
          "text": [
            "Epoch 150/200 - Training: 100%|██████████| 294/294 [03:49<00:00,  1.28it/s]\n"
          ]
        },
        {
          "name": "stdout",
          "output_type": "stream",
          "text": [
            "Epoch 150/200 FINISHED => Train Loss: 0.7770, Val Loss: 0.9254, Train Acc: 70.77%, Val Acc: 65.96%\n"
          ]
        },
        {
          "name": "stderr",
          "output_type": "stream",
          "text": [
            "Epoch 151/200 - Training: 100%|██████████| 294/294 [03:42<00:00,  1.32it/s]\n"
          ]
        },
        {
          "name": "stdout",
          "output_type": "stream",
          "text": [
            "Epoch 151/200 FINISHED => Train Loss: 0.7788, Val Loss: 0.9334, Train Acc: 71.02%, Val Acc: 65.66%\n"
          ]
        },
        {
          "name": "stderr",
          "output_type": "stream",
          "text": [
            "Epoch 152/200 - Training: 100%|██████████| 294/294 [03:24<00:00,  1.44it/s]\n"
          ]
        },
        {
          "name": "stdout",
          "output_type": "stream",
          "text": [
            "Epoch 152/200 FINISHED => Train Loss: 0.7790, Val Loss: 0.9270, Train Acc: 70.42%, Val Acc: 65.62%\n"
          ]
        },
        {
          "name": "stderr",
          "output_type": "stream",
          "text": [
            "Epoch 153/200 - Training: 100%|██████████| 294/294 [03:20<00:00,  1.46it/s]\n"
          ]
        },
        {
          "name": "stdout",
          "output_type": "stream",
          "text": [
            "Epoch 153/200 FINISHED => Train Loss: 0.7676, Val Loss: 0.9417, Train Acc: 71.11%, Val Acc: 64.94%\n"
          ]
        },
        {
          "name": "stderr",
          "output_type": "stream",
          "text": [
            "Epoch 154/200 - Training: 100%|██████████| 294/294 [03:22<00:00,  1.45it/s]\n"
          ]
        },
        {
          "name": "stdout",
          "output_type": "stream",
          "text": [
            "Epoch 154/200 FINISHED => Train Loss: 0.7741, Val Loss: 0.9464, Train Acc: 70.38%, Val Acc: 65.06%\n"
          ]
        },
        {
          "name": "stderr",
          "output_type": "stream",
          "text": [
            "Epoch 155/200 - Training: 100%|██████████| 294/294 [03:57<00:00,  1.24it/s]\n"
          ]
        },
        {
          "name": "stdout",
          "output_type": "stream",
          "text": [
            "Epoch 155/200 FINISHED => Train Loss: 0.7755, Val Loss: 0.9362, Train Acc: 70.29%, Val Acc: 64.89%\n"
          ]
        },
        {
          "name": "stderr",
          "output_type": "stream",
          "text": [
            "Epoch 156/200 - Training: 100%|██████████| 294/294 [03:28<00:00,  1.41it/s]\n"
          ]
        },
        {
          "name": "stdout",
          "output_type": "stream",
          "text": [
            "Epoch 156/200 FINISHED => Train Loss: 0.7769, Val Loss: 0.9385, Train Acc: 70.44%, Val Acc: 65.11%\n"
          ]
        },
        {
          "name": "stderr",
          "output_type": "stream",
          "text": [
            "Epoch 157/200 - Training: 100%|██████████| 294/294 [03:15<00:00,  1.51it/s]\n"
          ]
        },
        {
          "name": "stdout",
          "output_type": "stream",
          "text": [
            "Epoch 157/200 FINISHED => Train Loss: 0.7763, Val Loss: 0.9281, Train Acc: 70.30%, Val Acc: 65.91%\n"
          ]
        },
        {
          "name": "stderr",
          "output_type": "stream",
          "text": [
            "Epoch 158/200 - Training: 100%|██████████| 294/294 [03:12<00:00,  1.53it/s]\n"
          ]
        },
        {
          "name": "stdout",
          "output_type": "stream",
          "text": [
            "Epoch 158/200 FINISHED => Train Loss: 0.7763, Val Loss: 0.9291, Train Acc: 70.96%, Val Acc: 65.62%\n"
          ]
        },
        {
          "name": "stderr",
          "output_type": "stream",
          "text": [
            "Epoch 159/200 - Training: 100%|██████████| 294/294 [03:53<00:00,  1.26it/s]\n"
          ]
        },
        {
          "name": "stdout",
          "output_type": "stream",
          "text": [
            "Epoch 159/200 FINISHED => Train Loss: 0.7825, Val Loss: 0.9342, Train Acc: 70.26%, Val Acc: 65.45%\n"
          ]
        },
        {
          "name": "stderr",
          "output_type": "stream",
          "text": [
            "Epoch 160/200 - Training: 100%|██████████| 294/294 [03:37<00:00,  1.35it/s]\n"
          ]
        },
        {
          "name": "stdout",
          "output_type": "stream",
          "text": [
            "Epoch 160/200 FINISHED => Train Loss: 0.7852, Val Loss: 0.9243, Train Acc: 70.21%, Val Acc: 66.13%\n"
          ]
        },
        {
          "name": "stderr",
          "output_type": "stream",
          "text": [
            "Epoch 161/200 - Training: 100%|██████████| 294/294 [03:25<00:00,  1.43it/s]\n"
          ]
        },
        {
          "name": "stdout",
          "output_type": "stream",
          "text": [
            "Epoch 161/200 FINISHED => Train Loss: 0.7767, Val Loss: 0.9360, Train Acc: 70.44%, Val Acc: 65.45%\n"
          ]
        },
        {
          "name": "stderr",
          "output_type": "stream",
          "text": [
            "Epoch 162/200 - Training: 100%|██████████| 294/294 [03:21<00:00,  1.46it/s]\n"
          ]
        },
        {
          "name": "stdout",
          "output_type": "stream",
          "text": [
            "Epoch 162/200 FINISHED => Train Loss: 0.7693, Val Loss: 0.9307, Train Acc: 70.63%, Val Acc: 65.28%\n"
          ]
        },
        {
          "name": "stderr",
          "output_type": "stream",
          "text": [
            "Epoch 163/200 - Training: 100%|██████████| 294/294 [03:25<00:00,  1.43it/s]\n"
          ]
        },
        {
          "name": "stdout",
          "output_type": "stream",
          "text": [
            "Epoch 163/200 FINISHED => Train Loss: 0.7759, Val Loss: 0.9299, Train Acc: 71.08%, Val Acc: 65.87%\n"
          ]
        },
        {
          "name": "stderr",
          "output_type": "stream",
          "text": [
            "Epoch 164/200 - Training: 100%|██████████| 294/294 [03:22<00:00,  1.45it/s]\n"
          ]
        },
        {
          "name": "stdout",
          "output_type": "stream",
          "text": [
            "Epoch 164/200 FINISHED => Train Loss: 0.7703, Val Loss: 0.9365, Train Acc: 70.93%, Val Acc: 64.68%\n"
          ]
        },
        {
          "name": "stderr",
          "output_type": "stream",
          "text": [
            "Epoch 165/200 - Training: 100%|██████████| 294/294 [03:23<00:00,  1.44it/s]\n"
          ]
        },
        {
          "name": "stdout",
          "output_type": "stream",
          "text": [
            "Epoch 165/200 FINISHED => Train Loss: 0.7817, Val Loss: 0.9300, Train Acc: 69.80%, Val Acc: 65.32%\n"
          ]
        },
        {
          "name": "stderr",
          "output_type": "stream",
          "text": [
            "Epoch 166/200 - Training: 100%|██████████| 294/294 [03:27<00:00,  1.42it/s]\n"
          ]
        },
        {
          "name": "stdout",
          "output_type": "stream",
          "text": [
            "Epoch 166/200 FINISHED => Train Loss: 0.7710, Val Loss: 0.9301, Train Acc: 70.35%, Val Acc: 65.70%\n"
          ]
        },
        {
          "name": "stderr",
          "output_type": "stream",
          "text": [
            "Epoch 167/200 - Training: 100%|██████████| 294/294 [03:22<00:00,  1.45it/s]\n"
          ]
        },
        {
          "name": "stdout",
          "output_type": "stream",
          "text": [
            "Epoch 167/200 FINISHED => Train Loss: 0.7763, Val Loss: 0.9333, Train Acc: 70.67%, Val Acc: 65.49%\n"
          ]
        },
        {
          "name": "stderr",
          "output_type": "stream",
          "text": [
            "Epoch 168/200 - Training: 100%|██████████| 294/294 [03:17<00:00,  1.49it/s]\n"
          ]
        },
        {
          "name": "stdout",
          "output_type": "stream",
          "text": [
            "Epoch 168/200 FINISHED => Train Loss: 0.7775, Val Loss: 0.9376, Train Acc: 70.75%, Val Acc: 65.02%\n"
          ]
        },
        {
          "name": "stderr",
          "output_type": "stream",
          "text": [
            "Epoch 169/200 - Training: 100%|██████████| 294/294 [03:50<00:00,  1.27it/s]\n"
          ]
        },
        {
          "name": "stdout",
          "output_type": "stream",
          "text": [
            "Epoch 169/200 FINISHED => Train Loss: 0.7752, Val Loss: 0.9296, Train Acc: 70.88%, Val Acc: 65.96%\n"
          ]
        },
        {
          "name": "stderr",
          "output_type": "stream",
          "text": [
            "Epoch 170/200 - Training: 100%|██████████| 294/294 [03:27<00:00,  1.42it/s]\n"
          ]
        },
        {
          "name": "stdout",
          "output_type": "stream",
          "text": [
            "Epoch 170/200 FINISHED => Train Loss: 0.7768, Val Loss: 0.9321, Train Acc: 70.54%, Val Acc: 65.53%\n"
          ]
        },
        {
          "name": "stderr",
          "output_type": "stream",
          "text": [
            "Epoch 171/200 - Training: 100%|██████████| 294/294 [03:22<00:00,  1.45it/s]\n"
          ]
        },
        {
          "name": "stdout",
          "output_type": "stream",
          "text": [
            "Epoch 171/200 FINISHED => Train Loss: 0.7740, Val Loss: 0.9270, Train Acc: 70.74%, Val Acc: 65.45%\n"
          ]
        },
        {
          "name": "stderr",
          "output_type": "stream",
          "text": [
            "Epoch 172/200 - Training: 100%|██████████| 294/294 [03:39<00:00,  1.34it/s]\n"
          ]
        },
        {
          "name": "stdout",
          "output_type": "stream",
          "text": [
            "Epoch 172/200 FINISHED => Train Loss: 0.7747, Val Loss: 0.9263, Train Acc: 70.67%, Val Acc: 65.57%\n"
          ]
        },
        {
          "name": "stderr",
          "output_type": "stream",
          "text": [
            "Epoch 173/200 - Training: 100%|██████████| 294/294 [04:08<00:00,  1.18it/s]\n"
          ]
        },
        {
          "name": "stdout",
          "output_type": "stream",
          "text": [
            "Epoch 173/200 FINISHED => Train Loss: 0.7718, Val Loss: 0.9375, Train Acc: 70.44%, Val Acc: 65.36%\n"
          ]
        },
        {
          "name": "stderr",
          "output_type": "stream",
          "text": [
            "Epoch 174/200 - Training: 100%|██████████| 294/294 [04:00<00:00,  1.22it/s]\n"
          ]
        },
        {
          "name": "stdout",
          "output_type": "stream",
          "text": [
            "Epoch 174/200 FINISHED => Train Loss: 0.7752, Val Loss: 0.9249, Train Acc: 70.33%, Val Acc: 65.87%\n"
          ]
        },
        {
          "name": "stderr",
          "output_type": "stream",
          "text": [
            "Epoch 175/200 - Training: 100%|██████████| 294/294 [03:26<00:00,  1.43it/s]\n"
          ]
        },
        {
          "name": "stdout",
          "output_type": "stream",
          "text": [
            "Epoch 175/200 FINISHED => Train Loss: 0.7774, Val Loss: 0.9406, Train Acc: 70.42%, Val Acc: 65.19%\n"
          ]
        },
        {
          "name": "stderr",
          "output_type": "stream",
          "text": [
            "Epoch 176/200 - Training: 100%|██████████| 294/294 [03:30<00:00,  1.40it/s]\n"
          ]
        },
        {
          "name": "stdout",
          "output_type": "stream",
          "text": [
            "Epoch 176/200 FINISHED => Train Loss: 0.7886, Val Loss: 0.9258, Train Acc: 70.19%, Val Acc: 66.09%\n"
          ]
        },
        {
          "name": "stderr",
          "output_type": "stream",
          "text": [
            "Epoch 177/200 - Training: 100%|██████████| 294/294 [04:04<00:00,  1.20it/s]\n"
          ]
        },
        {
          "name": "stdout",
          "output_type": "stream",
          "text": [
            "Epoch 177/200 FINISHED => Train Loss: 0.7758, Val Loss: 0.9310, Train Acc: 70.61%, Val Acc: 65.66%\n"
          ]
        },
        {
          "name": "stderr",
          "output_type": "stream",
          "text": [
            "Epoch 178/200 - Training: 100%|██████████| 294/294 [03:58<00:00,  1.23it/s]\n"
          ]
        },
        {
          "name": "stdout",
          "output_type": "stream",
          "text": [
            "Epoch 178/200 FINISHED => Train Loss: 0.7732, Val Loss: 0.9360, Train Acc: 70.83%, Val Acc: 64.64%\n"
          ]
        },
        {
          "name": "stderr",
          "output_type": "stream",
          "text": [
            "Epoch 179/200 - Training: 100%|██████████| 294/294 [03:54<00:00,  1.25it/s]\n"
          ]
        },
        {
          "name": "stdout",
          "output_type": "stream",
          "text": [
            "Epoch 179/200 FINISHED => Train Loss: 0.7689, Val Loss: 0.9317, Train Acc: 70.98%, Val Acc: 65.57%\n"
          ]
        },
        {
          "name": "stderr",
          "output_type": "stream",
          "text": [
            "Epoch 180/200 - Training: 100%|██████████| 294/294 [03:46<00:00,  1.30it/s]\n"
          ]
        },
        {
          "name": "stdout",
          "output_type": "stream",
          "text": [
            "Epoch 180/200 FINISHED => Train Loss: 0.7848, Val Loss: 0.9346, Train Acc: 70.17%, Val Acc: 65.53%\n"
          ]
        },
        {
          "name": "stderr",
          "output_type": "stream",
          "text": [
            "Epoch 181/200 - Training: 100%|██████████| 294/294 [03:25<00:00,  1.43it/s]\n"
          ]
        },
        {
          "name": "stdout",
          "output_type": "stream",
          "text": [
            "Epoch 181/200 FINISHED => Train Loss: 0.7780, Val Loss: 0.9242, Train Acc: 70.38%, Val Acc: 65.79%\n"
          ]
        },
        {
          "name": "stderr",
          "output_type": "stream",
          "text": [
            "Epoch 182/200 - Training: 100%|██████████| 294/294 [02:59<00:00,  1.64it/s]\n"
          ]
        },
        {
          "name": "stdout",
          "output_type": "stream",
          "text": [
            "Epoch 182/200 FINISHED => Train Loss: 0.7726, Val Loss: 0.9293, Train Acc: 70.85%, Val Acc: 65.74%\n"
          ]
        },
        {
          "name": "stderr",
          "output_type": "stream",
          "text": [
            "Epoch 183/200 - Training: 100%|██████████| 294/294 [03:41<00:00,  1.32it/s]\n"
          ]
        },
        {
          "name": "stdout",
          "output_type": "stream",
          "text": [
            "Epoch 183/200 FINISHED => Train Loss: 0.7676, Val Loss: 0.9336, Train Acc: 71.16%, Val Acc: 65.23%\n"
          ]
        },
        {
          "name": "stderr",
          "output_type": "stream",
          "text": [
            "Epoch 184/200 - Training: 100%|██████████| 294/294 [03:03<00:00,  1.60it/s]\n"
          ]
        },
        {
          "name": "stdout",
          "output_type": "stream",
          "text": [
            "Epoch 184/200 FINISHED => Train Loss: 0.7752, Val Loss: 0.9260, Train Acc: 70.55%, Val Acc: 65.74%\n"
          ]
        },
        {
          "name": "stderr",
          "output_type": "stream",
          "text": [
            "Epoch 185/200 - Training: 100%|██████████| 294/294 [02:18<00:00,  2.12it/s]\n"
          ]
        },
        {
          "name": "stdout",
          "output_type": "stream",
          "text": [
            "Epoch 185/200 FINISHED => Train Loss: 0.7768, Val Loss: 0.9349, Train Acc: 70.58%, Val Acc: 65.32%\n"
          ]
        },
        {
          "name": "stderr",
          "output_type": "stream",
          "text": [
            "Epoch 186/200 - Training: 100%|██████████| 294/294 [02:24<00:00,  2.03it/s]\n"
          ]
        },
        {
          "name": "stdout",
          "output_type": "stream",
          "text": [
            "Epoch 186/200 FINISHED => Train Loss: 0.7753, Val Loss: 0.9320, Train Acc: 70.88%, Val Acc: 65.23%\n"
          ]
        },
        {
          "name": "stderr",
          "output_type": "stream",
          "text": [
            "Epoch 187/200 - Training: 100%|██████████| 294/294 [02:24<00:00,  2.04it/s]\n"
          ]
        },
        {
          "name": "stdout",
          "output_type": "stream",
          "text": [
            "Epoch 187/200 FINISHED => Train Loss: 0.7753, Val Loss: 0.9445, Train Acc: 70.80%, Val Acc: 64.94%\n"
          ]
        },
        {
          "name": "stderr",
          "output_type": "stream",
          "text": [
            "Epoch 188/200 - Training: 100%|██████████| 294/294 [02:22<00:00,  2.06it/s]\n"
          ]
        },
        {
          "name": "stdout",
          "output_type": "stream",
          "text": [
            "Epoch 188/200 FINISHED => Train Loss: 0.7756, Val Loss: 0.9417, Train Acc: 70.48%, Val Acc: 64.89%\n"
          ]
        },
        {
          "name": "stderr",
          "output_type": "stream",
          "text": [
            "Epoch 189/200 - Training: 100%|██████████| 294/294 [02:18<00:00,  2.13it/s]\n"
          ]
        },
        {
          "name": "stdout",
          "output_type": "stream",
          "text": [
            "Epoch 189/200 FINISHED => Train Loss: 0.7720, Val Loss: 0.9331, Train Acc: 70.57%, Val Acc: 65.36%\n"
          ]
        },
        {
          "name": "stderr",
          "output_type": "stream",
          "text": [
            "Epoch 190/200 - Training: 100%|██████████| 294/294 [02:18<00:00,  2.13it/s]\n"
          ]
        },
        {
          "name": "stdout",
          "output_type": "stream",
          "text": [
            "Epoch 190/200 FINISHED => Train Loss: 0.7758, Val Loss: 0.9232, Train Acc: 70.99%, Val Acc: 66.04%\n"
          ]
        },
        {
          "name": "stderr",
          "output_type": "stream",
          "text": [
            "Epoch 191/200 - Training: 100%|██████████| 294/294 [02:18<00:00,  2.13it/s]\n"
          ]
        },
        {
          "name": "stdout",
          "output_type": "stream",
          "text": [
            "Epoch 191/200 FINISHED => Train Loss: 0.7690, Val Loss: 0.9294, Train Acc: 70.85%, Val Acc: 65.53%\n"
          ]
        },
        {
          "name": "stderr",
          "output_type": "stream",
          "text": [
            "Epoch 192/200 - Training: 100%|██████████| 294/294 [02:19<00:00,  2.11it/s]\n"
          ]
        },
        {
          "name": "stdout",
          "output_type": "stream",
          "text": [
            "Epoch 192/200 FINISHED => Train Loss: 0.7802, Val Loss: 0.9286, Train Acc: 71.05%, Val Acc: 65.45%\n"
          ]
        },
        {
          "name": "stderr",
          "output_type": "stream",
          "text": [
            "Epoch 193/200 - Training: 100%|██████████| 294/294 [02:26<00:00,  2.01it/s]\n"
          ]
        },
        {
          "name": "stdout",
          "output_type": "stream",
          "text": [
            "Epoch 193/200 FINISHED => Train Loss: 0.7819, Val Loss: 0.9431, Train Acc: 70.00%, Val Acc: 64.85%\n"
          ]
        },
        {
          "name": "stderr",
          "output_type": "stream",
          "text": [
            "Epoch 194/200 - Training: 100%|██████████| 294/294 [03:26<00:00,  1.42it/s]\n"
          ]
        },
        {
          "name": "stdout",
          "output_type": "stream",
          "text": [
            "Epoch 194/200 FINISHED => Train Loss: 0.7860, Val Loss: 0.9276, Train Acc: 70.47%, Val Acc: 66.21%\n"
          ]
        },
        {
          "name": "stderr",
          "output_type": "stream",
          "text": [
            "Epoch 195/200 - Training: 100%|██████████| 294/294 [03:23<00:00,  1.44it/s]\n"
          ]
        },
        {
          "name": "stdout",
          "output_type": "stream",
          "text": [
            "Epoch 195/200 FINISHED => Train Loss: 0.7786, Val Loss: 0.9319, Train Acc: 70.25%, Val Acc: 65.45%\n"
          ]
        },
        {
          "name": "stderr",
          "output_type": "stream",
          "text": [
            "Epoch 196/200 - Training: 100%|██████████| 294/294 [03:32<00:00,  1.38it/s]\n"
          ]
        },
        {
          "name": "stdout",
          "output_type": "stream",
          "text": [
            "Epoch 196/200 FINISHED => Train Loss: 0.7778, Val Loss: 0.9291, Train Acc: 70.83%, Val Acc: 65.57%\n"
          ]
        },
        {
          "name": "stderr",
          "output_type": "stream",
          "text": [
            "Epoch 197/200 - Training: 100%|██████████| 294/294 [03:35<00:00,  1.36it/s]\n"
          ]
        },
        {
          "name": "stdout",
          "output_type": "stream",
          "text": [
            "Epoch 197/200 FINISHED => Train Loss: 0.7753, Val Loss: 0.9327, Train Acc: 70.48%, Val Acc: 65.74%\n"
          ]
        },
        {
          "name": "stderr",
          "output_type": "stream",
          "text": [
            "Epoch 198/200 - Training: 100%|██████████| 294/294 [03:27<00:00,  1.42it/s]\n"
          ]
        },
        {
          "name": "stdout",
          "output_type": "stream",
          "text": [
            "Epoch 198/200 FINISHED => Train Loss: 0.7707, Val Loss: 0.9378, Train Acc: 71.01%, Val Acc: 65.11%\n"
          ]
        },
        {
          "name": "stderr",
          "output_type": "stream",
          "text": [
            "Epoch 199/200 - Training: 100%|██████████| 294/294 [03:50<00:00,  1.28it/s]\n"
          ]
        },
        {
          "name": "stdout",
          "output_type": "stream",
          "text": [
            "Epoch 199/200 FINISHED => Train Loss: 0.7644, Val Loss: 0.9397, Train Acc: 70.64%, Val Acc: 65.19%\n"
          ]
        },
        {
          "name": "stderr",
          "output_type": "stream",
          "text": [
            "Epoch 200/200 - Training: 100%|██████████| 294/294 [03:42<00:00,  1.32it/s]\n"
          ]
        },
        {
          "name": "stdout",
          "output_type": "stream",
          "text": [
            "Epoch 200/200 FINISHED => Train Loss: 0.7747, Val Loss: 0.9261, Train Acc: 70.62%, Val Acc: 65.70%\n"
          ]
        }
      ],
      "source": [
        "# Inicialización de tensorboard\n",
        "executionModelDateTime = datetime.now().strftime(\"Ejecucion %d-%m-%Y %H-%M\")\n",
        "writer = SummaryWriter(log_dir=os.path.join(logsRoute,executionModelDateTime))\n",
        "\n",
        "# Crear los DataLoader\n",
        "train_dataloader = DataLoader(train_dataset, batch_size=batch_size, shuffle=True, num_workers=0)\n",
        "val_dataloader = DataLoader(val_dataset, batch_size=batch_size, shuffle=False, num_workers=0)\n",
        "\n",
        "# Definición de la cantidad de clases, la función de perdida, el optimizador y el learning rate estático\n",
        "modelAt = ResNet18WithAttention(num_classes=num_classes)\n",
        "criterion = nn.CrossEntropyLoss()\n",
        "optimizer = optim.SGD(modelAt.parameters(), lr=learning_rate, momentum=0.9,weight_decay=1e-3)\n",
        "scheduler = optim.lr_scheduler.ReduceLROnPlateau(optimizer, mode='min', factor=0.5, patience=3)\n",
        "model = modelAt.to(device)\n",
        "executionStatistics_list = []\n",
        "\n",
        "for epoch in range(num_epochs):\n",
        "    model.train()  # Modo entrenamiento\n",
        "    running_loss = 0.0\n",
        "    correct_preds = 0\n",
        "    total_preds = 0\n",
        "\n",
        "    # Entrenamiento\n",
        "    for inputs, labels in tqdm(train_dataloader, desc=f\"Epoch {epoch+1}/{num_epochs} - Training\", leave=True):\n",
        "        inputs, labels = inputs.to(device), labels.to(device)\n",
        "        optimizer.zero_grad()\n",
        "        outputs = model(inputs)\n",
        "        loss = criterion(outputs, labels)\n",
        "        loss.backward()\n",
        "        optimizer.step()\n",
        "\n",
        "        # Estadísticas de la pérdida\n",
        "        running_loss += loss.item()\n",
        "        # Precisión\n",
        "        _, predicted = torch.max(outputs, 1)\n",
        "        correct_preds += (predicted == labels).sum().item()\n",
        "        total_preds += labels.size(0)\n",
        "\n",
        "    #print(f\"Epoch {epoch+1}/{num_epochs}, Loss: {running_loss/len(train_dataloader)}, Accuracy: {100 * correct_preds / total_preds}%\")\n",
        "    train_loss = running_loss / len(train_dataloader)\n",
        "    train_accuracy = 100 * correct_preds / total_preds\n",
        "\n",
        "    # Validación\n",
        "    model.eval()  # Modo evaluación\n",
        "    running_val_loss = 0.0\n",
        "    correct_val = 0\n",
        "    total_val = 0\n",
        "    all_groundtruth = []\n",
        "    all_predictions = []\n",
        "\n",
        "    with torch.no_grad():  # No calcular gradientes durante la validación\n",
        "        for inputs, labels in val_dataloader:\n",
        "            inputs, labels = inputs.to(device), labels.to(device)\n",
        "            outputs = model(inputs)\n",
        "            loss = criterion(outputs, labels)\n",
        "            running_val_loss += loss.item()\n",
        "            \n",
        "            _, predicted = torch.max(outputs, 1)\n",
        "            correct_val += (predicted == labels).sum().item()  # Usamos correct_val en lugar de correct_preds\n",
        "            total_val += labels.size(0)  # Usamos total_val en lugar de total_preds\n",
        "\n",
        "            all_groundtruth.extend(labels.cpu().numpy())\n",
        "            all_predictions.extend(predicted.cpu().numpy())\n",
        "\n",
        "    val_loss = running_val_loss/len(val_dataloader)\n",
        "    val_accuracy = 100 * correct_val / total_val\n",
        "    \n",
        "    # Ajustar la tasa de aprendizaje si la pérdida de validación no mejora\n",
        "    scheduler.step(val_loss)\n",
        "    \n",
        "    # Agregar valores a TensorBoard\n",
        "    writer.add_scalar(\"Loss/Train\", train_loss, epoch)\n",
        "    writer.add_scalar(\"Loss/Validation\", val_loss, epoch)\n",
        "    writer.add_scalar(\"Accuracy/Train\", train_accuracy, epoch)\n",
        "    writer.add_scalar(\"Accuracy/Validation\", val_accuracy, epoch)\n",
        "\n",
        "    # Obtener los nombres de las clases (suponiendo que están en df_filtrados.columns)\n",
        "    labels_names = list(df_filtrado['diagnosis'].unique())\n",
        "    # Registrar el heatmap y la grilla de valores en TensorBoard\n",
        "    log_heatmap(writer, epoch, all_groundtruth, all_predictions, labels_names)\n",
        "    log_values_predicted(writer, epoch, all_groundtruth, all_predictions)\n",
        "    \n",
        "    # Carga de hiperparametros y metricas\n",
        "    execution_statistics = {\n",
        "        \"epoch\": epoch,\n",
        "        \"batch_size\": batch_size,\n",
        "        \"learning_rate\": learning_rate,\n",
        "        \"num_epochs\": num_epochs,\n",
        "        \"Train Loss\": train_loss,\n",
        "        \"Validation Loss\": val_loss,\n",
        "        \"Train Accuracy\": train_accuracy,\n",
        "        \"Validation Accuracy\": val_accuracy\n",
        "        \n",
        "    }\n",
        "    \n",
        "    executionStatistics_list.append(execution_statistics)\n",
        "    \n",
        "    # Gráfica de loss y accuracy por cada epoca\n",
        "    writer.add_scalars(\"Loss\", {\"Train\": train_loss, \"Validation\": val_loss}, epoch)\n",
        "    writer.add_scalars(\"Accuracy\", {\"Train\": train_accuracy, \"Validation\": val_accuracy}, epoch)\n",
        "    \n",
        "    \n",
        "    print(f\"Epoch {epoch+1}/{num_epochs} FINISHED => \"\n",
        "        f\"Train Loss: {train_loss:.4f}, Val Loss: {val_loss:.4f}, \"\n",
        "        f\"Train Acc: {train_accuracy:.2f}%, Val Acc: {val_accuracy:.2f}%\")\n",
        "    \n",
        "\n",
        "\n",
        "writer.flush()\n",
        "writer.close()"
      ]
    },
    {
      "cell_type": "markdown",
      "metadata": {},
      "source": [
        "## Visualización de arquitectura del modelo"
      ]
    },
    {
      "cell_type": "code",
      "execution_count": 19,
      "metadata": {},
      "outputs": [
        {
          "name": "stdout",
          "output_type": "stream",
          "text": [
            "----------------------------------------------------------------\n",
            "        Layer (type)               Output Shape         Param #\n",
            "================================================================\n",
            "            Conv2d-1           [-1, 64, 32, 32]           9,408\n",
            "       BatchNorm2d-2           [-1, 64, 32, 32]             128\n",
            "              ReLU-3           [-1, 64, 32, 32]               0\n",
            "         MaxPool2d-4           [-1, 64, 16, 16]               0\n",
            "            Conv2d-5           [-1, 64, 16, 16]          36,864\n",
            "       BatchNorm2d-6           [-1, 64, 16, 16]             128\n",
            "              ReLU-7           [-1, 64, 16, 16]               0\n",
            "            Conv2d-8           [-1, 64, 16, 16]          36,864\n",
            "       BatchNorm2d-9           [-1, 64, 16, 16]             128\n",
            "             ReLU-10           [-1, 64, 16, 16]               0\n",
            "       BasicBlock-11           [-1, 64, 16, 16]               0\n",
            "           Conv2d-12           [-1, 64, 16, 16]          36,864\n",
            "      BatchNorm2d-13           [-1, 64, 16, 16]             128\n",
            "             ReLU-14           [-1, 64, 16, 16]               0\n",
            "           Conv2d-15           [-1, 64, 16, 16]          36,864\n",
            "      BatchNorm2d-16           [-1, 64, 16, 16]             128\n",
            "             ReLU-17           [-1, 64, 16, 16]               0\n",
            "       BasicBlock-18           [-1, 64, 16, 16]               0\n",
            "           Conv2d-19            [-1, 128, 8, 8]          73,728\n",
            "      BatchNorm2d-20            [-1, 128, 8, 8]             256\n",
            "             ReLU-21            [-1, 128, 8, 8]               0\n",
            "           Conv2d-22            [-1, 128, 8, 8]         147,456\n",
            "      BatchNorm2d-23            [-1, 128, 8, 8]             256\n",
            "           Conv2d-24            [-1, 128, 8, 8]           8,192\n",
            "      BatchNorm2d-25            [-1, 128, 8, 8]             256\n",
            "             ReLU-26            [-1, 128, 8, 8]               0\n",
            "       BasicBlock-27            [-1, 128, 8, 8]               0\n",
            "           Conv2d-28            [-1, 128, 8, 8]         147,456\n",
            "      BatchNorm2d-29            [-1, 128, 8, 8]             256\n",
            "             ReLU-30            [-1, 128, 8, 8]               0\n",
            "           Conv2d-31            [-1, 128, 8, 8]         147,456\n",
            "      BatchNorm2d-32            [-1, 128, 8, 8]             256\n",
            "             ReLU-33            [-1, 128, 8, 8]               0\n",
            "       BasicBlock-34            [-1, 128, 8, 8]               0\n",
            "           Conv2d-35            [-1, 256, 4, 4]         294,912\n",
            "      BatchNorm2d-36            [-1, 256, 4, 4]             512\n",
            "             ReLU-37            [-1, 256, 4, 4]               0\n",
            "           Conv2d-38            [-1, 256, 4, 4]         589,824\n",
            "      BatchNorm2d-39            [-1, 256, 4, 4]             512\n",
            "           Conv2d-40            [-1, 256, 4, 4]          32,768\n",
            "      BatchNorm2d-41            [-1, 256, 4, 4]             512\n",
            "             ReLU-42            [-1, 256, 4, 4]               0\n",
            "       BasicBlock-43            [-1, 256, 4, 4]               0\n",
            "           Conv2d-44            [-1, 256, 4, 4]         589,824\n",
            "      BatchNorm2d-45            [-1, 256, 4, 4]             512\n",
            "             ReLU-46            [-1, 256, 4, 4]               0\n",
            "           Conv2d-47            [-1, 256, 4, 4]         589,824\n",
            "      BatchNorm2d-48            [-1, 256, 4, 4]             512\n",
            "             ReLU-49            [-1, 256, 4, 4]               0\n",
            "       BasicBlock-50            [-1, 256, 4, 4]               0\n",
            "           Conv2d-51            [-1, 512, 2, 2]       1,179,648\n",
            "      BatchNorm2d-52            [-1, 512, 2, 2]           1,024\n",
            "             ReLU-53            [-1, 512, 2, 2]               0\n",
            "           Conv2d-54            [-1, 512, 2, 2]       2,359,296\n",
            "      BatchNorm2d-55            [-1, 512, 2, 2]           1,024\n",
            "           Conv2d-56            [-1, 512, 2, 2]         131,072\n",
            "      BatchNorm2d-57            [-1, 512, 2, 2]           1,024\n",
            "             ReLU-58            [-1, 512, 2, 2]               0\n",
            "       BasicBlock-59            [-1, 512, 2, 2]               0\n",
            "           Conv2d-60            [-1, 512, 2, 2]       2,359,296\n",
            "      BatchNorm2d-61            [-1, 512, 2, 2]           1,024\n",
            "             ReLU-62            [-1, 512, 2, 2]               0\n",
            "           Conv2d-63            [-1, 512, 2, 2]       2,359,296\n",
            "      BatchNorm2d-64            [-1, 512, 2, 2]           1,024\n",
            "             ReLU-65            [-1, 512, 2, 2]               0\n",
            "       BasicBlock-66            [-1, 512, 2, 2]               0\n",
            "           Conv2d-67              [-1, 1, 2, 2]             513\n",
            "          Softmax-68              [-1, 1, 2, 2]               0\n",
            " SpatialAttention-69            [-1, 512, 2, 2]               0\n",
            "AdaptiveAvgPool2d-70            [-1, 512, 1, 1]               0\n",
            "           Linear-71                  [-1, 512]         262,656\n",
            "      BatchNorm1d-72                  [-1, 512]           1,024\n",
            "             ReLU-73                  [-1, 512]               0\n",
            "          Dropout-74                  [-1, 512]               0\n",
            "           Linear-75                    [-1, 5]           2,565\n",
            "================================================================\n",
            "Total params: 11,443,270\n",
            "Trainable params: 10,760,198\n",
            "Non-trainable params: 683,072\n",
            "----------------------------------------------------------------\n",
            "Input size (MB): 0.05\n",
            "Forward/backward pass size (MB): 5.16\n",
            "Params size (MB): 43.65\n",
            "Estimated Total Size (MB): 48.86\n",
            "----------------------------------------------------------------\n"
          ]
        }
      ],
      "source": [
        "summary(modelAt, (3, 64, 64))"
      ]
    },
    {
      "cell_type": "markdown",
      "metadata": {},
      "source": [
        "# Guardado de los resultados del modelo"
      ]
    },
    {
      "cell_type": "code",
      "execution_count": 20,
      "metadata": {},
      "outputs": [],
      "source": [
        "df_statistics = pd.DataFrame.from_dict(executionStatistics_list)\n",
        "df_statistics.to_excel(os.path.join(savedResultsRoute, f\"{executionModelDateTime}_results.xlsx\"), index=False)"
      ]
    },
    {
      "cell_type": "markdown",
      "metadata": {},
      "source": [
        "# Agregado de Hiperparámetros"
      ]
    },
    {
      "cell_type": "markdown",
      "metadata": {},
      "source": [
        "# Guardado del modelo"
      ]
    },
    {
      "cell_type": "markdown",
      "metadata": {},
      "source": [
        "**Guardado del modelo completo**"
      ]
    },
    {
      "cell_type": "code",
      "execution_count": 21,
      "metadata": {
        "id": "F8oSSsxF3tTB"
      },
      "outputs": [],
      "source": [
        "torch.save(model, os.path.join(savedModelsRoute, f\"{executionModelDateTime}_modelo_entrenado_resnet18_softAtt_ka_completo.pth\"))"
      ]
    },
    {
      "cell_type": "markdown",
      "metadata": {},
      "source": [
        "**Guardado de los pesos del modelo**"
      ]
    },
    {
      "cell_type": "code",
      "execution_count": 22,
      "metadata": {},
      "outputs": [],
      "source": [
        "torch.save(model.state_dict(), os.path.join(savedModelsRoute, f\"{executionModelDateTime}_modelo_entrenado_resnet18_softAtt_ka_pesos.pth\"))"
      ]
    },
    {
      "cell_type": "code",
      "execution_count": 23,
      "metadata": {},
      "outputs": [
        {
          "name": "stdout",
          "output_type": "stream",
          "text": [
            "{'MEL': 0, 'NV': 1, 'BCC': 2, 'BKL': 3, 'AK': 4}\n"
          ]
        }
      ],
      "source": [
        "# Mapeo de clases\n",
        "print(train_dataset.class_to_idx)"
      ]
    },
    {
      "cell_type": "markdown",
      "metadata": {},
      "source": [
        "# Prueba del modelo"
      ]
    },
    {
      "cell_type": "code",
      "execution_count": 24,
      "metadata": {},
      "outputs": [
        {
          "name": "stdout",
          "output_type": "stream",
          "text": [
            "3\n",
            "Predicción: BKL\n"
          ]
        }
      ],
      "source": [
        "model.eval()  # Ponemos el modelo en modo de evaluación\n",
        "\n",
        "# Paso 3: Cargar la imagen y aplicar las transformaciones\n",
        "image_path = 'ka.jpg'  # Pon aquí la ruta de tu imagen\n",
        "image = Image.open(image_path)  # Abrir la imagen\n",
        "image_tensor = val_transform(image)  # Aplicar las transformaciones\n",
        "\n",
        "image_tensor = image_tensor.unsqueeze(0)  # Convertirlo a un batch de tamaño 1\n",
        "\n",
        "# Paso 5: Mover la imagen al dispositivo (GPU o CPU)\n",
        "device = torch.device('cuda' if torch.cuda.is_available() else 'cpu')\n",
        "image_tensor = image_tensor.to(device)\n",
        "model = model.to(device)\n",
        "\n",
        "# Paso 6: Realizar la predicción\n",
        "with torch.no_grad():  # No necesitamos gradientes para la inferencia\n",
        "    output = model(image_tensor)\n",
        "\n",
        "# Paso 7: Convertir las predicciones en probabilidades con softmax\n",
        "probabilities = torch.nn.functional.softmax(output, dim=1)  # Usamos dim=1 porque tenemos un batch\n",
        "\n",
        "# Paso 8: Obtener la clase con la mayor probabilidad\n",
        "_, predicted_class = torch.max(probabilities, dim=1)\n",
        "\n",
        "# Paso 9: Interpretar la clase predicha\n",
        "# Usamos el mapeo que ya tienes de clases (el 'class_to_idx' que ya definiste en tu dataset)\n",
        "predicted_idx = predicted_class.item()  # Obtenemos el índice de la clase predicha\n",
        "print(predicted_idx)\n",
        "# Aquí usamos el mapeo de clases que creamos antes para convertir el índice a una clase legible\n",
        "predicted_class_name = [key for key, value in train_dataset.class_to_idx.items() if value == predicted_idx][0]\n",
        "\n",
        "# Mostrar la clase predicha\n",
        "print(f\"Predicción: {predicted_class_name}\")"
      ]
    }
  ],
  "metadata": {
    "colab": {
      "provenance": []
    },
    "kernelspec": {
      "display_name": "venv",
      "language": "python",
      "name": "python3"
    },
    "language_info": {
      "codemirror_mode": {
        "name": "ipython",
        "version": 3
      },
      "file_extension": ".py",
      "mimetype": "text/x-python",
      "name": "python",
      "nbconvert_exporter": "python",
      "pygments_lexer": "ipython3",
      "version": "3.11.2"
    }
  },
  "nbformat": 4,
  "nbformat_minor": 0
}
